{
 "cells": [
  {
   "cell_type": "markdown",
   "metadata": {},
   "source": [
    "# Self-Driving Car Engineer Nanodegree\n",
    "\n",
    "## Deep Learning\n",
    "\n",
    "## Project: Build a Traffic Sign Recognition Classifier\n",
    "\n",
    "In this notebook, a template is provided for you to implement your functionality in stages which is required to successfully complete this project. If additional code is required that cannot be included in the notebook, be sure that the Python code is successfully imported and included in your submission, if necessary. Sections that begin with **'Implementation'** in the header indicate where you should begin your implementation for your project. Note that some sections of implementation are optional, and will be marked with **'Optional'** in the header.\n",
    "\n",
    "In addition to implementing code, there will be questions that you must answer which relate to the project and your implementation. Each section where you will answer a question is preceded by a **'Question'** header. Carefully read each question and provide thorough answers in the following text boxes that begin with **'Answer:'**. Your project submission will be evaluated based on your answers to each of the questions and the implementation you provide.\n",
    "\n",
    ">**Note:** Code and Markdown cells can be executed using the **Shift + Enter** keyboard shortcut. In addition, Markdown cells can be edited by typically double-clicking the cell to enter edit mode."
   ]
  },
  {
   "cell_type": "markdown",
   "metadata": {},
   "source": [
    "---\n",
    "## Step 0: Load The Data"
   ]
  },
  {
   "cell_type": "code",
   "execution_count": 1,
   "metadata": {
    "collapsed": false
   },
   "outputs": [],
   "source": [
    "# Load pickled data\n",
    "import pickle\n",
    "\n",
    "# TODO: Fill this in based on where you saved the training and testing data\n",
    "# train & test data are downloaded into the datasets folder\n",
    "training_file = 'Datasets/train.p'\n",
    "testing_file = 'Datasets/test.p'\n",
    "\n",
    "with open(training_file, mode='rb') as f:\n",
    "    train = pickle.load(f)\n",
    "with open(testing_file, mode='rb') as f:\n",
    "    test = pickle.load(f)\n",
    "    \n",
    "X_train, y_train = train['features'], train['labels']\n",
    "X_test, y_test = test['features'], test['labels']"
   ]
  },
  {
   "cell_type": "markdown",
   "metadata": {},
   "source": [
    "training data: array of images\n",
    "x_train - training data\n",
    "y_train - training label\n",
    "\n",
    "testing data: array of images\n",
    "x_test - testing data\n",
    "y_test - testing labels"
   ]
  },
  {
   "cell_type": "markdown",
   "metadata": {},
   "source": [
    "---\n",
    "\n",
    "## Step 1: Dataset Summary & Exploration\n",
    "\n",
    "The pickled data is a dictionary with 4 key/value pairs:\n",
    "\n",
    "- `'features'` is a 4D array containing raw pixel data of the traffic sign images, (num examples, width, height, channels).\n",
    "- `'labels'` is a 1D array containing the label/class id of the traffic sign. The file `signnames.csv` contains id -> name mappings for each id.\n",
    "- `'sizes'` is a list containing tuples, (width, height) representing the the original width and height the image.\n",
    "- `'coords'` is a list containing tuples, (x1, y1, x2, y2) representing coordinates of a bounding box around the sign in the image. **THESE COORDINATES ASSUME THE ORIGINAL IMAGE. THE PICKLED DATA CONTAINS RESIZED VERSIONS (32 by 32) OF THESE IMAGES**\n",
    "\n",
    "Complete the basic data summary below."
   ]
  },
  {
   "cell_type": "code",
   "execution_count": 2,
   "metadata": {
    "collapsed": false
   },
   "outputs": [
    {
     "name": "stdout",
     "output_type": "stream",
     "text": [
      "Number of training examples = 39209\n",
      "Number of testing examples = 12630\n",
      "Image data shape = (32, 32, 3)\n",
      "Number of classes = 43\n"
     ]
    }
   ],
   "source": [
    "### Replace each question mark with the appropriate value.\n",
    "# Import Python dependencieis\n",
    "import numpy as np\n",
    "\n",
    "# TODO: Number of training examples\n",
    "n_train = len(y_train)\n",
    "\n",
    "# TODO: Number of testing examples.\n",
    "n_test = len(y_test)\n",
    "\n",
    "# TODO: What's the shape of an traffic sign image?\n",
    "image_shape = np.shape(X_train[0])\n",
    "\n",
    "\n",
    "# TODO: How many unique classes/labels there are in the dataset.\n",
    "n_classes = len(np.unique(y_train))\n",
    "\n",
    "print(\"Number of training examples =\", n_train)\n",
    "print(\"Number of testing examples =\", n_test)\n",
    "print(\"Image data shape =\", image_shape)\n",
    "print(\"Number of classes =\", n_classes)"
   ]
  },
  {
   "cell_type": "markdown",
   "metadata": {},
   "source": [
    "Visualize the German Traffic Signs Dataset using the pickled file(s). This is open ended, suggestions include: plotting traffic sign images, plotting the count of each sign, etc.\n",
    "\n",
    "The [Matplotlib](http://matplotlib.org/) [examples](http://matplotlib.org/examples/index.html) and [gallery](http://matplotlib.org/gallery.html) pages are a great resource for doing visualizations in Python.\n",
    "\n",
    "**NOTE:** It's recommended you start with something simple first. If you wish to do more, come back to it after you've completed the rest of the sections."
   ]
  },
  {
   "cell_type": "code",
   "execution_count": 3,
   "metadata": {
    "collapsed": false
   },
   "outputs": [],
   "source": [
    "### Data exploration visualization goes here.\n",
    "### Feel free to use as many code cells as needed.\n",
    "import matplotlib.pyplot as plt\n",
    "import pandas as pd\n",
    "import csv\n",
    "# Visualizations will be shown in the notebook.\n",
    "%matplotlib inline\n"
   ]
  },
  {
   "cell_type": "code",
   "execution_count": 4,
   "metadata": {
    "collapsed": false
   },
   "outputs": [
    {
     "name": "stdout",
     "output_type": "stream",
     "text": [
      "We have 43 sign labels in this table. \n",
      "Here are some examples:\n"
     ]
    },
    {
     "data": {
      "text/html": [
       "<div>\n",
       "<table border=\"1\" class=\"dataframe\">\n",
       "  <thead>\n",
       "    <tr style=\"text-align: right;\">\n",
       "      <th></th>\n",
       "      <th>ClassId</th>\n",
       "      <th>SignName</th>\n",
       "    </tr>\n",
       "  </thead>\n",
       "  <tbody>\n",
       "    <tr>\n",
       "      <th>0</th>\n",
       "      <td>0</td>\n",
       "      <td>Speed limit (20km/h)</td>\n",
       "    </tr>\n",
       "    <tr>\n",
       "      <th>1</th>\n",
       "      <td>1</td>\n",
       "      <td>Speed limit (30km/h)</td>\n",
       "    </tr>\n",
       "    <tr>\n",
       "      <th>2</th>\n",
       "      <td>2</td>\n",
       "      <td>Speed limit (50km/h)</td>\n",
       "    </tr>\n",
       "    <tr>\n",
       "      <th>3</th>\n",
       "      <td>3</td>\n",
       "      <td>Speed limit (60km/h)</td>\n",
       "    </tr>\n",
       "    <tr>\n",
       "      <th>4</th>\n",
       "      <td>4</td>\n",
       "      <td>Speed limit (70km/h)</td>\n",
       "    </tr>\n",
       "  </tbody>\n",
       "</table>\n",
       "</div>"
      ],
      "text/plain": [
       "   ClassId              SignName\n",
       "0        0  Speed limit (20km/h)\n",
       "1        1  Speed limit (30km/h)\n",
       "2        2  Speed limit (50km/h)\n",
       "3        3  Speed limit (60km/h)\n",
       "4        4  Speed limit (70km/h)"
      ]
     },
     "execution_count": 4,
     "metadata": {},
     "output_type": "execute_result"
    }
   ],
   "source": [
    "#Explore the signname table first\n",
    "sign_table=pd.read_csv(\"signnames.csv\")\n",
    "print(\"We have\",len(sign_table),\"sign labels in this table.\",\"\\nHere are some examples:\")\n",
    "sign_table.head()"
   ]
  },
  {
   "cell_type": "code",
   "execution_count": 5,
   "metadata": {
    "collapsed": false
   },
   "outputs": [
    {
     "data": {
      "image/png": "[encoded data removed]",
      "text/plain": [
       "<matplotlib.figure.Figure at 0x240d1c0afd0>"
      ]
     },
     "metadata": {},
     "output_type": "display_data"
    }
   ],
   "source": [
    "#Investigate a random image of each sign\n",
    "import random\n",
    "\n",
    "sign_names=sign_table['SignName'].tolist()\n",
    "for idex, name in enumerate(sign_names):\n",
    "    group=np.where(y_train == idex)[0]\n",
    "    gnum=len(group)\n",
    "    ind=random.randint(0, gnum-1)\n",
    "    img = X_train[group[ind]]\n",
    "    plt.subplot(9, 5, idex + 1)\n",
    "    plt.imshow(img)\n",
    "    plt.title(name)\n",
    "    plt.axis(\"off\")\n",
    "    plt.text(-15, 15, str(gnum),backgroundcolor='g',color='w')\n",
    "    \n",
    "fig = plt.gcf()\n",
    "fig.set_size_inches(20, 20)\n",
    "plt.show()"
   ]
  },
  {
   "cell_type": "code",
   "execution_count": 6,
   "metadata": {
    "collapsed": false
   },
   "outputs": [
    {
     "data": {
      "image/png": "[encoded data removed]",
      "text/plain": [
       "<matplotlib.figure.Figure at 0x240d3b454a8>"
      ]
     },
     "metadata": {},
     "output_type": "display_data"
    }
   ],
   "source": [
    "#Investigate the class distribution of sign names \n",
    "bins = np.linspace(0,43,44)-0.5\n",
    "sign_names=sign_table['SignName'].values\n",
    "fig = plt.figure(figsize=(10,4), dpi=200)\n",
    "plt.ylabel('No. Traffic Signs')\n",
    "plt.title(\"Sign Name Sample Distribution\")\n",
    "plt.hist(y_train,bins,alpha=0.2,label=['Train Data'],edgecolor = \"black\")\n",
    "plt.hist(y_test,bins,alpha=0.7,label=['Test Data'],edgecolor = \"black\")\n",
    "plt.xticks(bins+0.5,sign_names,rotation=45,fontsize=5,ha='right')\n",
    "\n",
    "plt.legend()\n",
    "plt.show()"
   ]
  },
  {
   "cell_type": "markdown",
   "metadata": {},
   "source": [
    "----\n",
    "\n",
    "## Step 2: Design and Test a Model Architecture\n",
    "\n",
    "Design and implement a deep learning model that learns to recognize traffic signs. Train and test your model on the [German Traffic Sign Dataset](http://benchmark.ini.rub.de/?section=gtsrb&subsection=dataset).\n",
    "\n",
    "There are various aspects to consider when thinking about this problem:\n",
    "\n",
    "- Neural network architecture\n",
    "- Play around preprocessing techniques (normalization, rgb to grayscale, etc)\n",
    "- Number of examples per label (some have more than others).\n",
    "- Generate fake data.\n",
    "\n",
    "Here is an example of a [published baseline model on this problem](http://yann.lecun.com/exdb/publis/pdf/sermanet-ijcnn-11.pdf). It's not required to be familiar with the approach used in the paper but, it's good practice to try to read papers like these.\n",
    "\n",
    "**NOTE:** The LeNet-5 implementation shown in the [classroom](https://classroom.udacity.com/nanodegrees/nd013/parts/fbf77062-5703-404e-b60c-95b78b2f3f9e/modules/6df7ae49-c61c-4bb2-a23e-6527e69209ec/lessons/601ae704-1035-4287-8b11-e2c2716217ad/concepts/d4aca031-508f-4e0b-b493-e7b706120f81) at the end of the CNN lesson is a solid starting point. You'll have to change the number of classes and possibly the preprocessing, but aside from that it's plug and play!"
   ]
  },
  {
   "cell_type": "markdown",
   "metadata": {},
   "source": [
    "### Implementation\n",
    "\n",
    "Use the code cell (or multiple code cells, if necessary) to implement the first step of your project. Once you have completed your implementation and are satisfied with the results, be sure to thoroughly answer the questions that follow."
   ]
  },
  {
   "cell_type": "code",
   "execution_count": 7,
   "metadata": {
    "collapsed": false
   },
   "outputs": [
    {
     "name": "stdout",
     "output_type": "stream",
     "text": [
      "Scikit-Learn 0.18.1\n"
     ]
    }
   ],
   "source": [
    "import sklearn\n",
    "print(\"Scikit-Learn\", sklearn.__version__)"
   ]
  },
  {
   "cell_type": "code",
   "execution_count": 8,
   "metadata": {
    "collapsed": false
   },
   "outputs": [
    {
     "name": "stdout",
     "output_type": "stream",
     "text": [
      "X_train\n"
     ]
    },
    {
     "name": "stderr",
     "output_type": "stream",
     "text": [
      "100%|█████████████████████████████████████████████████████████████████████████| 39209/39209 [00:00<00:00, 46985.08it/s]\n"
     ]
    },
    {
     "name": "stdout",
     "output_type": "stream",
     "text": [
      "X_test\n"
     ]
    },
    {
     "name": "stderr",
     "output_type": "stream",
     "text": [
      "100%|█████████████████████████████████████████████████████████████████████████| 10104/10104 [00:00<00:00, 45309.99it/s]\n"
     ]
    },
    {
     "name": "stdout",
     "output_type": "stream",
     "text": [
      "X_validation\n"
     ]
    },
    {
     "name": "stderr",
     "output_type": "stream",
     "text": [
      "100%|███████████████████████████████████████████████████████████████████████████| 2526/2526 [00:00<00:00, 45929.41it/s]\n"
     ]
    },
    {
     "name": "stdout",
     "output_type": "stream",
     "text": [
      "Training Shape: (39209, 1024) (39209, 43)\n",
      "Validation Shape: (2526, 1024) (2526, 43)\n",
      "Testing Shape: (10104, 1024) (10104, 43)\n",
      "Data is ready!\n"
     ]
    }
   ],
   "source": [
    "### Preprocess the data here.\n",
    "### Feel free to use as many code cells as needed.\n",
    "from sklearn.model_selection import train_test_split\n",
    "from tqdm import trange\n",
    "import cv2\n",
    "\n",
    "def cal_mean_std(data):\n",
    "    mean_std=[np.mean(data),np.std(data)] \n",
    "    return mean_std\n",
    "\n",
    "def data_norm(data, mean_std):\n",
    "    data_norm = data.copy().astype(np.float32)\n",
    "    data_channel_i=data_norm\n",
    "    data_norm=(data_channel_i - mean_std[0])/mean_std[1]\n",
    "        \n",
    "    return data_norm\n",
    "\n",
    "def onehot(ylabel,nclass):\n",
    "    label_onehot = np.zeros((ylabel.shape[0], nclass), dtype=np.float32)\n",
    "    label_onehot[np.arange(ylabel.shape[0]), ylabel] = 1.0\n",
    "    return label_onehot\n",
    "\n",
    "def grey_equ_imageSets(X):\n",
    "    new_X=np.zeros([X.shape[0],X.shape[1],X.shape[2]],dtype=np.float32)\n",
    "    for i in trange(X.shape[0]):\n",
    "        grey = cv2.cvtColor(X[i], cv2.COLOR_BGR2GRAY)\n",
    "        equ = cv2.equalizeHist(grey)\n",
    "        new_X[i]=equ\n",
    "        \n",
    "    return new_X\n",
    "\n",
    "def grey_adp_equ_imageSets(X):\n",
    "    new_X=np.zeros([X.shape[0],X.shape[1],X.shape[2]],dtype=np.float32)\n",
    "    for i in trange(X.shape[0]):\n",
    "        grey = cv2.cvtColor(X[i], cv2.COLOR_BGR2GRAY)\n",
    "        clahe = cv2.createCLAHE(clipLimit=2.0, tileGridSize=(4,4))\n",
    "        equ = clahe.apply(grey)\n",
    "        new_X[i]=equ\n",
    "        \n",
    "    return new_X\n",
    "\n",
    "\n",
    "X_test, X_eval = train_test_split(X_test, test_size=0.2, random_state=0)\n",
    "\n",
    "print(\"X_train\")\n",
    "X_train=grey_adp_equ_imageSets(X_train)\n",
    "print(\"X_test\")\n",
    "X_test=grey_adp_equ_imageSets(X_test)\n",
    "print(\"X_validation\")\n",
    "X_eval=grey_adp_equ_imageSets(X_eval)\n",
    "\n",
    "#start converting data into 0 mean & 1 variance\n",
    "train_mean_std=cal_mean_std(X_train)\n",
    "X_train_norm = data_norm(X_train, train_mean_std)\n",
    "X_test_norm = data_norm(X_test, train_mean_std)\n",
    "X_eval_norm = data_norm(X_eval, train_mean_std)\n",
    "y_test_1hot = onehot(y_test,43)\n",
    "y_train_1hot = onehot(y_train,43)\n",
    "\n",
    "y_test_1hot, y_eval_1hot = train_test_split(y_test_1hot, test_size=0.2, random_state=0)\n",
    "\n",
    "\n",
    "X_train_norm=X_train_norm.reshape(X_train_norm.shape[0],X_train_norm.shape[1]*X_train_norm.shape[2])\n",
    "X_eval_norm=X_eval_norm.reshape(X_eval_norm.shape[0],X_eval_norm.shape[1]*X_eval_norm.shape[2])\n",
    "X_test_norm=X_test_norm.reshape(X_test_norm.shape[0],X_test_norm.shape[1]*X_test.shape[2])\n",
    "\n",
    "print('Training Shape:', X_train_norm.shape, y_train_1hot.shape)\n",
    "print('Validation Shape:', X_eval_norm.shape, y_eval_1hot.shape)\n",
    "print('Testing Shape:', X_test_norm.shape, y_test_1hot.shape)\n",
    "print('Data is ready!')"
   ]
  },
  {
   "cell_type": "markdown",
   "metadata": {},
   "source": [
    "### Question 1 \n",
    "\n",
    "_Describe how you preprocessed the data. Why did you choose that technique?_"
   ]
  },
  {
   "cell_type": "markdown",
   "metadata": {},
   "source": [
    "**Answer:**"
   ]
  },
  {
   "cell_type": "markdown",
   "metadata": {
    "collapsed": true
   },
   "source": [
    "Before data standardization, I applied Adaptive Histogram Equalization(AHE) to improve contrast in input images. This approach computes several histograms, each corresponding to a distinct section of the image and uses them to redistribute the lightness values of the image. After several tests on different sets of tile Grid Size(by default 8X8), I found AHE with 4X4 tileGridSize improves test accuracy from 95% (with Histogram Equalization) to 97%.\n",
    "\n",
    "After AHE transformation, I was following a very typical(I mean, conventional) data pre-processing standardization: \n",
    "1. Normalize data into zero-mean & unit-variance\n",
    "2. Split the whole dataset into training dataset, validation dataset and testing dataset.\n",
    "\n",
    "The standardization of zero-mean & unit-variance is used largely because many elements in the objective function \n",
    "of a learning algorithm pre-assume that all features are zero-centered and have variance in the same order. But this\n",
    "is not the case for all scenarios.\n"
   ]
  },
  {
   "cell_type": "markdown",
   "metadata": {},
   "source": [
    "### Question 2\n",
    "\n",
    "_Describe how you set up the training, validation and testing data for your model. **Optional**: If you generated additional data, how did you generate the data? Why did you generate the data? What are the differences in the new dataset (with generated data) from the original dataset?_"
   ]
  },
  {
   "cell_type": "markdown",
   "metadata": {},
   "source": [
    "**Answer:**"
   ]
  },
  {
   "cell_type": "markdown",
   "metadata": {
    "collapsed": true
   },
   "source": [
    "Based on the class distribution analysis of sign names earlier in this notebook, I found the the original training dataset is around 3.5 times of the testing data(almost an 80/20 split). Since my parameter estimates might have greater variances with less training data, I also choose an 80/20 rule to split the training dataset into training dataset & validation set."
   ]
  },
  {
   "cell_type": "markdown",
   "metadata": {},
   "source": [
    "### Question 3\n",
    "\n",
    "_What does your final architecture look like? (Type of model, layers, sizes, connectivity, etc.)  For reference on how to build a deep neural network using TensorFlow, see [Deep Neural Network in TensorFlow\n",
    "](https://classroom.udacity.com/nanodegrees/nd013/parts/fbf77062-5703-404e-b60c-95b78b2f3f9e/modules/6df7ae49-c61c-4bb2-a23e-6527e69209ec/lessons/b516a270-8600-4f93-a0a3-20dfeabe5da6/concepts/83a3a2a2-a9bd-4b7b-95b0-eb924ab14432) from the classroom._\n"
   ]
  },
  {
   "cell_type": "markdown",
   "metadata": {},
   "source": [
    "**Answer:**"
   ]
  },
  {
   "cell_type": "markdown",
   "metadata": {},
   "source": [
    "My final model consisted of the following layers:\n",
    "\n",
    "| Layer         \t\t|     Description\t        \t\t\t\t\t| \n",
    "|:---------------------:|:---------------------------------------------:| \n",
    "| Input         \t\t| 32x32x1 reshaped image   \t\t\t\t        | \n",
    "| Convolution Layer    \t| 1x1 stride, same padding, outputs 32x32x32\t|\n",
    "| RELU\t\t\t\t\t|\t\t\t\t\t\t\t\t\t\t\t\t|\n",
    "| Max pooling\t      \t| 2x2 stride,  outputs 16x16x32 \t\t\t\t|\n",
    "| Dropout\t            | with prob 0.5     \t\t\t\t\t\t\t|\n",
    "| Convolution Layer   \t| 1x1 stride, same padding, outputs 16x16x64 \t|\n",
    "| RELU\t\t\t\t\t|\t\t\t\t\t\t\t\t\t\t\t\t|\n",
    "| Max pooling\t      \t| 2x2 stride,  outputs 8x8x64 \t\t\t\t    |\n",
    "| Dropout\t            | with prob 0.5      \t\t\t\t\t\t\t|\n",
    "| Convolution Layer   \t| 1x1 stride, same padding, outputs 8x8x128 \t|\n",
    "| RELU\t\t\t\t\t|\t\t\t\t\t\t\t\t\t\t\t\t|\n",
    "| Max pooling\t      \t| 2x2 stride,  outputs 4x4x128 \t\t\t\t    |\n",
    "| Dropout\t            | with prob 0.5    \t                            |\n",
    "| Flatten\t            | output size 2048    \t                        |\n",
    "| Fully Connected 1    \t| output size 1024                           \t|\n",
    "| Dropout\t\t\t\t| with prob 0.5\t\t\t\t\t\t\t\t\t|\n",
    "| Fully Connected 2\t    | output size 1024 \t\t\t\t                |\n",
    "| Dropout\t            | with prob 0.5    \t                            |\n",
    "| Output Layer  \t    | output size 43   \t                            |"
   ]
  },
  {
   "cell_type": "code",
   "execution_count": 9,
   "metadata": {
    "collapsed": false
   },
   "outputs": [],
   "source": [
    "### Train your model here.\n",
    "### Feel free to use as many code cells as needed.\n",
    "\n",
    "#Initialization & all self-defined functions\n",
    "import tensorflow as tf\n",
    "from tqdm import trange\n",
    "from time import sleep\n",
    "from random import random, randint\n",
    "\n",
    "def weight_variable(shape):\n",
    "    initial = tf.truncated_normal(shape, stddev=0.01)\n",
    "    return tf.Variable(initial)\n",
    "\n",
    "def bias_variable(shape):\n",
    "    initial = tf.constant(0.01,shape=shape)\n",
    "    return tf.Variable(initial)\n",
    "\n",
    "def conv2d(x, W):\n",
    "    return tf.nn.conv2d(x, W, strides=[1, 1, 1, 1], padding='SAME')\n",
    "\n",
    "def max_pool_2x2(x):\n",
    "    return tf.nn.max_pool(x, ksize=[1, 2, 2, 1],\n",
    "                        strides=[1, 2, 2, 1], padding='SAME')\n",
    "\n",
    "def cnn_logits(x):\n",
    "    x_image = tf.reshape(x, [-1,32,32,1])\n",
    "    h_conv1 = tf.nn.relu(conv2d(x_image, W_conv1) + b_conv1)\n",
    "    h_pool1 = max_pool_2x2(h_conv1)\n",
    "    h_pool1_drop = tf.nn.dropout(h_pool1, keep_prob)\n",
    "    h_conv2 = tf.nn.relu(conv2d(h_pool1_drop, W_conv2) + b_conv2)\n",
    "    h_pool2 = max_pool_2x2(h_conv2)\n",
    "    h_pool2_drop = tf.nn.dropout(h_pool2, keep_prob)\n",
    "    h_conv3 = tf.nn.relu(conv2d(h_pool2_drop, W_conv3) + b_conv3)\n",
    "    h_pool3 = max_pool_2x2(h_conv3)\n",
    "    h_pool3_drop = tf.nn.dropout(h_pool3, keep_prob)\n",
    "    h_pool3_flat = tf.reshape(h_pool3, [-1, 4*4*128])\n",
    "    h_fc1 = tf.nn.relu(tf.matmul(h_pool3_flat, W_fc1) + b_fc1)\n",
    "    h_fc1_drop = tf.nn.dropout(h_fc1, keep_prob)\n",
    "    h_fc2 = tf.nn.relu(tf.matmul(h_fc1_drop, W_fc2) + b_fc2)\n",
    "    h_fc2_drop = tf.nn.dropout(h_fc2, keep_prob)\n",
    "    y_conv = tf.matmul(h_fc2_drop, W_fc3) + b_fc3\n",
    "    return y_conv\n"
   ]
  },
  {
   "cell_type": "code",
   "execution_count": 10,
   "metadata": {
    "collapsed": false
   },
   "outputs": [],
   "source": [
    "#All definations of placeholders & variables\n",
    "from sklearn.utils import shuffle\n",
    "batch_size = 120\n",
    "EPOCHS = 500\n",
    "learning_rate=0.001\n",
    "save_file = './train_tf_model.ckpt'\n",
    "\n",
    "x = tf.placeholder(tf.float32, shape=[None, 1024])\n",
    "y = tf.placeholder(tf.float32, shape=[None, 43])\n",
    "keep_prob = tf.placeholder(tf.float32)\n",
    "\n",
    "\n",
    "W_conv1 = weight_variable([3, 3, 1, 32])\n",
    "b_conv1 = bias_variable([32])\n",
    "W_conv2 = weight_variable([3, 3, 32, 64])\n",
    "b_conv2 = bias_variable([64])\n",
    "W_conv3 = weight_variable([3, 3, 64, 128])\n",
    "b_conv3 = bias_variable([128])\n",
    "W_fc1 = weight_variable([32 * 64, 1024])\n",
    "b_fc1 = bias_variable([1024])\n",
    "W_fc2 = weight_variable([1024, 1024])\n",
    "b_fc2 = bias_variable([1024])\n",
    "W_fc3 = weight_variable([1024, 43])\n",
    "b_fc3 = bias_variable([43])\n",
    "regularization = tf.nn.l2_loss(W_conv1) + tf.nn.l2_loss(W_conv2) + tf.nn.l2_loss(W_conv3) + tf.nn.l2_loss(W_fc1) + tf.nn.l2_loss(W_fc2) + tf.nn.l2_loss(W_fc3)\n",
    "y_conv = cnn_logits(x)\n"
   ]
  },
  {
   "cell_type": "code",
   "execution_count": 11,
   "metadata": {
    "collapsed": true
   },
   "outputs": [],
   "source": [
    "#Define cost functions & optimzers\n",
    "cross_entropy = tf.reduce_mean(tf.nn.softmax_cross_entropy_with_logits(y_conv, y))+ 0.00001*regularization\n",
    "optimizer = tf.train.AdamOptimizer(learning_rate).minimize(cross_entropy)\n",
    "optimizer2 = tf.train.MomentumOptimizer(learning_rate,0.9).minimize(cross_entropy)\n",
    "optimizer3 = tf.train.AdagradOptimizer(learning_rate).minimize(cross_entropy)\n",
    "correct_prediction = tf.equal(tf.argmax(y_conv,1), tf.argmax(y,1))\n",
    "accuracy = tf.reduce_mean(tf.cast(correct_prediction, tf.float32))\n",
    "saver = tf.train.Saver()\n",
    "train_num=len(X_train_norm)\n"
   ]
  },
  {
   "cell_type": "code",
   "execution_count": 12,
   "metadata": {
    "collapsed": false,
    "scrolled": true
   },
   "outputs": [
    {
     "name": "stderr",
     "output_type": "stream",
     "text": [
      "Epoch 0: 100%|█████████████████████████████████████████████████████| 326/326 [00:05<00:00, 55.90it/s, T_Accuracy=40.0%]\n"
     ]
    },
    {
     "name": "stdout",
     "output_type": "stream",
     "text": [
      "Validation accuracy: 0.52692\n"
     ]
    },
    {
     "name": "stderr",
     "output_type": "stream",
     "text": [
      "Epoch 1: 100%|█████████████████████████████████████████████████████| 326/326 [00:05<00:00, 61.09it/s, T_Accuracy=78.3%]\n"
     ]
    },
    {
     "name": "stdout",
     "output_type": "stream",
     "text": [
      "Validation accuracy: 0.836896\n"
     ]
    },
    {
     "name": "stderr",
     "output_type": "stream",
     "text": [
      "Epoch 2: 100%|█████████████████████████████████████████████████████| 326/326 [00:05<00:00, 61.28it/s, T_Accuracy=84.2%]\n"
     ]
    },
    {
     "name": "stdout",
     "output_type": "stream",
     "text": [
      "Validation accuracy: 0.915677\n"
     ]
    },
    {
     "name": "stderr",
     "output_type": "stream",
     "text": [
      "Epoch 3: 100%|█████████████████████████████████████████████████████| 326/326 [00:05<00:00, 60.24it/s, T_Accuracy=85.8%]\n"
     ]
    },
    {
     "name": "stdout",
     "output_type": "stream",
     "text": [
      "Validation accuracy: 0.933888\n"
     ]
    },
    {
     "name": "stderr",
     "output_type": "stream",
     "text": [
      "Epoch 4: 100%|█████████████████████████████████████████████████████| 326/326 [00:05<00:00, 62.36it/s, T_Accuracy=91.7%]\n"
     ]
    },
    {
     "name": "stdout",
     "output_type": "stream",
     "text": [
      "Validation accuracy: 0.94616\n"
     ]
    },
    {
     "name": "stderr",
     "output_type": "stream",
     "text": [
      "Epoch 5: 100%|█████████████████████████████████████████████████████| 326/326 [00:05<00:00, 61.62it/s, T_Accuracy=95.8%]\n"
     ]
    },
    {
     "name": "stdout",
     "output_type": "stream",
     "text": [
      "Validation accuracy: 0.956849\n"
     ]
    },
    {
     "name": "stderr",
     "output_type": "stream",
     "text": [
      "Epoch 6: 100%|█████████████████████████████████████████████████████| 326/326 [00:05<00:00, 62.02it/s, T_Accuracy=94.2%]\n"
     ]
    },
    {
     "name": "stdout",
     "output_type": "stream",
     "text": [
      "Validation accuracy: 0.952098\n"
     ]
    },
    {
     "name": "stderr",
     "output_type": "stream",
     "text": [
      "Epoch 7: 100%|█████████████████████████████████████████████████████| 326/326 [00:05<00:00, 61.42it/s, T_Accuracy=97.5%]\n"
     ]
    },
    {
     "name": "stdout",
     "output_type": "stream",
     "text": [
      "Validation accuracy: 0.960412\n"
     ]
    },
    {
     "name": "stderr",
     "output_type": "stream",
     "text": [
      "Epoch 8: 100%|█████████████████████████████████████████████████████| 326/326 [00:05<00:00, 60.57it/s, T_Accuracy=94.2%]\n"
     ]
    },
    {
     "name": "stdout",
     "output_type": "stream",
     "text": [
      "Validation accuracy: 0.966746\n"
     ]
    },
    {
     "name": "stderr",
     "output_type": "stream",
     "text": [
      "Epoch 9: 100%|█████████████████████████████████████████████████████| 326/326 [00:05<00:00, 61.73it/s, T_Accuracy=95.8%]\n"
     ]
    },
    {
     "name": "stdout",
     "output_type": "stream",
     "text": [
      "Validation accuracy: 0.967538\n"
     ]
    },
    {
     "name": "stderr",
     "output_type": "stream",
     "text": [
      "Epoch 10: 100%|████████████████████████████████████████████████████| 326/326 [00:05<00:00, 61.86it/s, T_Accuracy=96.7%]\n"
     ]
    },
    {
     "name": "stdout",
     "output_type": "stream",
     "text": [
      "Validation accuracy: 0.963183\n"
     ]
    },
    {
     "name": "stderr",
     "output_type": "stream",
     "text": [
      "Epoch 11: 100%|████████████████████████████████████████████████████| 326/326 [00:05<00:00, 61.84it/s, T_Accuracy=99.2%]\n"
     ]
    },
    {
     "name": "stdout",
     "output_type": "stream",
     "text": [
      "Validation accuracy: 0.962391\n"
     ]
    },
    {
     "name": "stderr",
     "output_type": "stream",
     "text": [
      "Epoch 12: 100%|████████████████████████████████████████████████████| 326/326 [00:05<00:00, 61.83it/s, T_Accuracy=94.2%]\n"
     ]
    },
    {
     "name": "stdout",
     "output_type": "stream",
     "text": [
      "Validation accuracy: 0.967538\n"
     ]
    },
    {
     "name": "stderr",
     "output_type": "stream",
     "text": [
      "Epoch 13: 100%|████████████████████████████████████████████████████| 326/326 [00:05<00:00, 62.01it/s, T_Accuracy=97.5%]\n"
     ]
    },
    {
     "name": "stdout",
     "output_type": "stream",
     "text": [
      "Validation accuracy: 0.965954\n"
     ]
    },
    {
     "name": "stderr",
     "output_type": "stream",
     "text": [
      "Epoch 14: 100%|████████████████████████████████████████████████████| 326/326 [00:05<00:00, 61.95it/s, T_Accuracy=94.2%]\n"
     ]
    },
    {
     "name": "stdout",
     "output_type": "stream",
     "text": [
      "Validation accuracy: 0.96635\n"
     ]
    },
    {
     "name": "stderr",
     "output_type": "stream",
     "text": [
      "Epoch 15: 100%|████████████████████████████████████████████████████| 326/326 [00:05<00:00, 61.82it/s, T_Accuracy=95.0%]\n"
     ]
    },
    {
     "name": "stdout",
     "output_type": "stream",
     "text": [
      "Validation accuracy: 0.96635\n"
     ]
    },
    {
     "name": "stderr",
     "output_type": "stream",
     "text": [
      "Epoch 16: 100%|████████████████████████████████████████████████████| 326/326 [00:05<00:00, 61.72it/s, T_Accuracy=94.2%]\n"
     ]
    },
    {
     "name": "stdout",
     "output_type": "stream",
     "text": [
      "Validation accuracy: 0.963183\n"
     ]
    },
    {
     "name": "stderr",
     "output_type": "stream",
     "text": [
      "Epoch 17: 100%|████████████████████████████████████████████████████| 326/326 [00:05<00:00, 61.32it/s, T_Accuracy=98.3%]\n"
     ]
    },
    {
     "name": "stdout",
     "output_type": "stream",
     "text": [
      "Validation accuracy: 0.96437\n"
     ]
    },
    {
     "name": "stderr",
     "output_type": "stream",
     "text": [
      "Epoch 18: 100%|████████████████████████████████████████████████████| 326/326 [00:05<00:00, 61.66it/s, T_Accuracy=95.0%]\n"
     ]
    },
    {
     "name": "stdout",
     "output_type": "stream",
     "text": [
      "Validation accuracy: 0.967142\n"
     ]
    },
    {
     "name": "stderr",
     "output_type": "stream",
     "text": [
      "Epoch 19: 100%|████████████████████████████████████████████████████| 326/326 [00:05<00:00, 61.65it/s, T_Accuracy=97.5%]\n"
     ]
    },
    {
     "name": "stdout",
     "output_type": "stream",
     "text": [
      "Validation accuracy: 0.965162\n"
     ]
    },
    {
     "name": "stderr",
     "output_type": "stream",
     "text": [
      "Epoch 20: 100%|████████████████████████████████████████████████████| 326/326 [00:05<00:00, 61.69it/s, T_Accuracy=95.0%]\n"
     ]
    },
    {
     "name": "stdout",
     "output_type": "stream",
     "text": [
      "Validation accuracy: 0.965954\n"
     ]
    },
    {
     "name": "stderr",
     "output_type": "stream",
     "text": [
      "Epoch 21: 100%|███████████████████████████████████████████████████| 326/326 [00:05<00:00, 61.73it/s, T_Accuracy=100.0%]\n"
     ]
    },
    {
     "name": "stdout",
     "output_type": "stream",
     "text": [
      "Validation accuracy: 0.966746\n"
     ]
    },
    {
     "name": "stderr",
     "output_type": "stream",
     "text": [
      "Epoch 22: 100%|████████████████████████████████████████████████████| 326/326 [00:05<00:00, 61.94it/s, T_Accuracy=99.2%]\n"
     ]
    },
    {
     "name": "stdout",
     "output_type": "stream",
     "text": [
      "Validation accuracy: 0.96437\n"
     ]
    },
    {
     "name": "stderr",
     "output_type": "stream",
     "text": [
      "Epoch 23: 100%|████████████████████████████████████████████████████| 326/326 [00:05<00:00, 61.98it/s, T_Accuracy=98.3%]\n"
     ]
    },
    {
     "name": "stdout",
     "output_type": "stream",
     "text": [
      "Validation accuracy: 0.968329\n"
     ]
    },
    {
     "name": "stderr",
     "output_type": "stream",
     "text": [
      "Epoch 24: 100%|████████████████████████████████████████████████████| 326/326 [00:05<00:00, 62.05it/s, T_Accuracy=97.5%]\n"
     ]
    },
    {
     "name": "stdout",
     "output_type": "stream",
     "text": [
      "Validation accuracy: 0.967142\n"
     ]
    },
    {
     "name": "stderr",
     "output_type": "stream",
     "text": [
      "Epoch 25: 100%|████████████████████████████████████████████████████| 326/326 [00:05<00:00, 61.90it/s, T_Accuracy=95.0%]\n"
     ]
    },
    {
     "name": "stdout",
     "output_type": "stream",
     "text": [
      "Validation accuracy: 0.972684\n"
     ]
    },
    {
     "name": "stderr",
     "output_type": "stream",
     "text": [
      "Epoch 26: 100%|████████████████████████████████████████████████████| 326/326 [00:05<00:00, 61.83it/s, T_Accuracy=96.7%]\n"
     ]
    },
    {
     "name": "stdout",
     "output_type": "stream",
     "text": [
      "Validation accuracy: 0.967142\n"
     ]
    },
    {
     "name": "stderr",
     "output_type": "stream",
     "text": [
      "Epoch 27: 100%|████████████████████████████████████████████████████| 326/326 [00:05<00:00, 61.75it/s, T_Accuracy=97.5%]\n"
     ]
    },
    {
     "name": "stdout",
     "output_type": "stream",
     "text": [
      "Validation accuracy: 0.969517\n"
     ]
    },
    {
     "name": "stderr",
     "output_type": "stream",
     "text": [
      "Epoch 28: 100%|████████████████████████████████████████████████████| 326/326 [00:05<00:00, 61.93it/s, T_Accuracy=97.5%]\n"
     ]
    },
    {
     "name": "stdout",
     "output_type": "stream",
     "text": [
      "Validation accuracy: 0.970309\n"
     ]
    },
    {
     "name": "stderr",
     "output_type": "stream",
     "text": [
      "Epoch 29: 100%|████████████████████████████████████████████████████| 326/326 [00:05<00:00, 61.91it/s, T_Accuracy=99.2%]\n"
     ]
    },
    {
     "name": "stdout",
     "output_type": "stream",
     "text": [
      "Validation accuracy: 0.971101\n"
     ]
    },
    {
     "name": "stderr",
     "output_type": "stream",
     "text": [
      "Epoch 30: 100%|████████████████████████████████████████████████████| 326/326 [00:05<00:00, 62.09it/s, T_Accuracy=97.5%]\n"
     ]
    },
    {
     "name": "stdout",
     "output_type": "stream",
     "text": [
      "Validation accuracy: 0.96635\n"
     ]
    },
    {
     "name": "stderr",
     "output_type": "stream",
     "text": [
      "Epoch 31: 100%|████████████████████████████████████████████████████| 326/326 [00:05<00:00, 61.94it/s, T_Accuracy=99.2%]\n"
     ]
    },
    {
     "name": "stdout",
     "output_type": "stream",
     "text": [
      "Validation accuracy: 0.969913\n"
     ]
    },
    {
     "name": "stderr",
     "output_type": "stream",
     "text": [
      "Epoch 32: 100%|████████████████████████████████████████████████████| 326/326 [00:05<00:00, 61.99it/s, T_Accuracy=98.3%]\n"
     ]
    },
    {
     "name": "stdout",
     "output_type": "stream",
     "text": [
      "Validation accuracy: 0.96437\n"
     ]
    },
    {
     "name": "stderr",
     "output_type": "stream",
     "text": [
      "Epoch 33: 100%|████████████████████████████████████████████████████| 326/326 [00:05<00:00, 61.91it/s, T_Accuracy=95.8%]\n"
     ]
    },
    {
     "name": "stdout",
     "output_type": "stream",
     "text": [
      "Validation accuracy: 0.970705\n"
     ]
    },
    {
     "name": "stderr",
     "output_type": "stream",
     "text": [
      "Epoch 34: 100%|████████████████████████████████████████████████████| 326/326 [00:05<00:00, 61.87it/s, T_Accuracy=95.0%]\n"
     ]
    },
    {
     "name": "stdout",
     "output_type": "stream",
     "text": [
      "Validation accuracy: 0.963579\n"
     ]
    },
    {
     "name": "stderr",
     "output_type": "stream",
     "text": [
      "Epoch 35: 100%|████████████████████████████████████████████████████| 326/326 [00:05<00:00, 61.78it/s, T_Accuracy=98.3%]\n"
     ]
    },
    {
     "name": "stdout",
     "output_type": "stream",
     "text": [
      "Validation accuracy: 0.972684\n"
     ]
    },
    {
     "name": "stderr",
     "output_type": "stream",
     "text": [
      "Epoch 36: 100%|████████████████████████████████████████████████████| 326/326 [00:05<00:00, 61.92it/s, T_Accuracy=98.3%]\n"
     ]
    },
    {
     "name": "stdout",
     "output_type": "stream",
     "text": [
      "Validation accuracy: 0.973476\n"
     ]
    },
    {
     "name": "stderr",
     "output_type": "stream",
     "text": [
      "Epoch 37: 100%|███████████████████████████████████████████████████| 326/326 [00:05<00:00, 61.90it/s, T_Accuracy=100.0%]\n"
     ]
    },
    {
     "name": "stdout",
     "output_type": "stream",
     "text": [
      "Validation accuracy: 0.969121\n"
     ]
    },
    {
     "name": "stderr",
     "output_type": "stream",
     "text": [
      "Epoch 38: 100%|████████████████████████████████████████████████████| 326/326 [00:05<00:00, 61.83it/s, T_Accuracy=99.2%]\n"
     ]
    },
    {
     "name": "stdout",
     "output_type": "stream",
     "text": [
      "Validation accuracy: 0.974663\n"
     ]
    },
    {
     "name": "stderr",
     "output_type": "stream",
     "text": [
      "Epoch 39: 100%|████████████████████████████████████████████████████| 326/326 [00:05<00:00, 61.63it/s, T_Accuracy=98.3%]\n"
     ]
    },
    {
     "name": "stdout",
     "output_type": "stream",
     "text": [
      "Validation accuracy: 0.974664\n"
     ]
    },
    {
     "name": "stderr",
     "output_type": "stream",
     "text": [
      "Epoch 40: 100%|████████████████████████████████████████████████████| 326/326 [00:05<00:00, 61.70it/s, T_Accuracy=99.2%]\n"
     ]
    },
    {
     "name": "stdout",
     "output_type": "stream",
     "text": [
      "Validation accuracy: 0.972684\n"
     ]
    },
    {
     "name": "stderr",
     "output_type": "stream",
     "text": [
      "Epoch 41: 100%|████████████████████████████████████████████████████| 326/326 [00:05<00:00, 61.77it/s, T_Accuracy=98.3%]\n"
     ]
    },
    {
     "name": "stdout",
     "output_type": "stream",
     "text": [
      "Validation accuracy: 0.969121\n"
     ]
    },
    {
     "name": "stderr",
     "output_type": "stream",
     "text": [
      "Epoch 42: 100%|████████████████████████████████████████████████████| 326/326 [00:05<00:00, 61.63it/s, T_Accuracy=98.3%]\n"
     ]
    },
    {
     "name": "stdout",
     "output_type": "stream",
     "text": [
      "Validation accuracy: 0.971892\n"
     ]
    },
    {
     "name": "stderr",
     "output_type": "stream",
     "text": [
      "Epoch 43: 100%|████████████████████████████████████████████████████| 326/326 [00:05<00:00, 61.27it/s, T_Accuracy=99.2%]\n"
     ]
    },
    {
     "name": "stdout",
     "output_type": "stream",
     "text": [
      "Validation accuracy: 0.969517\n"
     ]
    },
    {
     "name": "stderr",
     "output_type": "stream",
     "text": [
      "Epoch 44: 100%|████████████████████████████████████████████████████| 326/326 [00:05<00:00, 61.81it/s, T_Accuracy=99.2%]\n"
     ]
    },
    {
     "name": "stdout",
     "output_type": "stream",
     "text": [
      "Validation accuracy: 0.965162\n"
     ]
    },
    {
     "name": "stderr",
     "output_type": "stream",
     "text": [
      "Epoch 45: 100%|████████████████████████████████████████████████████| 326/326 [00:05<00:00, 61.53it/s, T_Accuracy=97.5%]\n"
     ]
    },
    {
     "name": "stdout",
     "output_type": "stream",
     "text": [
      "Validation accuracy: 0.969517\n"
     ]
    },
    {
     "name": "stderr",
     "output_type": "stream",
     "text": [
      "Epoch 46: 100%|████████████████████████████████████████████████████| 326/326 [00:05<00:00, 61.78it/s, T_Accuracy=97.5%]\n"
     ]
    },
    {
     "name": "stdout",
     "output_type": "stream",
     "text": [
      "Validation accuracy: 0.970309\n"
     ]
    },
    {
     "name": "stderr",
     "output_type": "stream",
     "text": [
      "Epoch 47: 100%|████████████████████████████████████████████████████| 326/326 [00:05<00:00, 61.66it/s, T_Accuracy=96.7%]\n"
     ]
    },
    {
     "name": "stdout",
     "output_type": "stream",
     "text": [
      "Validation accuracy: 0.968725\n"
     ]
    },
    {
     "name": "stderr",
     "output_type": "stream",
     "text": [
      "Epoch 48: 100%|████████████████████████████████████████████████████| 326/326 [00:05<00:00, 61.76it/s, T_Accuracy=98.3%]\n"
     ]
    },
    {
     "name": "stdout",
     "output_type": "stream",
     "text": [
      "Validation accuracy: 0.963579\n"
     ]
    },
    {
     "name": "stderr",
     "output_type": "stream",
     "text": [
      "Epoch 49: 100%|███████████████████████████████████████████████████| 326/326 [00:05<00:00, 61.45it/s, T_Accuracy=100.0%]\n"
     ]
    },
    {
     "name": "stdout",
     "output_type": "stream",
     "text": [
      "Validation accuracy: 0.971496\n"
     ]
    },
    {
     "name": "stderr",
     "output_type": "stream",
     "text": [
      "Epoch 50: 100%|████████████████████████████████████████████████████| 326/326 [00:05<00:00, 61.61it/s, T_Accuracy=96.7%]\n"
     ]
    },
    {
     "name": "stdout",
     "output_type": "stream",
     "text": [
      "Validation accuracy: 0.971496\n"
     ]
    },
    {
     "name": "stderr",
     "output_type": "stream",
     "text": [
      "Epoch 51: 100%|████████████████████████████████████████████████████| 326/326 [00:05<00:00, 61.45it/s, T_Accuracy=99.2%]\n"
     ]
    },
    {
     "name": "stdout",
     "output_type": "stream",
     "text": [
      "Validation accuracy: 0.973476\n"
     ]
    },
    {
     "name": "stderr",
     "output_type": "stream",
     "text": [
      "Epoch 52: 100%|████████████████████████████████████████████████████| 326/326 [00:05<00:00, 61.05it/s, T_Accuracy=98.3%]\n"
     ]
    },
    {
     "name": "stdout",
     "output_type": "stream",
     "text": [
      "Validation accuracy: 0.974664\n"
     ]
    },
    {
     "name": "stderr",
     "output_type": "stream",
     "text": [
      "Epoch 53: 100%|████████████████████████████████████████████████████| 326/326 [00:05<00:00, 61.53it/s, T_Accuracy=99.2%]\n"
     ]
    },
    {
     "name": "stdout",
     "output_type": "stream",
     "text": [
      "Validation accuracy: 0.970705\n"
     ]
    },
    {
     "name": "stderr",
     "output_type": "stream",
     "text": [
      "Epoch 54: 100%|████████████████████████████████████████████████████| 326/326 [00:05<00:00, 61.74it/s, T_Accuracy=98.3%]\n"
     ]
    },
    {
     "name": "stdout",
     "output_type": "stream",
     "text": [
      "Validation accuracy: 0.975455\n"
     ]
    },
    {
     "name": "stderr",
     "output_type": "stream",
     "text": [
      "Epoch 55: 100%|████████████████████████████████████████████████████| 326/326 [00:05<00:00, 61.77it/s, T_Accuracy=99.2%]\n"
     ]
    },
    {
     "name": "stdout",
     "output_type": "stream",
     "text": [
      "Validation accuracy: 0.974663\n"
     ]
    },
    {
     "name": "stderr",
     "output_type": "stream",
     "text": [
      "Epoch 56: 100%|████████████████████████████████████████████████████| 326/326 [00:05<00:00, 60.66it/s, T_Accuracy=97.5%]\n"
     ]
    },
    {
     "name": "stdout",
     "output_type": "stream",
     "text": [
      "Validation accuracy: 0.97308\n"
     ]
    },
    {
     "name": "stderr",
     "output_type": "stream",
     "text": [
      "Epoch 57: 100%|████████████████████████████████████████████████████| 326/326 [00:05<00:00, 61.03it/s, T_Accuracy=99.2%]\n"
     ]
    },
    {
     "name": "stdout",
     "output_type": "stream",
     "text": [
      "Validation accuracy: 0.967538\n"
     ]
    },
    {
     "name": "stderr",
     "output_type": "stream",
     "text": [
      "Epoch 58: 100%|████████████████████████████████████████████████████| 326/326 [00:05<00:00, 61.28it/s, T_Accuracy=96.7%]\n"
     ]
    },
    {
     "name": "stdout",
     "output_type": "stream",
     "text": [
      "Validation accuracy: 0.970705\n"
     ]
    },
    {
     "name": "stderr",
     "output_type": "stream",
     "text": [
      "Epoch 59: 100%|███████████████████████████████████████████████████| 326/326 [00:05<00:00, 61.10it/s, T_Accuracy=100.0%]\n"
     ]
    },
    {
     "name": "stdout",
     "output_type": "stream",
     "text": [
      "Validation accuracy: 0.968725\n"
     ]
    },
    {
     "name": "stderr",
     "output_type": "stream",
     "text": [
      "Epoch 60: 100%|████████████████████████████████████████████████████| 326/326 [00:05<00:00, 61.47it/s, T_Accuracy=99.2%]\n"
     ]
    },
    {
     "name": "stdout",
     "output_type": "stream",
     "text": [
      "Validation accuracy: 0.969913\n"
     ]
    },
    {
     "name": "stderr",
     "output_type": "stream",
     "text": [
      "Epoch 61: 100%|████████████████████████████████████████████████████| 326/326 [00:05<00:00, 61.82it/s, T_Accuracy=97.5%]\n"
     ]
    },
    {
     "name": "stdout",
     "output_type": "stream",
     "text": [
      "Validation accuracy: 0.972288\n"
     ]
    },
    {
     "name": "stderr",
     "output_type": "stream",
     "text": [
      "Epoch 62: 100%|████████████████████████████████████████████████████| 326/326 [00:05<00:00, 61.61it/s, T_Accuracy=97.5%]\n"
     ]
    },
    {
     "name": "stdout",
     "output_type": "stream",
     "text": [
      "Validation accuracy: 0.96635\n"
     ]
    },
    {
     "name": "stderr",
     "output_type": "stream",
     "text": [
      "Epoch 63: 100%|████████████████████████████████████████████████████| 326/326 [00:05<00:00, 61.70it/s, T_Accuracy=98.3%]\n"
     ]
    },
    {
     "name": "stdout",
     "output_type": "stream",
     "text": [
      "Validation accuracy: 0.965954\n"
     ]
    },
    {
     "name": "stderr",
     "output_type": "stream",
     "text": [
      "Epoch 64: 100%|████████████████████████████████████████████████████| 326/326 [00:05<00:00, 61.80it/s, T_Accuracy=95.8%]\n"
     ]
    },
    {
     "name": "stdout",
     "output_type": "stream",
     "text": [
      "Validation accuracy: 0.970705\n"
     ]
    },
    {
     "name": "stderr",
     "output_type": "stream",
     "text": [
      "Epoch 65: 100%|████████████████████████████████████████████████████| 326/326 [00:05<00:00, 61.78it/s, T_Accuracy=98.3%]\n"
     ]
    },
    {
     "name": "stdout",
     "output_type": "stream",
     "text": [
      "Validation accuracy: 0.970705\n"
     ]
    },
    {
     "name": "stderr",
     "output_type": "stream",
     "text": [
      "Epoch 66: 100%|████████████████████████████████████████████████████| 326/326 [00:05<00:00, 61.72it/s, T_Accuracy=99.2%]\n"
     ]
    },
    {
     "name": "stdout",
     "output_type": "stream",
     "text": [
      "Validation accuracy: 0.969517\n"
     ]
    },
    {
     "name": "stderr",
     "output_type": "stream",
     "text": [
      "Epoch 67: 100%|████████████████████████████████████████████████████| 326/326 [00:05<00:00, 61.71it/s, T_Accuracy=99.2%]\n"
     ]
    },
    {
     "name": "stdout",
     "output_type": "stream",
     "text": [
      "Validation accuracy: 0.967142\n"
     ]
    },
    {
     "name": "stderr",
     "output_type": "stream",
     "text": [
      "Epoch 68: 100%|████████████████████████████████████████████████████| 326/326 [00:05<00:00, 62.23it/s, T_Accuracy=98.3%]\n"
     ]
    },
    {
     "name": "stdout",
     "output_type": "stream",
     "text": [
      "Validation accuracy: 0.969517\n"
     ]
    },
    {
     "name": "stderr",
     "output_type": "stream",
     "text": [
      "Epoch 69: 100%|███████████████████████████████████████████████████| 326/326 [00:05<00:00, 62.08it/s, T_Accuracy=100.0%]\n"
     ]
    },
    {
     "name": "stdout",
     "output_type": "stream",
     "text": [
      "Validation accuracy: 0.968725\n"
     ]
    },
    {
     "name": "stderr",
     "output_type": "stream",
     "text": [
      "Epoch 70: 100%|████████████████████████████████████████████████████| 326/326 [00:05<00:00, 62.10it/s, T_Accuracy=98.3%]\n"
     ]
    },
    {
     "name": "stdout",
     "output_type": "stream",
     "text": [
      "Validation accuracy: 0.970309\n"
     ]
    },
    {
     "name": "stderr",
     "output_type": "stream",
     "text": [
      "Epoch 71: 100%|████████████████████████████████████████████████████| 326/326 [00:05<00:00, 62.19it/s, T_Accuracy=99.2%]\n"
     ]
    },
    {
     "name": "stdout",
     "output_type": "stream",
     "text": [
      "Validation accuracy: 0.972684\n"
     ]
    },
    {
     "name": "stderr",
     "output_type": "stream",
     "text": [
      "Epoch 72: 100%|████████████████████████████████████████████████████| 326/326 [00:05<00:00, 61.60it/s, T_Accuracy=98.3%]\n"
     ]
    },
    {
     "name": "stdout",
     "output_type": "stream",
     "text": [
      "Validation accuracy: 0.969517\n"
     ]
    },
    {
     "name": "stderr",
     "output_type": "stream",
     "text": [
      "Epoch 73: 100%|███████████████████████████████████████████████████| 326/326 [00:05<00:00, 60.88it/s, T_Accuracy=100.0%]\n"
     ]
    },
    {
     "name": "stdout",
     "output_type": "stream",
     "text": [
      "Validation accuracy: 0.968329\n"
     ]
    },
    {
     "name": "stderr",
     "output_type": "stream",
     "text": [
      "Epoch 74: 100%|████████████████████████████████████████████████████| 326/326 [00:05<00:00, 61.08it/s, T_Accuracy=99.2%]\n"
     ]
    },
    {
     "name": "stdout",
     "output_type": "stream",
     "text": [
      "Validation accuracy: 0.968725\n"
     ]
    },
    {
     "name": "stderr",
     "output_type": "stream",
     "text": [
      "Epoch 75: 100%|████████████████████████████████████████████████████| 326/326 [00:05<00:00, 61.74it/s, T_Accuracy=98.3%]\n"
     ]
    },
    {
     "name": "stdout",
     "output_type": "stream",
     "text": [
      "Validation accuracy: 0.971101\n"
     ]
    },
    {
     "name": "stderr",
     "output_type": "stream",
     "text": [
      "Epoch 76: 100%|████████████████████████████████████████████████████| 326/326 [00:05<00:00, 61.77it/s, T_Accuracy=98.3%]\n"
     ]
    },
    {
     "name": "stdout",
     "output_type": "stream",
     "text": [
      "Validation accuracy: 0.97308\n"
     ]
    },
    {
     "name": "stderr",
     "output_type": "stream",
     "text": [
      "Epoch 77: 100%|███████████████████████████████████████████████████| 326/326 [00:05<00:00, 61.72it/s, T_Accuracy=100.0%]\n"
     ]
    },
    {
     "name": "stdout",
     "output_type": "stream",
     "text": [
      "Validation accuracy: 0.973872\n"
     ]
    },
    {
     "name": "stderr",
     "output_type": "stream",
     "text": [
      "Epoch 78: 100%|████████████████████████████████████████████████████| 326/326 [00:05<00:00, 61.65it/s, T_Accuracy=99.2%]\n"
     ]
    },
    {
     "name": "stdout",
     "output_type": "stream",
     "text": [
      "Validation accuracy: 0.971496\n"
     ]
    },
    {
     "name": "stderr",
     "output_type": "stream",
     "text": [
      "Epoch 79: 100%|███████████████████████████████████████████████████| 326/326 [00:05<00:00, 61.26it/s, T_Accuracy=100.0%]\n"
     ]
    },
    {
     "name": "stdout",
     "output_type": "stream",
     "text": [
      "Validation accuracy: 0.972684\n"
     ]
    },
    {
     "name": "stderr",
     "output_type": "stream",
     "text": [
      "Epoch 80: 100%|████████████████████████████████████████████████████| 326/326 [00:05<00:00, 61.74it/s, T_Accuracy=98.3%]\n"
     ]
    },
    {
     "name": "stdout",
     "output_type": "stream",
     "text": [
      "Validation accuracy: 0.971101\n"
     ]
    },
    {
     "name": "stderr",
     "output_type": "stream",
     "text": [
      "Epoch 81: 100%|████████████████████████████████████████████████████| 326/326 [00:05<00:00, 61.72it/s, T_Accuracy=99.2%]\n"
     ]
    },
    {
     "name": "stdout",
     "output_type": "stream",
     "text": [
      "Validation accuracy: 0.97506\n"
     ]
    },
    {
     "name": "stderr",
     "output_type": "stream",
     "text": [
      "Epoch 82: 100%|███████████████████████████████████████████████████| 326/326 [00:05<00:00, 61.20it/s, T_Accuracy=100.0%]\n"
     ]
    },
    {
     "name": "stdout",
     "output_type": "stream",
     "text": [
      "Validation accuracy: 0.97308\n"
     ]
    },
    {
     "name": "stderr",
     "output_type": "stream",
     "text": [
      "Epoch 83: 100%|████████████████████████████████████████████████████| 326/326 [00:05<00:00, 60.92it/s, T_Accuracy=98.3%]\n"
     ]
    },
    {
     "name": "stdout",
     "output_type": "stream",
     "text": [
      "Validation accuracy: 0.97308\n"
     ]
    },
    {
     "name": "stderr",
     "output_type": "stream",
     "text": [
      "Epoch 84: 100%|███████████████████████████████████████████████████| 326/326 [00:05<00:00, 60.31it/s, T_Accuracy=100.0%]\n"
     ]
    },
    {
     "name": "stdout",
     "output_type": "stream",
     "text": [
      "Validation accuracy: 0.975455\n"
     ]
    },
    {
     "name": "stderr",
     "output_type": "stream",
     "text": [
      "Epoch 85: 100%|████████████████████████████████████████████████████| 326/326 [00:05<00:00, 60.36it/s, T_Accuracy=98.3%]\n"
     ]
    },
    {
     "name": "stdout",
     "output_type": "stream",
     "text": [
      "Validation accuracy: 0.973872\n"
     ]
    },
    {
     "name": "stderr",
     "output_type": "stream",
     "text": [
      "Epoch 86: 100%|████████████████████████████████████████████████████| 326/326 [00:05<00:00, 59.85it/s, T_Accuracy=99.2%]\n"
     ]
    },
    {
     "name": "stdout",
     "output_type": "stream",
     "text": [
      "Validation accuracy: 0.968329\n"
     ]
    },
    {
     "name": "stderr",
     "output_type": "stream",
     "text": [
      "Epoch 87: 100%|████████████████████████████████████████████████████| 326/326 [00:05<00:00, 61.79it/s, T_Accuracy=99.2%]\n"
     ]
    },
    {
     "name": "stdout",
     "output_type": "stream",
     "text": [
      "Validation accuracy: 0.970309\n"
     ]
    },
    {
     "name": "stderr",
     "output_type": "stream",
     "text": [
      "Epoch 88: 100%|████████████████████████████████████████████████████| 326/326 [00:05<00:00, 60.28it/s, T_Accuracy=99.2%]\n"
     ]
    },
    {
     "name": "stdout",
     "output_type": "stream",
     "text": [
      "Validation accuracy: 0.970705\n"
     ]
    },
    {
     "name": "stderr",
     "output_type": "stream",
     "text": [
      "Epoch 89: 100%|████████████████████████████████████████████████████| 326/326 [00:05<00:00, 61.10it/s, T_Accuracy=98.3%]\n"
     ]
    },
    {
     "name": "stdout",
     "output_type": "stream",
     "text": [
      "Validation accuracy: 0.971892\n"
     ]
    },
    {
     "name": "stderr",
     "output_type": "stream",
     "text": [
      "Epoch 90: 100%|████████████████████████████████████████████████████| 326/326 [00:05<00:00, 61.63it/s, T_Accuracy=98.3%]\n"
     ]
    },
    {
     "name": "stdout",
     "output_type": "stream",
     "text": [
      "Validation accuracy: 0.965954\n"
     ]
    },
    {
     "name": "stderr",
     "output_type": "stream",
     "text": [
      "Epoch 91: 100%|████████████████████████████████████████████████████| 326/326 [00:05<00:00, 61.77it/s, T_Accuracy=95.0%]\n"
     ]
    },
    {
     "name": "stdout",
     "output_type": "stream",
     "text": [
      "Validation accuracy: 0.972288\n"
     ]
    },
    {
     "name": "stderr",
     "output_type": "stream",
     "text": [
      "Epoch 92: 100%|████████████████████████████████████████████████████| 326/326 [00:05<00:00, 61.57it/s, T_Accuracy=99.2%]\n"
     ]
    },
    {
     "name": "stdout",
     "output_type": "stream",
     "text": [
      "Validation accuracy: 0.973872\n"
     ]
    },
    {
     "name": "stderr",
     "output_type": "stream",
     "text": [
      "Epoch 93: 100%|████████████████████████████████████████████████████| 326/326 [00:05<00:00, 61.48it/s, T_Accuracy=97.5%]\n"
     ]
    },
    {
     "name": "stdout",
     "output_type": "stream",
     "text": [
      "Validation accuracy: 0.969517\n"
     ]
    },
    {
     "name": "stderr",
     "output_type": "stream",
     "text": [
      "Epoch 94: 100%|████████████████████████████████████████████████████| 326/326 [00:05<00:00, 60.51it/s, T_Accuracy=99.2%]\n"
     ]
    },
    {
     "name": "stdout",
     "output_type": "stream",
     "text": [
      "Validation accuracy: 0.970705\n"
     ]
    },
    {
     "name": "stderr",
     "output_type": "stream",
     "text": [
      "Epoch 95: 100%|████████████████████████████████████████████████████| 326/326 [00:05<00:00, 59.78it/s, T_Accuracy=99.2%]\n"
     ]
    },
    {
     "name": "stdout",
     "output_type": "stream",
     "text": [
      "Validation accuracy: 0.968725\n"
     ]
    },
    {
     "name": "stderr",
     "output_type": "stream",
     "text": [
      "Epoch 96: 100%|████████████████████████████████████████████████████| 326/326 [00:05<00:00, 61.53it/s, T_Accuracy=95.8%]\n"
     ]
    },
    {
     "name": "stdout",
     "output_type": "stream",
     "text": [
      "Validation accuracy: 0.971892\n"
     ]
    },
    {
     "name": "stderr",
     "output_type": "stream",
     "text": [
      "Epoch 97: 100%|████████████████████████████████████████████████████| 326/326 [00:05<00:00, 61.68it/s, T_Accuracy=98.3%]\n"
     ]
    },
    {
     "name": "stdout",
     "output_type": "stream",
     "text": [
      "Validation accuracy: 0.972288\n"
     ]
    },
    {
     "name": "stderr",
     "output_type": "stream",
     "text": [
      "Epoch 98: 100%|████████████████████████████████████████████████████| 326/326 [00:05<00:00, 61.44it/s, T_Accuracy=99.2%]\n"
     ]
    },
    {
     "name": "stdout",
     "output_type": "stream",
     "text": [
      "Validation accuracy: 0.975059\n"
     ]
    },
    {
     "name": "stderr",
     "output_type": "stream",
     "text": [
      "Epoch 99: 100%|████████████████████████████████████████████████████| 326/326 [00:05<00:00, 61.61it/s, T_Accuracy=99.2%]\n"
     ]
    },
    {
     "name": "stdout",
     "output_type": "stream",
     "text": [
      "Validation accuracy: 0.971101\n"
     ]
    },
    {
     "name": "stderr",
     "output_type": "stream",
     "text": [
      "Epoch 100: 100%|███████████████████████████████████████████████████| 326/326 [00:05<00:00, 61.76it/s, T_Accuracy=97.5%]\n"
     ]
    },
    {
     "name": "stdout",
     "output_type": "stream",
     "text": [
      "Validation accuracy: 0.971101\n"
     ]
    },
    {
     "name": "stderr",
     "output_type": "stream",
     "text": [
      "Epoch 101: 100%|███████████████████████████████████████████████████| 326/326 [00:05<00:00, 61.51it/s, T_Accuracy=98.3%]\n"
     ]
    },
    {
     "name": "stdout",
     "output_type": "stream",
     "text": [
      "Validation accuracy: 0.970705\n"
     ]
    },
    {
     "name": "stderr",
     "output_type": "stream",
     "text": [
      "Epoch 102: 100%|██████████████████████████████████████████████████| 326/326 [00:05<00:00, 61.63it/s, T_Accuracy=100.0%]\n"
     ]
    },
    {
     "name": "stdout",
     "output_type": "stream",
     "text": [
      "Validation accuracy: 0.969121\n"
     ]
    },
    {
     "name": "stderr",
     "output_type": "stream",
     "text": [
      "Epoch 103: 100%|███████████████████████████████████████████████████| 326/326 [00:05<00:00, 61.61it/s, T_Accuracy=98.3%]\n"
     ]
    },
    {
     "name": "stdout",
     "output_type": "stream",
     "text": [
      "Validation accuracy: 0.972684\n"
     ]
    },
    {
     "name": "stderr",
     "output_type": "stream",
     "text": [
      "Epoch 104: 100%|███████████████████████████████████████████████████| 326/326 [00:05<00:00, 61.94it/s, T_Accuracy=98.3%]\n"
     ]
    },
    {
     "name": "stdout",
     "output_type": "stream",
     "text": [
      "Validation accuracy: 0.973872\n"
     ]
    },
    {
     "name": "stderr",
     "output_type": "stream",
     "text": [
      "Epoch 105: 100%|███████████████████████████████████████████████████| 326/326 [00:05<00:00, 62.37it/s, T_Accuracy=97.5%]\n"
     ]
    },
    {
     "name": "stdout",
     "output_type": "stream",
     "text": [
      "Validation accuracy: 0.965954\n"
     ]
    },
    {
     "name": "stderr",
     "output_type": "stream",
     "text": [
      "Epoch 106: 100%|███████████████████████████████████████████████████| 326/326 [00:05<00:00, 62.41it/s, T_Accuracy=99.2%]\n"
     ]
    },
    {
     "name": "stdout",
     "output_type": "stream",
     "text": [
      "Validation accuracy: 0.970309\n"
     ]
    },
    {
     "name": "stderr",
     "output_type": "stream",
     "text": [
      "Epoch 107: 100%|███████████████████████████████████████████████████| 326/326 [00:05<00:00, 61.82it/s, T_Accuracy=97.5%]\n"
     ]
    },
    {
     "name": "stdout",
     "output_type": "stream",
     "text": [
      "Validation accuracy: 0.972684\n"
     ]
    },
    {
     "name": "stderr",
     "output_type": "stream",
     "text": [
      "Epoch 108: 100%|███████████████████████████████████████████████████| 326/326 [00:05<00:00, 62.06it/s, T_Accuracy=99.2%]\n"
     ]
    },
    {
     "name": "stdout",
     "output_type": "stream",
     "text": [
      "Validation accuracy: 0.974268\n"
     ]
    },
    {
     "name": "stderr",
     "output_type": "stream",
     "text": [
      "Epoch 109: 100%|███████████████████████████████████████████████████| 326/326 [00:05<00:00, 62.36it/s, T_Accuracy=98.3%]\n"
     ]
    },
    {
     "name": "stdout",
     "output_type": "stream",
     "text": [
      "Validation accuracy: 0.972288\n"
     ]
    },
    {
     "name": "stderr",
     "output_type": "stream",
     "text": [
      "Epoch 110: 100%|███████████████████████████████████████████████████| 326/326 [00:05<00:00, 62.03it/s, T_Accuracy=97.5%]\n"
     ]
    },
    {
     "name": "stdout",
     "output_type": "stream",
     "text": [
      "Validation accuracy: 0.968329\n"
     ]
    },
    {
     "name": "stderr",
     "output_type": "stream",
     "text": [
      "Epoch 111: 100%|███████████████████████████████████████████████████| 326/326 [00:05<00:00, 61.47it/s, T_Accuracy=98.3%]\n"
     ]
    },
    {
     "name": "stdout",
     "output_type": "stream",
     "text": [
      "Validation accuracy: 0.969121\n"
     ]
    },
    {
     "name": "stderr",
     "output_type": "stream",
     "text": [
      "Epoch 112: 100%|███████████████████████████████████████████████████| 326/326 [00:05<00:00, 61.95it/s, T_Accuracy=97.5%]\n"
     ]
    },
    {
     "name": "stdout",
     "output_type": "stream",
     "text": [
      "Validation accuracy: 0.971892\n"
     ]
    },
    {
     "name": "stderr",
     "output_type": "stream",
     "text": [
      "Epoch 113: 100%|███████████████████████████████████████████████████| 326/326 [00:05<00:00, 62.10it/s, T_Accuracy=97.5%]\n"
     ]
    },
    {
     "name": "stdout",
     "output_type": "stream",
     "text": [
      "Validation accuracy: 0.969517\n"
     ]
    },
    {
     "name": "stderr",
     "output_type": "stream",
     "text": [
      "Epoch 114: 100%|██████████████████████████████████████████████████| 326/326 [00:05<00:00, 62.12it/s, T_Accuracy=100.0%]\n"
     ]
    },
    {
     "name": "stdout",
     "output_type": "stream",
     "text": [
      "Validation accuracy: 0.971101\n"
     ]
    },
    {
     "name": "stderr",
     "output_type": "stream",
     "text": [
      "Epoch 115: 100%|███████████████████████████████████████████████████| 326/326 [00:05<00:00, 62.30it/s, T_Accuracy=98.3%]\n"
     ]
    },
    {
     "name": "stdout",
     "output_type": "stream",
     "text": [
      "Validation accuracy: 0.972288\n"
     ]
    },
    {
     "name": "stderr",
     "output_type": "stream",
     "text": [
      "Epoch 116: 100%|███████████████████████████████████████████████████| 326/326 [00:05<00:00, 62.38it/s, T_Accuracy=98.3%]\n"
     ]
    },
    {
     "name": "stdout",
     "output_type": "stream",
     "text": [
      "Validation accuracy: 0.971101\n"
     ]
    },
    {
     "name": "stderr",
     "output_type": "stream",
     "text": [
      "Epoch 117: 100%|███████████████████████████████████████████████████| 326/326 [00:05<00:00, 62.39it/s, T_Accuracy=98.3%]\n"
     ]
    },
    {
     "name": "stdout",
     "output_type": "stream",
     "text": [
      "Validation accuracy: 0.967933\n"
     ]
    },
    {
     "name": "stderr",
     "output_type": "stream",
     "text": [
      "Epoch 118: 100%|██████████████████████████████████████████████████| 326/326 [00:05<00:00, 62.24it/s, T_Accuracy=100.0%]\n"
     ]
    },
    {
     "name": "stdout",
     "output_type": "stream",
     "text": [
      "Validation accuracy: 0.969121\n"
     ]
    },
    {
     "name": "stderr",
     "output_type": "stream",
     "text": [
      "Epoch 119: 100%|███████████████████████████████████████████████████| 326/326 [00:05<00:00, 62.14it/s, T_Accuracy=96.7%]\n"
     ]
    },
    {
     "name": "stdout",
     "output_type": "stream",
     "text": [
      "Validation accuracy: 0.973476\n"
     ]
    },
    {
     "name": "stderr",
     "output_type": "stream",
     "text": [
      "Epoch 120: 100%|███████████████████████████████████████████████████| 326/326 [00:05<00:00, 62.26it/s, T_Accuracy=98.3%]\n"
     ]
    },
    {
     "name": "stdout",
     "output_type": "stream",
     "text": [
      "Validation accuracy: 0.972684\n"
     ]
    },
    {
     "name": "stderr",
     "output_type": "stream",
     "text": [
      "Epoch 121: 100%|███████████████████████████████████████████████████| 326/326 [00:05<00:00, 62.01it/s, T_Accuracy=99.2%]\n"
     ]
    },
    {
     "name": "stdout",
     "output_type": "stream",
     "text": [
      "Validation accuracy: 0.973872\n"
     ]
    },
    {
     "name": "stderr",
     "output_type": "stream",
     "text": [
      "Epoch 122: 100%|███████████████████████████████████████████████████| 326/326 [00:05<00:00, 61.73it/s, T_Accuracy=99.2%]\n"
     ]
    },
    {
     "name": "stdout",
     "output_type": "stream",
     "text": [
      "Validation accuracy: 0.973872\n"
     ]
    },
    {
     "name": "stderr",
     "output_type": "stream",
     "text": [
      "Epoch 123: 100%|███████████████████████████████████████████████████| 326/326 [00:05<00:00, 61.67it/s, T_Accuracy=96.7%]\n"
     ]
    },
    {
     "name": "stdout",
     "output_type": "stream",
     "text": [
      "Validation accuracy: 0.971892\n"
     ]
    },
    {
     "name": "stderr",
     "output_type": "stream",
     "text": [
      "Epoch 124: 100%|███████████████████████████████████████████████████| 326/326 [00:05<00:00, 62.34it/s, T_Accuracy=97.5%]\n"
     ]
    },
    {
     "name": "stdout",
     "output_type": "stream",
     "text": [
      "Validation accuracy: 0.972684\n"
     ]
    },
    {
     "name": "stderr",
     "output_type": "stream",
     "text": [
      "Epoch 125: 100%|███████████████████████████████████████████████████| 326/326 [00:05<00:00, 62.28it/s, T_Accuracy=97.5%]\n"
     ]
    },
    {
     "name": "stdout",
     "output_type": "stream",
     "text": [
      "Validation accuracy: 0.972288\n"
     ]
    },
    {
     "name": "stderr",
     "output_type": "stream",
     "text": [
      "Epoch 126: 100%|███████████████████████████████████████████████████| 326/326 [00:05<00:00, 62.19it/s, T_Accuracy=99.2%]\n"
     ]
    },
    {
     "name": "stdout",
     "output_type": "stream",
     "text": [
      "Validation accuracy: 0.970309\n"
     ]
    },
    {
     "name": "stderr",
     "output_type": "stream",
     "text": [
      "Epoch 127: 100%|███████████████████████████████████████████████████| 326/326 [00:05<00:00, 62.25it/s, T_Accuracy=97.5%]\n"
     ]
    },
    {
     "name": "stdout",
     "output_type": "stream",
     "text": [
      "Validation accuracy: 0.973476\n"
     ]
    },
    {
     "name": "stderr",
     "output_type": "stream",
     "text": [
      "Epoch 128: 100%|███████████████████████████████████████████████████| 326/326 [00:05<00:00, 62.02it/s, T_Accuracy=98.3%]\n"
     ]
    },
    {
     "name": "stdout",
     "output_type": "stream",
     "text": [
      "Validation accuracy: 0.968725\n"
     ]
    },
    {
     "name": "stderr",
     "output_type": "stream",
     "text": [
      "Epoch 129: 100%|███████████████████████████████████████████████████| 326/326 [00:05<00:00, 62.31it/s, T_Accuracy=97.5%]\n"
     ]
    },
    {
     "name": "stdout",
     "output_type": "stream",
     "text": [
      "Validation accuracy: 0.967142\n"
     ]
    },
    {
     "name": "stderr",
     "output_type": "stream",
     "text": [
      "Epoch 130: 100%|███████████████████████████████████████████████████| 326/326 [00:05<00:00, 61.89it/s, T_Accuracy=99.2%]\n"
     ]
    },
    {
     "name": "stdout",
     "output_type": "stream",
     "text": [
      "Validation accuracy: 0.969913\n"
     ]
    },
    {
     "name": "stderr",
     "output_type": "stream",
     "text": [
      "Epoch 131: 100%|███████████████████████████████████████████████████| 326/326 [00:05<00:00, 62.37it/s, T_Accuracy=96.7%]\n"
     ]
    },
    {
     "name": "stdout",
     "output_type": "stream",
     "text": [
      "Validation accuracy: 0.971101\n"
     ]
    },
    {
     "name": "stderr",
     "output_type": "stream",
     "text": [
      "Epoch 132: 100%|███████████████████████████████████████████████████| 326/326 [00:05<00:00, 61.92it/s, T_Accuracy=96.7%]\n"
     ]
    },
    {
     "name": "stdout",
     "output_type": "stream",
     "text": [
      "Validation accuracy: 0.969913\n"
     ]
    },
    {
     "name": "stderr",
     "output_type": "stream",
     "text": [
      "Epoch 133: 100%|███████████████████████████████████████████████████| 326/326 [00:05<00:00, 62.66it/s, T_Accuracy=97.5%]\n"
     ]
    },
    {
     "name": "stdout",
     "output_type": "stream",
     "text": [
      "Validation accuracy: 0.970705\n"
     ]
    },
    {
     "name": "stderr",
     "output_type": "stream",
     "text": [
      "Epoch 134: 100%|███████████████████████████████████████████████████| 326/326 [00:05<00:00, 62.07it/s, T_Accuracy=97.5%]\n"
     ]
    },
    {
     "name": "stdout",
     "output_type": "stream",
     "text": [
      "Validation accuracy: 0.97308\n"
     ]
    },
    {
     "name": "stderr",
     "output_type": "stream",
     "text": [
      "Epoch 135: 100%|███████████████████████████████████████████████████| 326/326 [00:05<00:00, 61.33it/s, T_Accuracy=99.2%]\n"
     ]
    },
    {
     "name": "stdout",
     "output_type": "stream",
     "text": [
      "Validation accuracy: 0.970309\n"
     ]
    },
    {
     "name": "stderr",
     "output_type": "stream",
     "text": [
      "Epoch 136: 100%|██████████████████████████████████████████████████| 326/326 [00:05<00:00, 61.21it/s, T_Accuracy=100.0%]\n"
     ]
    },
    {
     "name": "stdout",
     "output_type": "stream",
     "text": [
      "Validation accuracy: 0.969913\n"
     ]
    },
    {
     "name": "stderr",
     "output_type": "stream",
     "text": [
      "Epoch 137: 100%|███████████████████████████████████████████████████| 326/326 [00:05<00:00, 61.63it/s, T_Accuracy=98.3%]\n"
     ]
    },
    {
     "name": "stdout",
     "output_type": "stream",
     "text": [
      "Validation accuracy: 0.970309\n"
     ]
    },
    {
     "name": "stderr",
     "output_type": "stream",
     "text": [
      "Epoch 138: 100%|███████████████████████████████████████████████████| 326/326 [00:05<00:00, 60.72it/s, T_Accuracy=97.5%]\n"
     ]
    },
    {
     "name": "stdout",
     "output_type": "stream",
     "text": [
      "Validation accuracy: 0.971496\n"
     ]
    },
    {
     "name": "stderr",
     "output_type": "stream",
     "text": [
      "Epoch 139: 100%|███████████████████████████████████████████████████| 326/326 [00:05<00:00, 61.90it/s, T_Accuracy=99.2%]\n"
     ]
    },
    {
     "name": "stdout",
     "output_type": "stream",
     "text": [
      "Validation accuracy: 0.969121\n"
     ]
    },
    {
     "name": "stderr",
     "output_type": "stream",
     "text": [
      "Epoch 140: 100%|███████████████████████████████████████████████████| 326/326 [00:05<00:00, 61.57it/s, T_Accuracy=98.3%]\n"
     ]
    },
    {
     "name": "stdout",
     "output_type": "stream",
     "text": [
      "Validation accuracy: 0.969913\n"
     ]
    },
    {
     "name": "stderr",
     "output_type": "stream",
     "text": [
      "Epoch 141: 100%|███████████████████████████████████████████████████| 326/326 [00:05<00:00, 61.27it/s, T_Accuracy=99.2%]\n"
     ]
    },
    {
     "name": "stdout",
     "output_type": "stream",
     "text": [
      "Validation accuracy: 0.968725\n"
     ]
    },
    {
     "name": "stderr",
     "output_type": "stream",
     "text": [
      "Epoch 142: 100%|███████████████████████████████████████████████████| 326/326 [00:05<00:00, 61.65it/s, T_Accuracy=98.3%]\n"
     ]
    },
    {
     "name": "stdout",
     "output_type": "stream",
     "text": [
      "Validation accuracy: 0.971892\n"
     ]
    },
    {
     "name": "stderr",
     "output_type": "stream",
     "text": [
      "Epoch 143: 100%|██████████████████████████████████████████████████| 326/326 [00:05<00:00, 61.80it/s, T_Accuracy=100.0%]\n"
     ]
    },
    {
     "name": "stdout",
     "output_type": "stream",
     "text": [
      "Validation accuracy: 0.972684\n"
     ]
    },
    {
     "name": "stderr",
     "output_type": "stream",
     "text": [
      "Epoch 144: 100%|██████████████████████████████████████████████████| 326/326 [00:05<00:00, 61.65it/s, T_Accuracy=100.0%]\n"
     ]
    },
    {
     "name": "stdout",
     "output_type": "stream",
     "text": [
      "Validation accuracy: 0.971892\n"
     ]
    },
    {
     "name": "stderr",
     "output_type": "stream",
     "text": [
      "Epoch 145: 100%|███████████████████████████████████████████████████| 326/326 [00:05<00:00, 61.69it/s, T_Accuracy=96.7%]\n"
     ]
    },
    {
     "name": "stdout",
     "output_type": "stream",
     "text": [
      "Validation accuracy: 0.972288\n"
     ]
    },
    {
     "name": "stderr",
     "output_type": "stream",
     "text": [
      "Epoch 146: 100%|███████████████████████████████████████████████████| 326/326 [00:05<00:00, 61.23it/s, T_Accuracy=99.2%]\n"
     ]
    },
    {
     "name": "stdout",
     "output_type": "stream",
     "text": [
      "Validation accuracy: 0.970309\n"
     ]
    },
    {
     "name": "stderr",
     "output_type": "stream",
     "text": [
      "Epoch 147: 100%|██████████████████████████████████████████████████| 326/326 [00:05<00:00, 62.06it/s, T_Accuracy=100.0%]\n"
     ]
    },
    {
     "name": "stdout",
     "output_type": "stream",
     "text": [
      "Validation accuracy: 0.971496\n"
     ]
    },
    {
     "name": "stderr",
     "output_type": "stream",
     "text": [
      "Epoch 148: 100%|███████████████████████████████████████████████████| 326/326 [00:05<00:00, 61.93it/s, T_Accuracy=99.2%]\n"
     ]
    },
    {
     "name": "stdout",
     "output_type": "stream",
     "text": [
      "Validation accuracy: 0.969121\n"
     ]
    },
    {
     "name": "stderr",
     "output_type": "stream",
     "text": [
      "Epoch 149: 100%|███████████████████████████████████████████████████| 326/326 [00:05<00:00, 61.75it/s, T_Accuracy=99.2%]\n"
     ]
    },
    {
     "name": "stdout",
     "output_type": "stream",
     "text": [
      "Validation accuracy: 0.973476\n"
     ]
    },
    {
     "name": "stderr",
     "output_type": "stream",
     "text": [
      "Epoch 150: 100%|███████████████████████████████████████████████████| 326/326 [00:05<00:00, 61.90it/s, T_Accuracy=99.2%]\n"
     ]
    },
    {
     "name": "stdout",
     "output_type": "stream",
     "text": [
      "Validation accuracy: 0.973476\n"
     ]
    },
    {
     "name": "stderr",
     "output_type": "stream",
     "text": [
      "Epoch 151: 100%|███████████████████████████████████████████████████| 326/326 [00:05<00:00, 61.59it/s, T_Accuracy=98.3%]\n"
     ]
    },
    {
     "name": "stdout",
     "output_type": "stream",
     "text": [
      "Validation accuracy: 0.970705\n"
     ]
    },
    {
     "name": "stderr",
     "output_type": "stream",
     "text": [
      "Epoch 152: 100%|███████████████████████████████████████████████████| 326/326 [00:05<00:00, 61.73it/s, T_Accuracy=96.7%]\n"
     ]
    },
    {
     "name": "stdout",
     "output_type": "stream",
     "text": [
      "Validation accuracy: 0.974664\n"
     ]
    },
    {
     "name": "stderr",
     "output_type": "stream",
     "text": [
      "Epoch 153: 100%|███████████████████████████████████████████████████| 326/326 [00:05<00:00, 61.71it/s, T_Accuracy=97.5%]\n"
     ]
    },
    {
     "name": "stdout",
     "output_type": "stream",
     "text": [
      "Validation accuracy: 0.971496\n"
     ]
    },
    {
     "name": "stderr",
     "output_type": "stream",
     "text": [
      "Epoch 154: 100%|███████████████████████████████████████████████████| 326/326 [00:05<00:00, 61.94it/s, T_Accuracy=99.2%]\n"
     ]
    },
    {
     "name": "stdout",
     "output_type": "stream",
     "text": [
      "Validation accuracy: 0.973872\n"
     ]
    },
    {
     "name": "stderr",
     "output_type": "stream",
     "text": [
      "Epoch 155: 100%|███████████████████████████████████████████████████| 326/326 [00:05<00:00, 61.82it/s, T_Accuracy=99.2%]\n"
     ]
    },
    {
     "name": "stdout",
     "output_type": "stream",
     "text": [
      "Validation accuracy: 0.971101\n"
     ]
    },
    {
     "name": "stderr",
     "output_type": "stream",
     "text": [
      "Epoch 156: 100%|███████████████████████████████████████████████████| 326/326 [00:05<00:00, 60.99it/s, T_Accuracy=97.5%]\n"
     ]
    },
    {
     "name": "stdout",
     "output_type": "stream",
     "text": [
      "Validation accuracy: 0.971892\n"
     ]
    },
    {
     "name": "stderr",
     "output_type": "stream",
     "text": [
      "Epoch 157: 100%|███████████████████████████████████████████████████| 326/326 [00:05<00:00, 61.73it/s, T_Accuracy=98.3%]\n"
     ]
    },
    {
     "name": "stdout",
     "output_type": "stream",
     "text": [
      "Validation accuracy: 0.970705\n"
     ]
    },
    {
     "name": "stderr",
     "output_type": "stream",
     "text": [
      "Epoch 158: 100%|██████████████████████████████████████████████████| 326/326 [00:05<00:00, 61.39it/s, T_Accuracy=100.0%]\n"
     ]
    },
    {
     "name": "stdout",
     "output_type": "stream",
     "text": [
      "Validation accuracy: 0.971101\n"
     ]
    },
    {
     "name": "stderr",
     "output_type": "stream",
     "text": [
      "Epoch 159: 100%|███████████████████████████████████████████████████| 326/326 [00:05<00:00, 61.89it/s, T_Accuracy=97.5%]\n"
     ]
    },
    {
     "name": "stdout",
     "output_type": "stream",
     "text": [
      "Validation accuracy: 0.972684\n"
     ]
    },
    {
     "name": "stderr",
     "output_type": "stream",
     "text": [
      "Epoch 160: 100%|██████████████████████████████████████████████████| 326/326 [00:05<00:00, 61.79it/s, T_Accuracy=100.0%]\n"
     ]
    },
    {
     "name": "stdout",
     "output_type": "stream",
     "text": [
      "Validation accuracy: 0.972684\n"
     ]
    },
    {
     "name": "stderr",
     "output_type": "stream",
     "text": [
      "Epoch 161: 100%|██████████████████████████████████████████████████| 326/326 [00:05<00:00, 61.87it/s, T_Accuracy=100.0%]\n"
     ]
    },
    {
     "name": "stdout",
     "output_type": "stream",
     "text": [
      "Validation accuracy: 0.969517\n"
     ]
    },
    {
     "name": "stderr",
     "output_type": "stream",
     "text": [
      "Epoch 162: 100%|███████████████████████████████████████████████████| 326/326 [00:05<00:00, 61.81it/s, T_Accuracy=97.5%]\n"
     ]
    },
    {
     "name": "stdout",
     "output_type": "stream",
     "text": [
      "Validation accuracy: 0.969517\n"
     ]
    },
    {
     "name": "stderr",
     "output_type": "stream",
     "text": [
      "Epoch 163: 100%|███████████████████████████████████████████████████| 326/326 [00:05<00:00, 62.06it/s, T_Accuracy=98.3%]\n"
     ]
    },
    {
     "name": "stdout",
     "output_type": "stream",
     "text": [
      "Validation accuracy: 0.970705\n"
     ]
    },
    {
     "name": "stderr",
     "output_type": "stream",
     "text": [
      "Epoch 164: 100%|███████████████████████████████████████████████████| 326/326 [00:05<00:00, 61.86it/s, T_Accuracy=97.5%]\n"
     ]
    },
    {
     "name": "stdout",
     "output_type": "stream",
     "text": [
      "Validation accuracy: 0.971892\n"
     ]
    },
    {
     "name": "stderr",
     "output_type": "stream",
     "text": [
      "Epoch 165: 100%|███████████████████████████████████████████████████| 326/326 [00:05<00:00, 61.65it/s, T_Accuracy=99.2%]\n"
     ]
    },
    {
     "name": "stdout",
     "output_type": "stream",
     "text": [
      "Validation accuracy: 0.972684\n"
     ]
    },
    {
     "name": "stderr",
     "output_type": "stream",
     "text": [
      "Epoch 166: 100%|██████████████████████████████████████████████████| 326/326 [00:05<00:00, 60.89it/s, T_Accuracy=100.0%]\n"
     ]
    },
    {
     "name": "stdout",
     "output_type": "stream",
     "text": [
      "Validation accuracy: 0.970309\n"
     ]
    },
    {
     "name": "stderr",
     "output_type": "stream",
     "text": [
      "Epoch 167: 100%|███████████████████████████████████████████████████| 326/326 [00:05<00:00, 60.75it/s, T_Accuracy=99.2%]\n"
     ]
    },
    {
     "name": "stdout",
     "output_type": "stream",
     "text": [
      "Validation accuracy: 0.971496\n"
     ]
    },
    {
     "name": "stderr",
     "output_type": "stream",
     "text": [
      "Epoch 168: 100%|███████████████████████████████████████████████████| 326/326 [00:05<00:00, 61.19it/s, T_Accuracy=99.2%]\n"
     ]
    },
    {
     "name": "stdout",
     "output_type": "stream",
     "text": [
      "Validation accuracy: 0.969517\n"
     ]
    },
    {
     "name": "stderr",
     "output_type": "stream",
     "text": [
      "Epoch 169: 100%|███████████████████████████████████████████████████| 326/326 [00:05<00:00, 61.59it/s, T_Accuracy=97.5%]\n"
     ]
    },
    {
     "name": "stdout",
     "output_type": "stream",
     "text": [
      "Validation accuracy: 0.967142\n"
     ]
    },
    {
     "name": "stderr",
     "output_type": "stream",
     "text": [
      "Epoch 170: 100%|███████████████████████████████████████████████████| 326/326 [00:05<00:00, 61.70it/s, T_Accuracy=97.5%]\n"
     ]
    },
    {
     "name": "stdout",
     "output_type": "stream",
     "text": [
      "Validation accuracy: 0.969517\n"
     ]
    },
    {
     "name": "stderr",
     "output_type": "stream",
     "text": [
      "Epoch 171: 100%|███████████████████████████████████████████████████| 326/326 [00:05<00:00, 61.73it/s, T_Accuracy=97.5%]\n"
     ]
    },
    {
     "name": "stdout",
     "output_type": "stream",
     "text": [
      "Validation accuracy: 0.969913\n"
     ]
    },
    {
     "name": "stderr",
     "output_type": "stream",
     "text": [
      "Epoch 172: 100%|██████████████████████████████████████████████████| 326/326 [00:05<00:00, 61.57it/s, T_Accuracy=100.0%]\n"
     ]
    },
    {
     "name": "stdout",
     "output_type": "stream",
     "text": [
      "Validation accuracy: 0.973872\n"
     ]
    },
    {
     "name": "stderr",
     "output_type": "stream",
     "text": [
      "Epoch 173: 100%|███████████████████████████████████████████████████| 326/326 [00:05<00:00, 61.51it/s, T_Accuracy=99.2%]\n"
     ]
    },
    {
     "name": "stdout",
     "output_type": "stream",
     "text": [
      "Validation accuracy: 0.972288\n"
     ]
    },
    {
     "name": "stderr",
     "output_type": "stream",
     "text": [
      "Epoch 174: 100%|███████████████████████████████████████████████████| 326/326 [00:05<00:00, 61.56it/s, T_Accuracy=99.2%]\n"
     ]
    },
    {
     "name": "stdout",
     "output_type": "stream",
     "text": [
      "Validation accuracy: 0.972684\n"
     ]
    },
    {
     "name": "stderr",
     "output_type": "stream",
     "text": [
      "Epoch 175: 100%|███████████████████████████████████████████████████| 326/326 [00:05<00:00, 61.69it/s, T_Accuracy=97.5%]\n"
     ]
    },
    {
     "name": "stdout",
     "output_type": "stream",
     "text": [
      "Validation accuracy: 0.970705\n"
     ]
    },
    {
     "name": "stderr",
     "output_type": "stream",
     "text": [
      "Epoch 176: 100%|██████████████████████████████████████████████████| 326/326 [00:05<00:00, 61.70it/s, T_Accuracy=100.0%]\n"
     ]
    },
    {
     "name": "stdout",
     "output_type": "stream",
     "text": [
      "Validation accuracy: 0.971892\n"
     ]
    },
    {
     "name": "stderr",
     "output_type": "stream",
     "text": [
      "Epoch 177: 100%|██████████████████████████████████████████████████| 326/326 [00:05<00:00, 62.58it/s, T_Accuracy=100.0%]\n"
     ]
    },
    {
     "name": "stdout",
     "output_type": "stream",
     "text": [
      "Validation accuracy: 0.973872\n"
     ]
    },
    {
     "name": "stderr",
     "output_type": "stream",
     "text": [
      "Epoch 178: 100%|███████████████████████████████████████████████████| 326/326 [00:05<00:00, 62.30it/s, T_Accuracy=97.5%]\n"
     ]
    },
    {
     "name": "stdout",
     "output_type": "stream",
     "text": [
      "Validation accuracy: 0.975059\n"
     ]
    },
    {
     "name": "stderr",
     "output_type": "stream",
     "text": [
      "Epoch 179: 100%|███████████████████████████████████████████████████| 326/326 [00:05<00:00, 62.38it/s, T_Accuracy=99.2%]\n"
     ]
    },
    {
     "name": "stdout",
     "output_type": "stream",
     "text": [
      "Validation accuracy: 0.975455\n"
     ]
    },
    {
     "name": "stderr",
     "output_type": "stream",
     "text": [
      "Epoch 180: 100%|███████████████████████████████████████████████████| 326/326 [00:05<00:00, 62.00it/s, T_Accuracy=98.3%]\n"
     ]
    },
    {
     "name": "stdout",
     "output_type": "stream",
     "text": [
      "Validation accuracy: 0.974268\n"
     ]
    },
    {
     "name": "stderr",
     "output_type": "stream",
     "text": [
      "Epoch 181: 100%|███████████████████████████████████████████████████| 326/326 [00:05<00:00, 62.69it/s, T_Accuracy=99.2%]\n"
     ]
    },
    {
     "name": "stdout",
     "output_type": "stream",
     "text": [
      "Validation accuracy: 0.971497\n"
     ]
    },
    {
     "name": "stderr",
     "output_type": "stream",
     "text": [
      "Epoch 182: 100%|███████████████████████████████████████████████████| 326/326 [00:05<00:00, 61.74it/s, T_Accuracy=98.3%]\n"
     ]
    },
    {
     "name": "stdout",
     "output_type": "stream",
     "text": [
      "Validation accuracy: 0.972684\n"
     ]
    },
    {
     "name": "stderr",
     "output_type": "stream",
     "text": [
      "Epoch 183: 100%|██████████████████████████████████████████████████| 326/326 [00:05<00:00, 61.93it/s, T_Accuracy=100.0%]\n"
     ]
    },
    {
     "name": "stdout",
     "output_type": "stream",
     "text": [
      "Validation accuracy: 0.976247\n"
     ]
    },
    {
     "name": "stderr",
     "output_type": "stream",
     "text": [
      "Epoch 184: 100%|██████████████████████████████████████████████████| 326/326 [00:05<00:00, 62.12it/s, T_Accuracy=100.0%]\n"
     ]
    },
    {
     "name": "stdout",
     "output_type": "stream",
     "text": [
      "Validation accuracy: 0.973476\n"
     ]
    },
    {
     "name": "stderr",
     "output_type": "stream",
     "text": [
      "Epoch 185: 100%|██████████████████████████████████████████████████| 326/326 [00:05<00:00, 62.24it/s, T_Accuracy=100.0%]\n"
     ]
    },
    {
     "name": "stdout",
     "output_type": "stream",
     "text": [
      "Validation accuracy: 0.969121\n"
     ]
    },
    {
     "name": "stderr",
     "output_type": "stream",
     "text": [
      "Epoch 186: 100%|███████████████████████████████████████████████████| 326/326 [00:05<00:00, 62.41it/s, T_Accuracy=99.2%]\n"
     ]
    },
    {
     "name": "stdout",
     "output_type": "stream",
     "text": [
      "Validation accuracy: 0.969517\n"
     ]
    },
    {
     "name": "stderr",
     "output_type": "stream",
     "text": [
      "Epoch 187: 100%|███████████████████████████████████████████████████| 326/326 [00:05<00:00, 62.39it/s, T_Accuracy=98.3%]\n"
     ]
    },
    {
     "name": "stdout",
     "output_type": "stream",
     "text": [
      "Validation accuracy: 0.970309\n"
     ]
    },
    {
     "name": "stderr",
     "output_type": "stream",
     "text": [
      "Epoch 188: 100%|███████████████████████████████████████████████████| 326/326 [00:05<00:00, 62.33it/s, T_Accuracy=98.3%]\n"
     ]
    },
    {
     "name": "stdout",
     "output_type": "stream",
     "text": [
      "Validation accuracy: 0.973872\n"
     ]
    },
    {
     "name": "stderr",
     "output_type": "stream",
     "text": [
      "Epoch 189: 100%|███████████████████████████████████████████████████| 326/326 [00:05<00:00, 62.25it/s, T_Accuracy=99.2%]\n"
     ]
    },
    {
     "name": "stdout",
     "output_type": "stream",
     "text": [
      "Validation accuracy: 0.968329\n"
     ]
    },
    {
     "name": "stderr",
     "output_type": "stream",
     "text": [
      "Epoch 190: 100%|███████████████████████████████████████████████████| 326/326 [00:05<00:00, 62.17it/s, T_Accuracy=99.2%]\n"
     ]
    },
    {
     "name": "stdout",
     "output_type": "stream",
     "text": [
      "Validation accuracy: 0.970309\n"
     ]
    },
    {
     "name": "stderr",
     "output_type": "stream",
     "text": [
      "Epoch 191: 100%|██████████████████████████████████████████████████| 326/326 [00:05<00:00, 62.10it/s, T_Accuracy=100.0%]\n"
     ]
    },
    {
     "name": "stdout",
     "output_type": "stream",
     "text": [
      "Validation accuracy: 0.969517\n"
     ]
    },
    {
     "name": "stderr",
     "output_type": "stream",
     "text": [
      "Epoch 192: 100%|██████████████████████████████████████████████████| 326/326 [00:05<00:00, 61.87it/s, T_Accuracy=100.0%]\n"
     ]
    },
    {
     "name": "stdout",
     "output_type": "stream",
     "text": [
      "Validation accuracy: 0.969913\n"
     ]
    },
    {
     "name": "stderr",
     "output_type": "stream",
     "text": [
      "Epoch 193: 100%|███████████████████████████████████████████████████| 326/326 [00:05<00:00, 61.96it/s, T_Accuracy=96.7%]\n"
     ]
    },
    {
     "name": "stdout",
     "output_type": "stream",
     "text": [
      "Validation accuracy: 0.969913\n"
     ]
    },
    {
     "name": "stderr",
     "output_type": "stream",
     "text": [
      "Epoch 194: 100%|███████████████████████████████████████████████████| 326/326 [00:05<00:00, 61.95it/s, T_Accuracy=98.3%]\n"
     ]
    },
    {
     "name": "stdout",
     "output_type": "stream",
     "text": [
      "Validation accuracy: 0.971101\n"
     ]
    },
    {
     "name": "stderr",
     "output_type": "stream",
     "text": [
      "Epoch 195: 100%|███████████████████████████████████████████████████| 326/326 [00:05<00:00, 61.76it/s, T_Accuracy=96.7%]\n"
     ]
    },
    {
     "name": "stdout",
     "output_type": "stream",
     "text": [
      "Validation accuracy: 0.971496\n"
     ]
    },
    {
     "name": "stderr",
     "output_type": "stream",
     "text": [
      "Epoch 196: 100%|███████████████████████████████████████████████████| 326/326 [00:05<00:00, 62.09it/s, T_Accuracy=99.2%]\n"
     ]
    },
    {
     "name": "stdout",
     "output_type": "stream",
     "text": [
      "Validation accuracy: 0.972288\n"
     ]
    },
    {
     "name": "stderr",
     "output_type": "stream",
     "text": [
      "Epoch 197: 100%|██████████████████████████████████████████████████| 326/326 [00:05<00:00, 59.46it/s, T_Accuracy=100.0%]\n"
     ]
    },
    {
     "name": "stdout",
     "output_type": "stream",
     "text": [
      "Validation accuracy: 0.968329\n"
     ]
    },
    {
     "name": "stderr",
     "output_type": "stream",
     "text": [
      "Epoch 198: 100%|███████████████████████████████████████████████████| 326/326 [00:05<00:00, 61.89it/s, T_Accuracy=98.3%]\n"
     ]
    },
    {
     "name": "stdout",
     "output_type": "stream",
     "text": [
      "Validation accuracy: 0.974664\n"
     ]
    },
    {
     "name": "stderr",
     "output_type": "stream",
     "text": [
      "Epoch 199: 100%|███████████████████████████████████████████████████| 326/326 [00:05<00:00, 61.44it/s, T_Accuracy=96.7%]\n"
     ]
    },
    {
     "name": "stdout",
     "output_type": "stream",
     "text": [
      "Validation accuracy: 0.970309\n"
     ]
    },
    {
     "name": "stderr",
     "output_type": "stream",
     "text": [
      "Epoch 200: 100%|███████████████████████████████████████████████████| 326/326 [00:05<00:00, 62.10it/s, T_Accuracy=99.2%]\n"
     ]
    },
    {
     "name": "stdout",
     "output_type": "stream",
     "text": [
      "Validation accuracy: 0.971496\n"
     ]
    },
    {
     "name": "stderr",
     "output_type": "stream",
     "text": [
      "Epoch 201: 100%|███████████████████████████████████████████████████| 326/326 [00:05<00:00, 62.13it/s, T_Accuracy=97.5%]\n"
     ]
    },
    {
     "name": "stdout",
     "output_type": "stream",
     "text": [
      "Validation accuracy: 0.968725\n"
     ]
    },
    {
     "name": "stderr",
     "output_type": "stream",
     "text": [
      "Epoch 202: 100%|███████████████████████████████████████████████████| 326/326 [00:05<00:00, 61.78it/s, T_Accuracy=96.7%]\n"
     ]
    },
    {
     "name": "stdout",
     "output_type": "stream",
     "text": [
      "Validation accuracy: 0.971496\n"
     ]
    },
    {
     "name": "stderr",
     "output_type": "stream",
     "text": [
      "Epoch 203: 100%|███████████████████████████████████████████████████| 326/326 [00:05<00:00, 61.80it/s, T_Accuracy=97.5%]\n"
     ]
    },
    {
     "name": "stdout",
     "output_type": "stream",
     "text": [
      "Validation accuracy: 0.966746\n"
     ]
    },
    {
     "name": "stderr",
     "output_type": "stream",
     "text": [
      "Epoch 204: 100%|███████████████████████████████████████████████████| 326/326 [00:05<00:00, 62.08it/s, T_Accuracy=97.5%]\n"
     ]
    },
    {
     "name": "stdout",
     "output_type": "stream",
     "text": [
      "Validation accuracy: 0.970705\n"
     ]
    },
    {
     "name": "stderr",
     "output_type": "stream",
     "text": [
      "Epoch 205: 100%|██████████████████████████████████████████████████| 326/326 [00:05<00:00, 61.64it/s, T_Accuracy=100.0%]\n"
     ]
    },
    {
     "name": "stdout",
     "output_type": "stream",
     "text": [
      "Validation accuracy: 0.969913\n"
     ]
    },
    {
     "name": "stderr",
     "output_type": "stream",
     "text": [
      "Epoch 206: 100%|███████████████████████████████████████████████████| 326/326 [00:05<00:00, 62.02it/s, T_Accuracy=97.5%]\n"
     ]
    },
    {
     "name": "stdout",
     "output_type": "stream",
     "text": [
      "Validation accuracy: 0.97308\n"
     ]
    },
    {
     "name": "stderr",
     "output_type": "stream",
     "text": [
      "Epoch 207: 100%|██████████████████████████████████████████████████| 326/326 [00:05<00:00, 62.08it/s, T_Accuracy=100.0%]\n"
     ]
    },
    {
     "name": "stdout",
     "output_type": "stream",
     "text": [
      "Validation accuracy: 0.972288\n"
     ]
    },
    {
     "name": "stderr",
     "output_type": "stream",
     "text": [
      "Epoch 208: 100%|██████████████████████████████████████████████████| 326/326 [00:05<00:00, 61.29it/s, T_Accuracy=100.0%]\n"
     ]
    },
    {
     "name": "stdout",
     "output_type": "stream",
     "text": [
      "Validation accuracy: 0.971892\n"
     ]
    },
    {
     "name": "stderr",
     "output_type": "stream",
     "text": [
      "Epoch 209: 100%|███████████████████████████████████████████████████| 326/326 [00:05<00:00, 60.92it/s, T_Accuracy=99.2%]\n"
     ]
    },
    {
     "name": "stdout",
     "output_type": "stream",
     "text": [
      "Validation accuracy: 0.969517\n"
     ]
    },
    {
     "name": "stderr",
     "output_type": "stream",
     "text": [
      "Epoch 210: 100%|███████████████████████████████████████████████████| 326/326 [00:05<00:00, 60.67it/s, T_Accuracy=99.2%]\n"
     ]
    },
    {
     "name": "stdout",
     "output_type": "stream",
     "text": [
      "Validation accuracy: 0.969517\n"
     ]
    },
    {
     "name": "stderr",
     "output_type": "stream",
     "text": [
      "Epoch 211: 100%|███████████████████████████████████████████████████| 326/326 [00:05<00:00, 61.19it/s, T_Accuracy=98.3%]\n"
     ]
    },
    {
     "name": "stdout",
     "output_type": "stream",
     "text": [
      "Validation accuracy: 0.96635\n"
     ]
    },
    {
     "name": "stderr",
     "output_type": "stream",
     "text": [
      "Epoch 212: 100%|██████████████████████████████████████████████████| 326/326 [00:05<00:00, 61.58it/s, T_Accuracy=100.0%]\n"
     ]
    },
    {
     "name": "stdout",
     "output_type": "stream",
     "text": [
      "Validation accuracy: 0.970705\n"
     ]
    },
    {
     "name": "stderr",
     "output_type": "stream",
     "text": [
      "Epoch 213: 100%|███████████████████████████████████████████████████| 326/326 [00:05<00:00, 61.67it/s, T_Accuracy=99.2%]\n"
     ]
    },
    {
     "name": "stdout",
     "output_type": "stream",
     "text": [
      "Validation accuracy: 0.968725\n"
     ]
    },
    {
     "name": "stderr",
     "output_type": "stream",
     "text": [
      "Epoch 214: 100%|███████████████████████████████████████████████████| 326/326 [00:05<00:00, 61.74it/s, T_Accuracy=98.3%]\n"
     ]
    },
    {
     "name": "stdout",
     "output_type": "stream",
     "text": [
      "Validation accuracy: 0.969517\n"
     ]
    },
    {
     "name": "stderr",
     "output_type": "stream",
     "text": [
      "Epoch 215: 100%|███████████████████████████████████████████████████| 326/326 [00:05<00:00, 61.57it/s, T_Accuracy=99.2%]\n"
     ]
    },
    {
     "name": "stdout",
     "output_type": "stream",
     "text": [
      "Validation accuracy: 0.967934\n"
     ]
    },
    {
     "name": "stderr",
     "output_type": "stream",
     "text": [
      "Epoch 216: 100%|███████████████████████████████████████████████████| 326/326 [00:05<00:00, 61.46it/s, T_Accuracy=99.2%]\n"
     ]
    },
    {
     "name": "stdout",
     "output_type": "stream",
     "text": [
      "Validation accuracy: 0.972288\n"
     ]
    },
    {
     "name": "stderr",
     "output_type": "stream",
     "text": [
      "Epoch 217: 100%|███████████████████████████████████████████████████| 326/326 [00:05<00:00, 61.66it/s, T_Accuracy=97.5%]\n"
     ]
    },
    {
     "name": "stdout",
     "output_type": "stream",
     "text": [
      "Validation accuracy: 0.975059\n"
     ]
    },
    {
     "name": "stderr",
     "output_type": "stream",
     "text": [
      "Epoch 218: 100%|██████████████████████████████████████████████████| 326/326 [00:05<00:00, 61.64it/s, T_Accuracy=100.0%]\n"
     ]
    },
    {
     "name": "stdout",
     "output_type": "stream",
     "text": [
      "Validation accuracy: 0.973872\n"
     ]
    },
    {
     "name": "stderr",
     "output_type": "stream",
     "text": [
      "Epoch 219: 100%|███████████████████████████████████████████████████| 326/326 [00:05<00:00, 61.25it/s, T_Accuracy=99.2%]\n"
     ]
    },
    {
     "name": "stdout",
     "output_type": "stream",
     "text": [
      "Validation accuracy: 0.970309\n"
     ]
    },
    {
     "name": "stderr",
     "output_type": "stream",
     "text": [
      "Epoch 220: 100%|███████████████████████████████████████████████████| 326/326 [00:05<00:00, 61.51it/s, T_Accuracy=99.2%]\n"
     ]
    },
    {
     "name": "stdout",
     "output_type": "stream",
     "text": [
      "Validation accuracy: 0.969121\n"
     ]
    },
    {
     "name": "stderr",
     "output_type": "stream",
     "text": [
      "Epoch 221: 100%|███████████████████████████████████████████████████| 326/326 [00:05<00:00, 61.43it/s, T_Accuracy=98.3%]\n"
     ]
    },
    {
     "name": "stdout",
     "output_type": "stream",
     "text": [
      "Validation accuracy: 0.967538\n"
     ]
    },
    {
     "name": "stderr",
     "output_type": "stream",
     "text": [
      "Epoch 222: 100%|███████████████████████████████████████████████████| 326/326 [00:05<00:00, 61.54it/s, T_Accuracy=98.3%]\n"
     ]
    },
    {
     "name": "stdout",
     "output_type": "stream",
     "text": [
      "Validation accuracy: 0.971101\n"
     ]
    },
    {
     "name": "stderr",
     "output_type": "stream",
     "text": [
      "Epoch 223: 100%|███████████████████████████████████████████████████| 326/326 [00:05<00:00, 61.51it/s, T_Accuracy=98.3%]\n"
     ]
    },
    {
     "name": "stdout",
     "output_type": "stream",
     "text": [
      "Validation accuracy: 0.969913\n"
     ]
    },
    {
     "name": "stderr",
     "output_type": "stream",
     "text": [
      "Epoch 224: 100%|███████████████████████████████████████████████████| 326/326 [00:05<00:00, 61.58it/s, T_Accuracy=98.3%]\n"
     ]
    },
    {
     "name": "stdout",
     "output_type": "stream",
     "text": [
      "Validation accuracy: 0.971496\n"
     ]
    },
    {
     "name": "stderr",
     "output_type": "stream",
     "text": [
      "Epoch 225: 100%|███████████████████████████████████████████████████| 326/326 [00:05<00:00, 61.54it/s, T_Accuracy=99.2%]\n"
     ]
    },
    {
     "name": "stdout",
     "output_type": "stream",
     "text": [
      "Validation accuracy: 0.97308\n"
     ]
    },
    {
     "name": "stderr",
     "output_type": "stream",
     "text": [
      "Epoch 226: 100%|███████████████████████████████████████████████████| 326/326 [00:05<00:00, 61.71it/s, T_Accuracy=98.3%]\n"
     ]
    },
    {
     "name": "stdout",
     "output_type": "stream",
     "text": [
      "Validation accuracy: 0.968725\n"
     ]
    },
    {
     "name": "stderr",
     "output_type": "stream",
     "text": [
      "Epoch 227: 100%|██████████████████████████████████████████████████| 326/326 [00:05<00:00, 61.74it/s, T_Accuracy=100.0%]\n"
     ]
    },
    {
     "name": "stdout",
     "output_type": "stream",
     "text": [
      "Validation accuracy: 0.970309\n"
     ]
    },
    {
     "name": "stderr",
     "output_type": "stream",
     "text": [
      "Epoch 228: 100%|██████████████████████████████████████████████████| 326/326 [00:05<00:00, 61.49it/s, T_Accuracy=100.0%]\n"
     ]
    },
    {
     "name": "stdout",
     "output_type": "stream",
     "text": [
      "Validation accuracy: 0.970705\n"
     ]
    },
    {
     "name": "stderr",
     "output_type": "stream",
     "text": [
      "Epoch 229: 100%|███████████████████████████████████████████████████| 326/326 [00:05<00:00, 61.65it/s, T_Accuracy=96.7%]\n"
     ]
    },
    {
     "name": "stdout",
     "output_type": "stream",
     "text": [
      "Validation accuracy: 0.969517\n"
     ]
    },
    {
     "name": "stderr",
     "output_type": "stream",
     "text": [
      "Epoch 230: 100%|██████████████████████████████████████████████████| 326/326 [00:05<00:00, 62.14it/s, T_Accuracy=100.0%]\n"
     ]
    },
    {
     "name": "stdout",
     "output_type": "stream",
     "text": [
      "Validation accuracy: 0.967934\n"
     ]
    },
    {
     "name": "stderr",
     "output_type": "stream",
     "text": [
      "Epoch 231: 100%|███████████████████████████████████████████████████| 326/326 [00:05<00:00, 59.96it/s, T_Accuracy=97.5%]\n"
     ]
    },
    {
     "name": "stdout",
     "output_type": "stream",
     "text": [
      "Validation accuracy: 0.969913\n"
     ]
    },
    {
     "name": "stderr",
     "output_type": "stream",
     "text": [
      "Epoch 232: 100%|███████████████████████████████████████████████████| 326/326 [00:05<00:00, 61.11it/s, T_Accuracy=97.5%]\n"
     ]
    },
    {
     "name": "stdout",
     "output_type": "stream",
     "text": [
      "Validation accuracy: 0.965558\n"
     ]
    },
    {
     "name": "stderr",
     "output_type": "stream",
     "text": [
      "Epoch 233: 100%|███████████████████████████████████████████████████| 326/326 [00:05<00:00, 61.71it/s, T_Accuracy=98.3%]\n"
     ]
    },
    {
     "name": "stdout",
     "output_type": "stream",
     "text": [
      "Validation accuracy: 0.971497\n"
     ]
    },
    {
     "name": "stderr",
     "output_type": "stream",
     "text": [
      "Epoch 234: 100%|███████████████████████████████████████████████████| 326/326 [00:05<00:00, 61.61it/s, T_Accuracy=99.2%]\n"
     ]
    },
    {
     "name": "stdout",
     "output_type": "stream",
     "text": [
      "Validation accuracy: 0.969517\n"
     ]
    },
    {
     "name": "stderr",
     "output_type": "stream",
     "text": [
      "Epoch 235: 100%|███████████████████████████████████████████████████| 326/326 [00:05<00:00, 61.71it/s, T_Accuracy=99.2%]\n"
     ]
    },
    {
     "name": "stdout",
     "output_type": "stream",
     "text": [
      "Validation accuracy: 0.972684\n"
     ]
    },
    {
     "name": "stderr",
     "output_type": "stream",
     "text": [
      "Epoch 236: 100%|███████████████████████████████████████████████████| 326/326 [00:05<00:00, 61.77it/s, T_Accuracy=98.3%]\n"
     ]
    },
    {
     "name": "stdout",
     "output_type": "stream",
     "text": [
      "Validation accuracy: 0.974663\n"
     ]
    },
    {
     "name": "stderr",
     "output_type": "stream",
     "text": [
      "Epoch 237: 100%|██████████████████████████████████████████████████| 326/326 [00:05<00:00, 61.72it/s, T_Accuracy=100.0%]\n"
     ]
    },
    {
     "name": "stdout",
     "output_type": "stream",
     "text": [
      "Validation accuracy: 0.969517\n"
     ]
    },
    {
     "name": "stderr",
     "output_type": "stream",
     "text": [
      "Epoch 238: 100%|███████████████████████████████████████████████████| 326/326 [00:05<00:00, 61.59it/s, T_Accuracy=97.5%]\n"
     ]
    },
    {
     "name": "stdout",
     "output_type": "stream",
     "text": [
      "Validation accuracy: 0.967934\n"
     ]
    },
    {
     "name": "stderr",
     "output_type": "stream",
     "text": [
      "Epoch 239: 100%|███████████████████████████████████████████████████| 326/326 [00:05<00:00, 61.40it/s, T_Accuracy=99.2%]\n"
     ]
    },
    {
     "name": "stdout",
     "output_type": "stream",
     "text": [
      "Validation accuracy: 0.971496\n"
     ]
    },
    {
     "name": "stderr",
     "output_type": "stream",
     "text": [
      "Epoch 240: 100%|███████████████████████████████████████████████████| 326/326 [00:05<00:00, 61.77it/s, T_Accuracy=99.2%]\n"
     ]
    },
    {
     "name": "stdout",
     "output_type": "stream",
     "text": [
      "Validation accuracy: 0.970309\n"
     ]
    },
    {
     "name": "stderr",
     "output_type": "stream",
     "text": [
      "Epoch 241: 100%|██████████████████████████████████████████████████| 326/326 [00:05<00:00, 61.65it/s, T_Accuracy=100.0%]\n"
     ]
    },
    {
     "name": "stdout",
     "output_type": "stream",
     "text": [
      "Validation accuracy: 0.968329\n"
     ]
    },
    {
     "name": "stderr",
     "output_type": "stream",
     "text": [
      "Epoch 242: 100%|███████████████████████████████████████████████████| 326/326 [00:05<00:00, 61.65it/s, T_Accuracy=98.3%]\n"
     ]
    },
    {
     "name": "stdout",
     "output_type": "stream",
     "text": [
      "Validation accuracy: 0.973872\n"
     ]
    },
    {
     "name": "stderr",
     "output_type": "stream",
     "text": [
      "Epoch 243: 100%|███████████████████████████████████████████████████| 326/326 [00:05<00:00, 61.62it/s, T_Accuracy=99.2%]\n"
     ]
    },
    {
     "name": "stdout",
     "output_type": "stream",
     "text": [
      "Validation accuracy: 0.963579\n"
     ]
    },
    {
     "name": "stderr",
     "output_type": "stream",
     "text": [
      "Epoch 244: 100%|███████████████████████████████████████████████████| 326/326 [00:05<00:00, 61.49it/s, T_Accuracy=99.2%]\n"
     ]
    },
    {
     "name": "stdout",
     "output_type": "stream",
     "text": [
      "Validation accuracy: 0.971892\n"
     ]
    },
    {
     "name": "stderr",
     "output_type": "stream",
     "text": [
      "Epoch 245: 100%|███████████████████████████████████████████████████| 326/326 [00:05<00:00, 61.49it/s, T_Accuracy=98.3%]\n"
     ]
    },
    {
     "name": "stdout",
     "output_type": "stream",
     "text": [
      "Validation accuracy: 0.972684\n"
     ]
    },
    {
     "name": "stderr",
     "output_type": "stream",
     "text": [
      "Epoch 246: 100%|███████████████████████████████████████████████████| 326/326 [00:05<00:00, 61.68it/s, T_Accuracy=98.3%]\n"
     ]
    },
    {
     "name": "stdout",
     "output_type": "stream",
     "text": [
      "Validation accuracy: 0.974664\n"
     ]
    },
    {
     "name": "stderr",
     "output_type": "stream",
     "text": [
      "Epoch 247: 100%|███████████████████████████████████████████████████| 326/326 [00:05<00:00, 61.66it/s, T_Accuracy=98.3%]\n"
     ]
    },
    {
     "name": "stdout",
     "output_type": "stream",
     "text": [
      "Validation accuracy: 0.96635\n"
     ]
    },
    {
     "name": "stderr",
     "output_type": "stream",
     "text": [
      "Epoch 248: 100%|██████████████████████████████████████████████████| 326/326 [00:05<00:00, 61.66it/s, T_Accuracy=100.0%]\n"
     ]
    },
    {
     "name": "stdout",
     "output_type": "stream",
     "text": [
      "Validation accuracy: 0.967538\n"
     ]
    },
    {
     "name": "stderr",
     "output_type": "stream",
     "text": [
      "Epoch 249: 100%|███████████████████████████████████████████████████| 326/326 [00:05<00:00, 61.96it/s, T_Accuracy=98.3%]\n"
     ]
    },
    {
     "name": "stdout",
     "output_type": "stream",
     "text": [
      "Validation accuracy: 0.970309\n"
     ]
    },
    {
     "name": "stderr",
     "output_type": "stream",
     "text": [
      "Epoch 250: 100%|███████████████████████████████████████████████████| 326/326 [00:05<00:00, 61.82it/s, T_Accuracy=96.7%]\n"
     ]
    },
    {
     "name": "stdout",
     "output_type": "stream",
     "text": [
      "Validation accuracy: 0.965162\n"
     ]
    },
    {
     "name": "stderr",
     "output_type": "stream",
     "text": [
      "Epoch 251: 100%|███████████████████████████████████████████████████| 326/326 [00:05<00:00, 61.65it/s, T_Accuracy=95.8%]\n"
     ]
    },
    {
     "name": "stdout",
     "output_type": "stream",
     "text": [
      "Validation accuracy: 0.969517\n"
     ]
    },
    {
     "name": "stderr",
     "output_type": "stream",
     "text": [
      "Epoch 252: 100%|███████████████████████████████████████████████████| 326/326 [00:05<00:00, 61.71it/s, T_Accuracy=99.2%]\n"
     ]
    },
    {
     "name": "stdout",
     "output_type": "stream",
     "text": [
      "Validation accuracy: 0.973476\n"
     ]
    },
    {
     "name": "stderr",
     "output_type": "stream",
     "text": [
      "Epoch 253: 100%|███████████████████████████████████████████████████| 326/326 [00:05<00:00, 61.67it/s, T_Accuracy=99.2%]\n"
     ]
    },
    {
     "name": "stdout",
     "output_type": "stream",
     "text": [
      "Validation accuracy: 0.971496\n"
     ]
    },
    {
     "name": "stderr",
     "output_type": "stream",
     "text": [
      "Epoch 254: 100%|███████████████████████████████████████████████████| 326/326 [00:05<00:00, 61.69it/s, T_Accuracy=99.2%]\n"
     ]
    },
    {
     "name": "stdout",
     "output_type": "stream",
     "text": [
      "Validation accuracy: 0.970705\n"
     ]
    },
    {
     "name": "stderr",
     "output_type": "stream",
     "text": [
      "Epoch 255: 100%|███████████████████████████████████████████████████| 326/326 [00:05<00:00, 61.52it/s, T_Accuracy=98.3%]\n"
     ]
    },
    {
     "name": "stdout",
     "output_type": "stream",
     "text": [
      "Validation accuracy: 0.970705\n"
     ]
    },
    {
     "name": "stderr",
     "output_type": "stream",
     "text": [
      "Epoch 256: 100%|███████████████████████████████████████████████████| 326/326 [00:05<00:00, 61.18it/s, T_Accuracy=97.5%]\n"
     ]
    },
    {
     "name": "stdout",
     "output_type": "stream",
     "text": [
      "Validation accuracy: 0.973872\n"
     ]
    },
    {
     "name": "stderr",
     "output_type": "stream",
     "text": [
      "Epoch 257: 100%|███████████████████████████████████████████████████| 326/326 [00:05<00:00, 61.42it/s, T_Accuracy=99.2%]\n"
     ]
    },
    {
     "name": "stdout",
     "output_type": "stream",
     "text": [
      "Validation accuracy: 0.974663\n"
     ]
    },
    {
     "name": "stderr",
     "output_type": "stream",
     "text": [
      "Epoch 258: 100%|██████████████████████████████████████████████████| 326/326 [00:05<00:00, 61.59it/s, T_Accuracy=100.0%]\n"
     ]
    },
    {
     "name": "stdout",
     "output_type": "stream",
     "text": [
      "Validation accuracy: 0.970705\n"
     ]
    },
    {
     "name": "stderr",
     "output_type": "stream",
     "text": [
      "Epoch 259: 100%|███████████████████████████████████████████████████| 326/326 [00:05<00:00, 61.63it/s, T_Accuracy=99.2%]\n"
     ]
    },
    {
     "name": "stdout",
     "output_type": "stream",
     "text": [
      "Validation accuracy: 0.970309\n"
     ]
    },
    {
     "name": "stderr",
     "output_type": "stream",
     "text": [
      "Epoch 260: 100%|███████████████████████████████████████████████████| 326/326 [00:05<00:00, 61.65it/s, T_Accuracy=99.2%]\n"
     ]
    },
    {
     "name": "stdout",
     "output_type": "stream",
     "text": [
      "Validation accuracy: 0.973872\n"
     ]
    },
    {
     "name": "stderr",
     "output_type": "stream",
     "text": [
      "Epoch 261: 100%|██████████████████████████████████████████████████| 326/326 [00:05<00:00, 61.72it/s, T_Accuracy=100.0%]\n"
     ]
    },
    {
     "name": "stdout",
     "output_type": "stream",
     "text": [
      "Validation accuracy: 0.974663\n"
     ]
    },
    {
     "name": "stderr",
     "output_type": "stream",
     "text": [
      "Epoch 262: 100%|██████████████████████████████████████████████████| 326/326 [00:05<00:00, 61.55it/s, T_Accuracy=100.0%]\n"
     ]
    },
    {
     "name": "stdout",
     "output_type": "stream",
     "text": [
      "Validation accuracy: 0.970309\n"
     ]
    },
    {
     "name": "stderr",
     "output_type": "stream",
     "text": [
      "Epoch 263: 100%|███████████████████████████████████████████████████| 326/326 [00:05<00:00, 61.65it/s, T_Accuracy=98.3%]\n"
     ]
    },
    {
     "name": "stdout",
     "output_type": "stream",
     "text": [
      "Validation accuracy: 0.967933\n"
     ]
    },
    {
     "name": "stderr",
     "output_type": "stream",
     "text": [
      "Epoch 264: 100%|███████████████████████████████████████████████████| 326/326 [00:05<00:00, 61.50it/s, T_Accuracy=97.5%]\n"
     ]
    },
    {
     "name": "stdout",
     "output_type": "stream",
     "text": [
      "Validation accuracy: 0.972684\n"
     ]
    },
    {
     "name": "stderr",
     "output_type": "stream",
     "text": [
      "Epoch 265: 100%|███████████████████████████████████████████████████| 326/326 [00:05<00:00, 61.05it/s, T_Accuracy=95.8%]\n"
     ]
    },
    {
     "name": "stdout",
     "output_type": "stream",
     "text": [
      "Validation accuracy: 0.972288\n"
     ]
    },
    {
     "name": "stderr",
     "output_type": "stream",
     "text": [
      "Epoch 266: 100%|███████████████████████████████████████████████████| 326/326 [00:05<00:00, 62.17it/s, T_Accuracy=98.3%]\n"
     ]
    },
    {
     "name": "stdout",
     "output_type": "stream",
     "text": [
      "Validation accuracy: 0.972684\n"
     ]
    },
    {
     "name": "stderr",
     "output_type": "stream",
     "text": [
      "Epoch 267: 100%|███████████████████████████████████████████████████| 326/326 [00:05<00:00, 62.11it/s, T_Accuracy=98.3%]\n"
     ]
    },
    {
     "name": "stdout",
     "output_type": "stream",
     "text": [
      "Validation accuracy: 0.97308\n"
     ]
    },
    {
     "name": "stderr",
     "output_type": "stream",
     "text": [
      "Epoch 268: 100%|███████████████████████████████████████████████████| 326/326 [00:05<00:00, 60.44it/s, T_Accuracy=98.3%]\n"
     ]
    },
    {
     "name": "stdout",
     "output_type": "stream",
     "text": [
      "Validation accuracy: 0.977831\n"
     ]
    },
    {
     "name": "stderr",
     "output_type": "stream",
     "text": [
      "Epoch 269: 100%|███████████████████████████████████████████████████| 326/326 [00:05<00:00, 62.28it/s, T_Accuracy=95.8%]\n"
     ]
    },
    {
     "name": "stdout",
     "output_type": "stream",
     "text": [
      "Validation accuracy: 0.97308\n"
     ]
    },
    {
     "name": "stderr",
     "output_type": "stream",
     "text": [
      "Epoch 270: 100%|███████████████████████████████████████████████████| 326/326 [00:05<00:00, 62.14it/s, T_Accuracy=99.2%]\n"
     ]
    },
    {
     "name": "stdout",
     "output_type": "stream",
     "text": [
      "Validation accuracy: 0.972288\n"
     ]
    },
    {
     "name": "stderr",
     "output_type": "stream",
     "text": [
      "Epoch 271: 100%|███████████████████████████████████████████████████| 326/326 [00:05<00:00, 61.52it/s, T_Accuracy=98.3%]\n"
     ]
    },
    {
     "name": "stdout",
     "output_type": "stream",
     "text": [
      "Validation accuracy: 0.969517\n"
     ]
    },
    {
     "name": "stderr",
     "output_type": "stream",
     "text": [
      "Epoch 272: 100%|███████████████████████████████████████████████████| 326/326 [00:05<00:00, 62.31it/s, T_Accuracy=99.2%]\n"
     ]
    },
    {
     "name": "stdout",
     "output_type": "stream",
     "text": [
      "Validation accuracy: 0.969913\n"
     ]
    },
    {
     "name": "stderr",
     "output_type": "stream",
     "text": [
      "Epoch 273: 100%|███████████████████████████████████████████████████| 326/326 [00:05<00:00, 62.25it/s, T_Accuracy=98.3%]\n"
     ]
    },
    {
     "name": "stdout",
     "output_type": "stream",
     "text": [
      "Validation accuracy: 0.972684\n"
     ]
    },
    {
     "name": "stderr",
     "output_type": "stream",
     "text": [
      "Epoch 274: 100%|██████████████████████████████████████████████████| 326/326 [00:05<00:00, 61.95it/s, T_Accuracy=100.0%]\n"
     ]
    },
    {
     "name": "stdout",
     "output_type": "stream",
     "text": [
      "Validation accuracy: 0.971101\n"
     ]
    },
    {
     "name": "stderr",
     "output_type": "stream",
     "text": [
      "Epoch 275: 100%|███████████████████████████████████████████████████| 326/326 [00:05<00:00, 62.18it/s, T_Accuracy=98.3%]\n"
     ]
    },
    {
     "name": "stdout",
     "output_type": "stream",
     "text": [
      "Validation accuracy: 0.974268\n"
     ]
    },
    {
     "name": "stderr",
     "output_type": "stream",
     "text": [
      "Epoch 276: 100%|███████████████████████████████████████████████████| 326/326 [00:05<00:00, 62.31it/s, T_Accuracy=95.8%]\n"
     ]
    },
    {
     "name": "stdout",
     "output_type": "stream",
     "text": [
      "Validation accuracy: 0.969517\n"
     ]
    },
    {
     "name": "stderr",
     "output_type": "stream",
     "text": [
      "Epoch 277: 100%|███████████████████████████████████████████████████| 326/326 [00:05<00:00, 61.56it/s, T_Accuracy=99.2%]\n"
     ]
    },
    {
     "name": "stdout",
     "output_type": "stream",
     "text": [
      "Validation accuracy: 0.972684\n"
     ]
    },
    {
     "name": "stderr",
     "output_type": "stream",
     "text": [
      "Epoch 278: 100%|███████████████████████████████████████████████████| 326/326 [00:05<00:00, 61.22it/s, T_Accuracy=98.3%]\n"
     ]
    },
    {
     "name": "stdout",
     "output_type": "stream",
     "text": [
      "Validation accuracy: 0.973476\n"
     ]
    },
    {
     "name": "stderr",
     "output_type": "stream",
     "text": [
      "Epoch 279: 100%|███████████████████████████████████████████████████| 326/326 [00:05<00:00, 61.06it/s, T_Accuracy=96.7%]\n"
     ]
    },
    {
     "name": "stdout",
     "output_type": "stream",
     "text": [
      "Validation accuracy: 0.97308\n"
     ]
    },
    {
     "name": "stderr",
     "output_type": "stream",
     "text": [
      "Epoch 280: 100%|███████████████████████████████████████████████████| 326/326 [00:05<00:00, 61.95it/s, T_Accuracy=99.2%]\n"
     ]
    },
    {
     "name": "stdout",
     "output_type": "stream",
     "text": [
      "Validation accuracy: 0.972684\n"
     ]
    },
    {
     "name": "stderr",
     "output_type": "stream",
     "text": [
      "Epoch 281: 100%|███████████████████████████████████████████████████| 326/326 [00:05<00:00, 61.44it/s, T_Accuracy=99.2%]\n"
     ]
    },
    {
     "name": "stdout",
     "output_type": "stream",
     "text": [
      "Validation accuracy: 0.969121\n"
     ]
    },
    {
     "name": "stderr",
     "output_type": "stream",
     "text": [
      "Epoch 282: 100%|███████████████████████████████████████████████████| 326/326 [00:05<00:00, 61.62it/s, T_Accuracy=96.7%]\n"
     ]
    },
    {
     "name": "stdout",
     "output_type": "stream",
     "text": [
      "Validation accuracy: 0.971496\n"
     ]
    },
    {
     "name": "stderr",
     "output_type": "stream",
     "text": [
      "Epoch 283: 100%|███████████████████████████████████████████████████| 326/326 [00:05<00:00, 61.34it/s, T_Accuracy=98.3%]\n"
     ]
    },
    {
     "name": "stdout",
     "output_type": "stream",
     "text": [
      "Validation accuracy: 0.969517\n"
     ]
    },
    {
     "name": "stderr",
     "output_type": "stream",
     "text": [
      "Epoch 284: 100%|██████████████████████████████████████████████████| 326/326 [00:05<00:00, 62.21it/s, T_Accuracy=100.0%]\n"
     ]
    },
    {
     "name": "stdout",
     "output_type": "stream",
     "text": [
      "Validation accuracy: 0.969121\n"
     ]
    },
    {
     "name": "stderr",
     "output_type": "stream",
     "text": [
      "Epoch 285: 100%|██████████████████████████████████████████████████| 326/326 [00:05<00:00, 62.05it/s, T_Accuracy=100.0%]\n"
     ]
    },
    {
     "name": "stdout",
     "output_type": "stream",
     "text": [
      "Validation accuracy: 0.971496\n"
     ]
    },
    {
     "name": "stderr",
     "output_type": "stream",
     "text": [
      "Epoch 286: 100%|███████████████████████████████████████████████████| 326/326 [00:05<00:00, 61.96it/s, T_Accuracy=96.7%]\n"
     ]
    },
    {
     "name": "stdout",
     "output_type": "stream",
     "text": [
      "Validation accuracy: 0.965558\n"
     ]
    },
    {
     "name": "stderr",
     "output_type": "stream",
     "text": [
      "Epoch 287: 100%|███████████████████████████████████████████████████| 326/326 [00:05<00:00, 62.14it/s, T_Accuracy=99.2%]\n"
     ]
    },
    {
     "name": "stdout",
     "output_type": "stream",
     "text": [
      "Validation accuracy: 0.972684\n"
     ]
    },
    {
     "name": "stderr",
     "output_type": "stream",
     "text": [
      "Epoch 288: 100%|███████████████████████████████████████████████████| 326/326 [00:05<00:00, 61.92it/s, T_Accuracy=99.2%]\n"
     ]
    },
    {
     "name": "stdout",
     "output_type": "stream",
     "text": [
      "Validation accuracy: 0.971101\n"
     ]
    },
    {
     "name": "stderr",
     "output_type": "stream",
     "text": [
      "Epoch 289: 100%|███████████████████████████████████████████████████| 326/326 [00:05<00:00, 61.75it/s, T_Accuracy=97.5%]\n"
     ]
    },
    {
     "name": "stdout",
     "output_type": "stream",
     "text": [
      "Validation accuracy: 0.97308\n"
     ]
    },
    {
     "name": "stderr",
     "output_type": "stream",
     "text": [
      "Epoch 290: 100%|███████████████████████████████████████████████████| 326/326 [00:05<00:00, 61.91it/s, T_Accuracy=99.2%]\n"
     ]
    },
    {
     "name": "stdout",
     "output_type": "stream",
     "text": [
      "Validation accuracy: 0.969517\n"
     ]
    },
    {
     "name": "stderr",
     "output_type": "stream",
     "text": [
      "Epoch 291: 100%|███████████████████████████████████████████████████| 326/326 [00:05<00:00, 61.87it/s, T_Accuracy=97.5%]\n"
     ]
    },
    {
     "name": "stdout",
     "output_type": "stream",
     "text": [
      "Validation accuracy: 0.968725\n"
     ]
    },
    {
     "name": "stderr",
     "output_type": "stream",
     "text": [
      "Epoch 292: 100%|███████████████████████████████████████████████████| 326/326 [00:05<00:00, 61.60it/s, T_Accuracy=98.3%]\n"
     ]
    },
    {
     "name": "stdout",
     "output_type": "stream",
     "text": [
      "Validation accuracy: 0.969121\n"
     ]
    },
    {
     "name": "stderr",
     "output_type": "stream",
     "text": [
      "Epoch 293: 100%|██████████████████████████████████████████████████| 326/326 [00:05<00:00, 61.69it/s, T_Accuracy=100.0%]\n"
     ]
    },
    {
     "name": "stdout",
     "output_type": "stream",
     "text": [
      "Validation accuracy: 0.973872\n"
     ]
    },
    {
     "name": "stderr",
     "output_type": "stream",
     "text": [
      "Epoch 294: 100%|███████████████████████████████████████████████████| 326/326 [00:05<00:00, 62.11it/s, T_Accuracy=97.5%]\n"
     ]
    },
    {
     "name": "stdout",
     "output_type": "stream",
     "text": [
      "Validation accuracy: 0.974268\n"
     ]
    },
    {
     "name": "stderr",
     "output_type": "stream",
     "text": [
      "Epoch 295: 100%|███████████████████████████████████████████████████| 326/326 [00:05<00:00, 62.08it/s, T_Accuracy=99.2%]\n"
     ]
    },
    {
     "name": "stdout",
     "output_type": "stream",
     "text": [
      "Validation accuracy: 0.971496\n"
     ]
    },
    {
     "name": "stderr",
     "output_type": "stream",
     "text": [
      "Epoch 296: 100%|███████████████████████████████████████████████████| 326/326 [00:05<00:00, 61.99it/s, T_Accuracy=99.2%]\n"
     ]
    },
    {
     "name": "stdout",
     "output_type": "stream",
     "text": [
      "Validation accuracy: 0.969121\n"
     ]
    },
    {
     "name": "stderr",
     "output_type": "stream",
     "text": [
      "Epoch 297: 100%|███████████████████████████████████████████████████| 326/326 [00:05<00:00, 62.08it/s, T_Accuracy=99.2%]\n"
     ]
    },
    {
     "name": "stdout",
     "output_type": "stream",
     "text": [
      "Validation accuracy: 0.969913\n"
     ]
    },
    {
     "name": "stderr",
     "output_type": "stream",
     "text": [
      "Epoch 298: 100%|███████████████████████████████████████████████████| 326/326 [00:05<00:00, 62.06it/s, T_Accuracy=99.2%]\n"
     ]
    },
    {
     "name": "stdout",
     "output_type": "stream",
     "text": [
      "Validation accuracy: 0.971496\n"
     ]
    },
    {
     "name": "stderr",
     "output_type": "stream",
     "text": [
      "Epoch 299: 100%|███████████████████████████████████████████████████| 326/326 [00:05<00:00, 62.30it/s, T_Accuracy=99.2%]\n"
     ]
    },
    {
     "name": "stdout",
     "output_type": "stream",
     "text": [
      "Validation accuracy: 0.971496\n"
     ]
    },
    {
     "name": "stderr",
     "output_type": "stream",
     "text": [
      "Epoch 300: 100%|██████████████████████████████████████████████████| 326/326 [00:05<00:00, 62.26it/s, T_Accuracy=100.0%]\n"
     ]
    },
    {
     "name": "stdout",
     "output_type": "stream",
     "text": [
      "Validation accuracy: 0.971496\n"
     ]
    },
    {
     "name": "stderr",
     "output_type": "stream",
     "text": [
      "Epoch 301: 100%|██████████████████████████████████████████████████| 326/326 [00:05<00:00, 61.85it/s, T_Accuracy=100.0%]\n"
     ]
    },
    {
     "name": "stdout",
     "output_type": "stream",
     "text": [
      "Validation accuracy: 0.974268\n"
     ]
    },
    {
     "name": "stderr",
     "output_type": "stream",
     "text": [
      "Epoch 302: 100%|███████████████████████████████████████████████████| 326/326 [00:05<00:00, 61.99it/s, T_Accuracy=99.2%]\n"
     ]
    },
    {
     "name": "stdout",
     "output_type": "stream",
     "text": [
      "Validation accuracy: 0.970705\n"
     ]
    },
    {
     "name": "stderr",
     "output_type": "stream",
     "text": [
      "Epoch 303: 100%|███████████████████████████████████████████████████| 326/326 [00:05<00:00, 62.15it/s, T_Accuracy=99.2%]\n"
     ]
    },
    {
     "name": "stdout",
     "output_type": "stream",
     "text": [
      "Validation accuracy: 0.969913\n"
     ]
    },
    {
     "name": "stderr",
     "output_type": "stream",
     "text": [
      "Epoch 304: 100%|███████████████████████████████████████████████████| 326/326 [00:05<00:00, 61.89it/s, T_Accuracy=97.5%]\n"
     ]
    },
    {
     "name": "stdout",
     "output_type": "stream",
     "text": [
      "Validation accuracy: 0.972288\n"
     ]
    },
    {
     "name": "stderr",
     "output_type": "stream",
     "text": [
      "Epoch 305: 100%|███████████████████████████████████████████████████| 326/326 [00:05<00:00, 61.85it/s, T_Accuracy=97.5%]\n"
     ]
    },
    {
     "name": "stdout",
     "output_type": "stream",
     "text": [
      "Validation accuracy: 0.970309\n"
     ]
    },
    {
     "name": "stderr",
     "output_type": "stream",
     "text": [
      "Epoch 306: 100%|███████████████████████████████████████████████████| 326/326 [00:05<00:00, 62.02it/s, T_Accuracy=99.2%]\n"
     ]
    },
    {
     "name": "stdout",
     "output_type": "stream",
     "text": [
      "Validation accuracy: 0.975455\n"
     ]
    },
    {
     "name": "stderr",
     "output_type": "stream",
     "text": [
      "Epoch 307: 100%|███████████████████████████████████████████████████| 326/326 [00:05<00:00, 61.88it/s, T_Accuracy=97.5%]\n"
     ]
    },
    {
     "name": "stdout",
     "output_type": "stream",
     "text": [
      "Validation accuracy: 0.973872\n"
     ]
    },
    {
     "name": "stderr",
     "output_type": "stream",
     "text": [
      "Epoch 308: 100%|██████████████████████████████████████████████████| 326/326 [00:05<00:00, 62.05it/s, T_Accuracy=100.0%]\n"
     ]
    },
    {
     "name": "stdout",
     "output_type": "stream",
     "text": [
      "Validation accuracy: 0.972684\n"
     ]
    },
    {
     "name": "stderr",
     "output_type": "stream",
     "text": [
      "Epoch 309: 100%|███████████████████████████████████████████████████| 326/326 [00:05<00:00, 61.88it/s, T_Accuracy=98.3%]\n"
     ]
    },
    {
     "name": "stdout",
     "output_type": "stream",
     "text": [
      "Validation accuracy: 0.963183\n"
     ]
    },
    {
     "name": "stderr",
     "output_type": "stream",
     "text": [
      "Epoch 310: 100%|███████████████████████████████████████████████████| 326/326 [00:05<00:00, 61.81it/s, T_Accuracy=97.5%]\n"
     ]
    },
    {
     "name": "stdout",
     "output_type": "stream",
     "text": [
      "Validation accuracy: 0.97308\n"
     ]
    },
    {
     "name": "stderr",
     "output_type": "stream",
     "text": [
      "Epoch 311: 100%|███████████████████████████████████████████████████| 326/326 [00:05<00:00, 61.89it/s, T_Accuracy=99.2%]\n"
     ]
    },
    {
     "name": "stdout",
     "output_type": "stream",
     "text": [
      "Validation accuracy: 0.971101\n"
     ]
    },
    {
     "name": "stderr",
     "output_type": "stream",
     "text": [
      "Epoch 312: 100%|███████████████████████████████████████████████████| 326/326 [00:05<00:00, 61.56it/s, T_Accuracy=99.2%]\n"
     ]
    },
    {
     "name": "stdout",
     "output_type": "stream",
     "text": [
      "Validation accuracy: 0.973476\n"
     ]
    },
    {
     "name": "stderr",
     "output_type": "stream",
     "text": [
      "Epoch 313: 100%|██████████████████████████████████████████████████| 326/326 [00:05<00:00, 61.99it/s, T_Accuracy=100.0%]\n"
     ]
    },
    {
     "name": "stdout",
     "output_type": "stream",
     "text": [
      "Validation accuracy: 0.974268\n"
     ]
    },
    {
     "name": "stderr",
     "output_type": "stream",
     "text": [
      "Epoch 314: 100%|███████████████████████████████████████████████████| 326/326 [00:05<00:00, 61.91it/s, T_Accuracy=99.2%]\n"
     ]
    },
    {
     "name": "stdout",
     "output_type": "stream",
     "text": [
      "Validation accuracy: 0.974663\n"
     ]
    },
    {
     "name": "stderr",
     "output_type": "stream",
     "text": [
      "Epoch 315: 100%|███████████████████████████████████████████████████| 326/326 [00:05<00:00, 61.92it/s, T_Accuracy=99.2%]\n"
     ]
    },
    {
     "name": "stdout",
     "output_type": "stream",
     "text": [
      "Validation accuracy: 0.973872\n"
     ]
    },
    {
     "name": "stderr",
     "output_type": "stream",
     "text": [
      "Epoch 316: 100%|██████████████████████████████████████████████████| 326/326 [00:05<00:00, 61.56it/s, T_Accuracy=100.0%]\n"
     ]
    },
    {
     "name": "stdout",
     "output_type": "stream",
     "text": [
      "Validation accuracy: 0.979018\n"
     ]
    },
    {
     "name": "stderr",
     "output_type": "stream",
     "text": [
      "Epoch 317: 100%|███████████████████████████████████████████████████| 326/326 [00:05<00:00, 61.81it/s, T_Accuracy=99.2%]\n"
     ]
    },
    {
     "name": "stdout",
     "output_type": "stream",
     "text": [
      "Validation accuracy: 0.974664\n"
     ]
    },
    {
     "name": "stderr",
     "output_type": "stream",
     "text": [
      "Epoch 318: 100%|███████████████████████████████████████████████████| 326/326 [00:05<00:00, 61.82it/s, T_Accuracy=99.2%]\n"
     ]
    },
    {
     "name": "stdout",
     "output_type": "stream",
     "text": [
      "Validation accuracy: 0.967538\n"
     ]
    },
    {
     "name": "stderr",
     "output_type": "stream",
     "text": [
      "Epoch 319: 100%|███████████████████████████████████████████████████| 326/326 [00:05<00:00, 61.54it/s, T_Accuracy=99.2%]\n"
     ]
    },
    {
     "name": "stdout",
     "output_type": "stream",
     "text": [
      "Validation accuracy: 0.970705\n"
     ]
    },
    {
     "name": "stderr",
     "output_type": "stream",
     "text": [
      "Epoch 320: 100%|███████████████████████████████████████████████████| 326/326 [00:05<00:00, 61.97it/s, T_Accuracy=98.3%]\n"
     ]
    },
    {
     "name": "stdout",
     "output_type": "stream",
     "text": [
      "Validation accuracy: 0.970705\n"
     ]
    },
    {
     "name": "stderr",
     "output_type": "stream",
     "text": [
      "Epoch 321: 100%|███████████████████████████████████████████████████| 326/326 [00:05<00:00, 61.94it/s, T_Accuracy=99.2%]\n"
     ]
    },
    {
     "name": "stdout",
     "output_type": "stream",
     "text": [
      "Validation accuracy: 0.972684\n"
     ]
    },
    {
     "name": "stderr",
     "output_type": "stream",
     "text": [
      "Epoch 322: 100%|███████████████████████████████████████████████████| 326/326 [00:05<00:00, 61.57it/s, T_Accuracy=97.5%]\n"
     ]
    },
    {
     "name": "stdout",
     "output_type": "stream",
     "text": [
      "Validation accuracy: 0.971101\n"
     ]
    },
    {
     "name": "stderr",
     "output_type": "stream",
     "text": [
      "Epoch 323: 100%|███████████████████████████████████████████████████| 326/326 [00:05<00:00, 61.81it/s, T_Accuracy=99.2%]\n"
     ]
    },
    {
     "name": "stdout",
     "output_type": "stream",
     "text": [
      "Validation accuracy: 0.971892\n"
     ]
    },
    {
     "name": "stderr",
     "output_type": "stream",
     "text": [
      "Epoch 324: 100%|███████████████████████████████████████████████████| 326/326 [00:05<00:00, 62.21it/s, T_Accuracy=99.2%]\n"
     ]
    },
    {
     "name": "stdout",
     "output_type": "stream",
     "text": [
      "Validation accuracy: 0.97308\n"
     ]
    },
    {
     "name": "stderr",
     "output_type": "stream",
     "text": [
      "Epoch 325: 100%|██████████████████████████████████████████████████| 326/326 [00:05<00:00, 61.75it/s, T_Accuracy=100.0%]\n"
     ]
    },
    {
     "name": "stdout",
     "output_type": "stream",
     "text": [
      "Validation accuracy: 0.969517\n"
     ]
    },
    {
     "name": "stderr",
     "output_type": "stream",
     "text": [
      "Epoch 326: 100%|███████████████████████████████████████████████████| 326/326 [00:05<00:00, 61.98it/s, T_Accuracy=99.2%]\n"
     ]
    },
    {
     "name": "stdout",
     "output_type": "stream",
     "text": [
      "Validation accuracy: 0.968725\n"
     ]
    },
    {
     "name": "stderr",
     "output_type": "stream",
     "text": [
      "Epoch 327: 100%|███████████████████████████████████████████████████| 326/326 [00:05<00:00, 62.20it/s, T_Accuracy=98.3%]\n"
     ]
    },
    {
     "name": "stdout",
     "output_type": "stream",
     "text": [
      "Validation accuracy: 0.971892\n"
     ]
    },
    {
     "name": "stderr",
     "output_type": "stream",
     "text": [
      "Epoch 328: 100%|██████████████████████████████████████████████████| 326/326 [00:05<00:00, 62.08it/s, T_Accuracy=100.0%]\n"
     ]
    },
    {
     "name": "stdout",
     "output_type": "stream",
     "text": [
      "Validation accuracy: 0.973476\n"
     ]
    },
    {
     "name": "stderr",
     "output_type": "stream",
     "text": [
      "Epoch 329: 100%|███████████████████████████████████████████████████| 326/326 [00:05<00:00, 62.01it/s, T_Accuracy=99.2%]\n"
     ]
    },
    {
     "name": "stdout",
     "output_type": "stream",
     "text": [
      "Validation accuracy: 0.970705\n"
     ]
    },
    {
     "name": "stderr",
     "output_type": "stream",
     "text": [
      "Epoch 330: 100%|███████████████████████████████████████████████████| 326/326 [00:05<00:00, 61.99it/s, T_Accuracy=96.7%]\n"
     ]
    },
    {
     "name": "stdout",
     "output_type": "stream",
     "text": [
      "Validation accuracy: 0.969517\n"
     ]
    },
    {
     "name": "stderr",
     "output_type": "stream",
     "text": [
      "Epoch 331: 100%|██████████████████████████████████████████████████| 326/326 [00:05<00:00, 62.28it/s, T_Accuracy=100.0%]\n"
     ]
    },
    {
     "name": "stdout",
     "output_type": "stream",
     "text": [
      "Validation accuracy: 0.969121\n"
     ]
    },
    {
     "name": "stderr",
     "output_type": "stream",
     "text": [
      "Epoch 332: 100%|██████████████████████████████████████████████████| 326/326 [00:05<00:00, 62.09it/s, T_Accuracy=100.0%]\n"
     ]
    },
    {
     "name": "stdout",
     "output_type": "stream",
     "text": [
      "Validation accuracy: 0.965954\n"
     ]
    },
    {
     "name": "stderr",
     "output_type": "stream",
     "text": [
      "Epoch 333: 100%|██████████████████████████████████████████████████| 326/326 [00:05<00:00, 62.02it/s, T_Accuracy=100.0%]\n"
     ]
    },
    {
     "name": "stdout",
     "output_type": "stream",
     "text": [
      "Validation accuracy: 0.969517\n"
     ]
    },
    {
     "name": "stderr",
     "output_type": "stream",
     "text": [
      "Epoch 334: 100%|███████████████████████████████████████████████████| 326/326 [00:05<00:00, 62.26it/s, T_Accuracy=97.5%]\n"
     ]
    },
    {
     "name": "stdout",
     "output_type": "stream",
     "text": [
      "Validation accuracy: 0.971101\n"
     ]
    },
    {
     "name": "stderr",
     "output_type": "stream",
     "text": [
      "Epoch 335: 100%|███████████████████████████████████████████████████| 326/326 [00:05<00:00, 62.11it/s, T_Accuracy=97.5%]\n"
     ]
    },
    {
     "name": "stdout",
     "output_type": "stream",
     "text": [
      "Validation accuracy: 0.967142\n"
     ]
    },
    {
     "name": "stderr",
     "output_type": "stream",
     "text": [
      "Epoch 336: 100%|███████████████████████████████████████████████████| 326/326 [00:05<00:00, 62.20it/s, T_Accuracy=99.2%]\n"
     ]
    },
    {
     "name": "stdout",
     "output_type": "stream",
     "text": [
      "Validation accuracy: 0.968725\n"
     ]
    },
    {
     "name": "stderr",
     "output_type": "stream",
     "text": [
      "Epoch 337: 100%|███████████████████████████████████████████████████| 326/326 [00:05<00:00, 61.73it/s, T_Accuracy=98.3%]\n"
     ]
    },
    {
     "name": "stdout",
     "output_type": "stream",
     "text": [
      "Validation accuracy: 0.969517\n"
     ]
    },
    {
     "name": "stderr",
     "output_type": "stream",
     "text": [
      "Epoch 338: 100%|██████████████████████████████████████████████████| 326/326 [00:05<00:00, 61.91it/s, T_Accuracy=100.0%]\n"
     ]
    },
    {
     "name": "stdout",
     "output_type": "stream",
     "text": [
      "Validation accuracy: 0.97308\n"
     ]
    },
    {
     "name": "stderr",
     "output_type": "stream",
     "text": [
      "Epoch 339: 100%|███████████████████████████████████████████████████| 326/326 [00:05<00:00, 61.95it/s, T_Accuracy=98.3%]\n"
     ]
    },
    {
     "name": "stdout",
     "output_type": "stream",
     "text": [
      "Validation accuracy: 0.973872\n"
     ]
    },
    {
     "name": "stderr",
     "output_type": "stream",
     "text": [
      "Epoch 340: 100%|███████████████████████████████████████████████████| 326/326 [00:05<00:00, 62.07it/s, T_Accuracy=99.2%]\n"
     ]
    },
    {
     "name": "stdout",
     "output_type": "stream",
     "text": [
      "Validation accuracy: 0.968725\n"
     ]
    },
    {
     "name": "stderr",
     "output_type": "stream",
     "text": [
      "Epoch 341: 100%|███████████████████████████████████████████████████| 326/326 [00:05<00:00, 62.20it/s, T_Accuracy=99.2%]\n"
     ]
    },
    {
     "name": "stdout",
     "output_type": "stream",
     "text": [
      "Validation accuracy: 0.969517\n"
     ]
    },
    {
     "name": "stderr",
     "output_type": "stream",
     "text": [
      "Epoch 342: 100%|███████████████████████████████████████████████████| 326/326 [00:05<00:00, 61.72it/s, T_Accuracy=96.7%]\n"
     ]
    },
    {
     "name": "stdout",
     "output_type": "stream",
     "text": [
      "Validation accuracy: 0.971496\n"
     ]
    },
    {
     "name": "stderr",
     "output_type": "stream",
     "text": [
      "Epoch 343: 100%|███████████████████████████████████████████████████| 326/326 [00:05<00:00, 62.03it/s, T_Accuracy=98.3%]\n"
     ]
    },
    {
     "name": "stdout",
     "output_type": "stream",
     "text": [
      "Validation accuracy: 0.969517\n"
     ]
    },
    {
     "name": "stderr",
     "output_type": "stream",
     "text": [
      "Epoch 344: 100%|███████████████████████████████████████████████████| 326/326 [00:05<00:00, 62.08it/s, T_Accuracy=99.2%]\n"
     ]
    },
    {
     "name": "stdout",
     "output_type": "stream",
     "text": [
      "Validation accuracy: 0.974268\n"
     ]
    },
    {
     "name": "stderr",
     "output_type": "stream",
     "text": [
      "Epoch 345: 100%|███████████████████████████████████████████████████| 326/326 [00:05<00:00, 62.12it/s, T_Accuracy=98.3%]\n"
     ]
    },
    {
     "name": "stdout",
     "output_type": "stream",
     "text": [
      "Validation accuracy: 0.974663\n"
     ]
    },
    {
     "name": "stderr",
     "output_type": "stream",
     "text": [
      "Epoch 346: 100%|███████████████████████████████████████████████████| 326/326 [00:05<00:00, 62.03it/s, T_Accuracy=99.2%]\n"
     ]
    },
    {
     "name": "stdout",
     "output_type": "stream",
     "text": [
      "Validation accuracy: 0.972288\n"
     ]
    },
    {
     "name": "stderr",
     "output_type": "stream",
     "text": [
      "Epoch 347: 100%|██████████████████████████████████████████████████| 326/326 [00:05<00:00, 62.27it/s, T_Accuracy=100.0%]\n"
     ]
    },
    {
     "name": "stdout",
     "output_type": "stream",
     "text": [
      "Validation accuracy: 0.971892\n"
     ]
    },
    {
     "name": "stderr",
     "output_type": "stream",
     "text": [
      "Epoch 348: 100%|██████████████████████████████████████████████████| 326/326 [00:05<00:00, 62.10it/s, T_Accuracy=100.0%]\n"
     ]
    },
    {
     "name": "stdout",
     "output_type": "stream",
     "text": [
      "Validation accuracy: 0.971101\n"
     ]
    },
    {
     "name": "stderr",
     "output_type": "stream",
     "text": [
      "Epoch 349: 100%|██████████████████████████████████████████████████| 326/326 [00:05<00:00, 62.14it/s, T_Accuracy=100.0%]\n"
     ]
    },
    {
     "name": "stdout",
     "output_type": "stream",
     "text": [
      "Validation accuracy: 0.973872\n"
     ]
    },
    {
     "name": "stderr",
     "output_type": "stream",
     "text": [
      "Epoch 350: 100%|███████████████████████████████████████████████████| 326/326 [00:05<00:00, 62.28it/s, T_Accuracy=99.2%]\n"
     ]
    },
    {
     "name": "stdout",
     "output_type": "stream",
     "text": [
      "Validation accuracy: 0.973872\n"
     ]
    },
    {
     "name": "stderr",
     "output_type": "stream",
     "text": [
      "Epoch 351: 100%|███████████████████████████████████████████████████| 326/326 [00:05<00:00, 61.55it/s, T_Accuracy=98.3%]\n"
     ]
    },
    {
     "name": "stdout",
     "output_type": "stream",
     "text": [
      "Validation accuracy: 0.974268\n"
     ]
    },
    {
     "name": "stderr",
     "output_type": "stream",
     "text": [
      "Epoch 352: 100%|██████████████████████████████████████████████████| 326/326 [00:05<00:00, 61.87it/s, T_Accuracy=100.0%]\n"
     ]
    },
    {
     "name": "stdout",
     "output_type": "stream",
     "text": [
      "Validation accuracy: 0.968329\n"
     ]
    },
    {
     "name": "stderr",
     "output_type": "stream",
     "text": [
      "Epoch 353: 100%|██████████████████████████████████████████████████| 326/326 [00:05<00:00, 62.25it/s, T_Accuracy=100.0%]\n"
     ]
    },
    {
     "name": "stdout",
     "output_type": "stream",
     "text": [
      "Validation accuracy: 0.969517\n"
     ]
    },
    {
     "name": "stderr",
     "output_type": "stream",
     "text": [
      "Epoch 354: 100%|███████████████████████████████████████████████████| 326/326 [00:05<00:00, 61.98it/s, T_Accuracy=95.8%]\n"
     ]
    },
    {
     "name": "stdout",
     "output_type": "stream",
     "text": [
      "Validation accuracy: 0.972288\n"
     ]
    },
    {
     "name": "stderr",
     "output_type": "stream",
     "text": [
      "Epoch 355: 100%|███████████████████████████████████████████████████| 326/326 [00:05<00:00, 62.28it/s, T_Accuracy=98.3%]\n"
     ]
    },
    {
     "name": "stdout",
     "output_type": "stream",
     "text": [
      "Validation accuracy: 0.975851\n"
     ]
    },
    {
     "name": "stderr",
     "output_type": "stream",
     "text": [
      "Epoch 356: 100%|██████████████████████████████████████████████████| 326/326 [00:05<00:00, 61.92it/s, T_Accuracy=100.0%]\n"
     ]
    },
    {
     "name": "stdout",
     "output_type": "stream",
     "text": [
      "Validation accuracy: 0.975455\n"
     ]
    },
    {
     "name": "stderr",
     "output_type": "stream",
     "text": [
      "Epoch 357: 100%|███████████████████████████████████████████████████| 326/326 [00:05<00:00, 61.57it/s, T_Accuracy=99.2%]\n"
     ]
    },
    {
     "name": "stdout",
     "output_type": "stream",
     "text": [
      "Validation accuracy: 0.973476\n"
     ]
    },
    {
     "name": "stderr",
     "output_type": "stream",
     "text": [
      "Epoch 358: 100%|███████████████████████████████████████████████████| 326/326 [00:05<00:00, 61.68it/s, T_Accuracy=99.2%]\n"
     ]
    },
    {
     "name": "stdout",
     "output_type": "stream",
     "text": [
      "Validation accuracy: 0.975851\n"
     ]
    },
    {
     "name": "stderr",
     "output_type": "stream",
     "text": [
      "Epoch 359: 100%|███████████████████████████████████████████████████| 326/326 [00:05<00:00, 60.92it/s, T_Accuracy=97.5%]\n"
     ]
    },
    {
     "name": "stdout",
     "output_type": "stream",
     "text": [
      "Validation accuracy: 0.976247\n"
     ]
    },
    {
     "name": "stderr",
     "output_type": "stream",
     "text": [
      "Epoch 360: 100%|███████████████████████████████████████████████████| 326/326 [00:05<00:00, 61.68it/s, T_Accuracy=99.2%]\n"
     ]
    },
    {
     "name": "stdout",
     "output_type": "stream",
     "text": [
      "Validation accuracy: 0.974268\n"
     ]
    },
    {
     "name": "stderr",
     "output_type": "stream",
     "text": [
      "Epoch 361: 100%|███████████████████████████████████████████████████| 326/326 [00:05<00:00, 61.56it/s, T_Accuracy=99.2%]\n"
     ]
    },
    {
     "name": "stdout",
     "output_type": "stream",
     "text": [
      "Validation accuracy: 0.971101\n"
     ]
    },
    {
     "name": "stderr",
     "output_type": "stream",
     "text": [
      "Epoch 362: 100%|██████████████████████████████████████████████████| 326/326 [00:05<00:00, 61.77it/s, T_Accuracy=100.0%]\n"
     ]
    },
    {
     "name": "stdout",
     "output_type": "stream",
     "text": [
      "Validation accuracy: 0.970705\n"
     ]
    },
    {
     "name": "stderr",
     "output_type": "stream",
     "text": [
      "Epoch 363: 100%|███████████████████████████████████████████████████| 326/326 [00:05<00:00, 61.62it/s, T_Accuracy=99.2%]\n"
     ]
    },
    {
     "name": "stdout",
     "output_type": "stream",
     "text": [
      "Validation accuracy: 0.972684\n"
     ]
    },
    {
     "name": "stderr",
     "output_type": "stream",
     "text": [
      "Epoch 364: 100%|███████████████████████████████████████████████████| 326/326 [00:05<00:00, 60.96it/s, T_Accuracy=98.3%]\n"
     ]
    },
    {
     "name": "stdout",
     "output_type": "stream",
     "text": [
      "Validation accuracy: 0.972684\n"
     ]
    },
    {
     "name": "stderr",
     "output_type": "stream",
     "text": [
      "Epoch 365: 100%|██████████████████████████████████████████████████| 326/326 [00:05<00:00, 61.53it/s, T_Accuracy=100.0%]\n"
     ]
    },
    {
     "name": "stdout",
     "output_type": "stream",
     "text": [
      "Validation accuracy: 0.973872\n"
     ]
    },
    {
     "name": "stderr",
     "output_type": "stream",
     "text": [
      "Epoch 366: 100%|███████████████████████████████████████████████████| 326/326 [00:05<00:00, 61.64it/s, T_Accuracy=98.3%]\n"
     ]
    },
    {
     "name": "stdout",
     "output_type": "stream",
     "text": [
      "Validation accuracy: 0.974663\n"
     ]
    },
    {
     "name": "stderr",
     "output_type": "stream",
     "text": [
      "Epoch 367: 100%|███████████████████████████████████████████████████| 326/326 [00:05<00:00, 61.74it/s, T_Accuracy=97.5%]\n"
     ]
    },
    {
     "name": "stdout",
     "output_type": "stream",
     "text": [
      "Validation accuracy: 0.976247\n"
     ]
    },
    {
     "name": "stderr",
     "output_type": "stream",
     "text": [
      "Epoch 368: 100%|███████████████████████████████████████████████████| 326/326 [00:05<00:00, 61.69it/s, T_Accuracy=99.2%]\n"
     ]
    },
    {
     "name": "stdout",
     "output_type": "stream",
     "text": [
      "Validation accuracy: 0.973872\n"
     ]
    },
    {
     "name": "stderr",
     "output_type": "stream",
     "text": [
      "Epoch 369: 100%|███████████████████████████████████████████████████| 326/326 [00:05<00:00, 61.72it/s, T_Accuracy=97.5%]\n"
     ]
    },
    {
     "name": "stdout",
     "output_type": "stream",
     "text": [
      "Validation accuracy: 0.979414\n"
     ]
    },
    {
     "name": "stderr",
     "output_type": "stream",
     "text": [
      "Epoch 370: 100%|███████████████████████████████████████████████████| 326/326 [00:05<00:00, 61.72it/s, T_Accuracy=99.2%]\n"
     ]
    },
    {
     "name": "stdout",
     "output_type": "stream",
     "text": [
      "Validation accuracy: 0.976643\n"
     ]
    },
    {
     "name": "stderr",
     "output_type": "stream",
     "text": [
      "Epoch 371: 100%|███████████████████████████████████████████████████| 326/326 [00:05<00:00, 61.62it/s, T_Accuracy=96.7%]\n"
     ]
    },
    {
     "name": "stdout",
     "output_type": "stream",
     "text": [
      "Validation accuracy: 0.971101\n"
     ]
    },
    {
     "name": "stderr",
     "output_type": "stream",
     "text": [
      "Epoch 372: 100%|███████████████████████████████████████████████████| 326/326 [00:05<00:00, 58.80it/s, T_Accuracy=97.5%]\n"
     ]
    },
    {
     "name": "stdout",
     "output_type": "stream",
     "text": [
      "Validation accuracy: 0.97308\n"
     ]
    },
    {
     "name": "stderr",
     "output_type": "stream",
     "text": [
      "Epoch 373: 100%|██████████████████████████████████████████████████| 326/326 [00:05<00:00, 60.98it/s, T_Accuracy=100.0%]\n"
     ]
    },
    {
     "name": "stdout",
     "output_type": "stream",
     "text": [
      "Validation accuracy: 0.97308\n"
     ]
    },
    {
     "name": "stderr",
     "output_type": "stream",
     "text": [
      "Epoch 374: 100%|███████████████████████████████████████████████████| 326/326 [00:05<00:00, 61.68it/s, T_Accuracy=98.3%]\n"
     ]
    },
    {
     "name": "stdout",
     "output_type": "stream",
     "text": [
      "Validation accuracy: 0.971497\n"
     ]
    },
    {
     "name": "stderr",
     "output_type": "stream",
     "text": [
      "Epoch 375: 100%|██████████████████████████████████████████████████| 326/326 [00:05<00:00, 61.76it/s, T_Accuracy=100.0%]\n"
     ]
    },
    {
     "name": "stdout",
     "output_type": "stream",
     "text": [
      "Validation accuracy: 0.969517\n"
     ]
    },
    {
     "name": "stderr",
     "output_type": "stream",
     "text": [
      "Epoch 376: 100%|███████████████████████████████████████████████████| 326/326 [00:05<00:00, 61.60it/s, T_Accuracy=97.5%]\n"
     ]
    },
    {
     "name": "stdout",
     "output_type": "stream",
     "text": [
      "Validation accuracy: 0.971496\n"
     ]
    },
    {
     "name": "stderr",
     "output_type": "stream",
     "text": [
      "Epoch 377: 100%|███████████████████████████████████████████████████| 326/326 [00:05<00:00, 61.64it/s, T_Accuracy=99.2%]\n"
     ]
    },
    {
     "name": "stdout",
     "output_type": "stream",
     "text": [
      "Validation accuracy: 0.973872\n"
     ]
    },
    {
     "name": "stderr",
     "output_type": "stream",
     "text": [
      "Epoch 378: 100%|██████████████████████████████████████████████████| 326/326 [00:05<00:00, 61.71it/s, T_Accuracy=100.0%]\n"
     ]
    },
    {
     "name": "stdout",
     "output_type": "stream",
     "text": [
      "Validation accuracy: 0.97308\n"
     ]
    },
    {
     "name": "stderr",
     "output_type": "stream",
     "text": [
      "Epoch 379: 100%|███████████████████████████████████████████████████| 326/326 [00:05<00:00, 61.70it/s, T_Accuracy=99.2%]\n"
     ]
    },
    {
     "name": "stdout",
     "output_type": "stream",
     "text": [
      "Validation accuracy: 0.971101\n"
     ]
    },
    {
     "name": "stderr",
     "output_type": "stream",
     "text": [
      "Epoch 380: 100%|██████████████████████████████████████████████████| 326/326 [00:05<00:00, 61.72it/s, T_Accuracy=100.0%]\n"
     ]
    },
    {
     "name": "stdout",
     "output_type": "stream",
     "text": [
      "Validation accuracy: 0.974268\n"
     ]
    },
    {
     "name": "stderr",
     "output_type": "stream",
     "text": [
      "Epoch 381: 100%|███████████████████████████████████████████████████| 326/326 [00:05<00:00, 61.65it/s, T_Accuracy=98.3%]\n"
     ]
    },
    {
     "name": "stdout",
     "output_type": "stream",
     "text": [
      "Validation accuracy: 0.974268\n"
     ]
    },
    {
     "name": "stderr",
     "output_type": "stream",
     "text": [
      "Epoch 382: 100%|███████████████████████████████████████████████████| 326/326 [00:05<00:00, 61.60it/s, T_Accuracy=98.3%]\n"
     ]
    },
    {
     "name": "stdout",
     "output_type": "stream",
     "text": [
      "Validation accuracy: 0.970705\n"
     ]
    },
    {
     "name": "stderr",
     "output_type": "stream",
     "text": [
      "Epoch 383: 100%|██████████████████████████████████████████████████| 326/326 [00:05<00:00, 61.50it/s, T_Accuracy=100.0%]\n"
     ]
    },
    {
     "name": "stdout",
     "output_type": "stream",
     "text": [
      "Validation accuracy: 0.973872\n"
     ]
    },
    {
     "name": "stderr",
     "output_type": "stream",
     "text": [
      "Epoch 384: 100%|███████████████████████████████████████████████████| 326/326 [00:05<00:00, 61.28it/s, T_Accuracy=97.5%]\n"
     ]
    },
    {
     "name": "stdout",
     "output_type": "stream",
     "text": [
      "Validation accuracy: 0.974663\n"
     ]
    },
    {
     "name": "stderr",
     "output_type": "stream",
     "text": [
      "Epoch 385: 100%|██████████████████████████████████████████████████| 326/326 [00:05<00:00, 61.62it/s, T_Accuracy=100.0%]\n"
     ]
    },
    {
     "name": "stdout",
     "output_type": "stream",
     "text": [
      "Validation accuracy: 0.974268\n"
     ]
    },
    {
     "name": "stderr",
     "output_type": "stream",
     "text": [
      "Epoch 386: 100%|███████████████████████████████████████████████████| 326/326 [00:05<00:00, 61.39it/s, T_Accuracy=99.2%]\n"
     ]
    },
    {
     "name": "stdout",
     "output_type": "stream",
     "text": [
      "Validation accuracy: 0.976643\n"
     ]
    },
    {
     "name": "stderr",
     "output_type": "stream",
     "text": [
      "Epoch 387: 100%|██████████████████████████████████████████████████| 326/326 [00:05<00:00, 61.71it/s, T_Accuracy=100.0%]\n"
     ]
    },
    {
     "name": "stdout",
     "output_type": "stream",
     "text": [
      "Validation accuracy: 0.971497\n"
     ]
    },
    {
     "name": "stderr",
     "output_type": "stream",
     "text": [
      "Epoch 388: 100%|███████████████████████████████████████████████████| 326/326 [00:05<00:00, 61.65it/s, T_Accuracy=98.3%]\n"
     ]
    },
    {
     "name": "stdout",
     "output_type": "stream",
     "text": [
      "Validation accuracy: 0.977039\n"
     ]
    },
    {
     "name": "stderr",
     "output_type": "stream",
     "text": [
      "Epoch 389: 100%|██████████████████████████████████████████████████| 326/326 [00:05<00:00, 61.76it/s, T_Accuracy=100.0%]\n"
     ]
    },
    {
     "name": "stdout",
     "output_type": "stream",
     "text": [
      "Validation accuracy: 0.975059\n"
     ]
    },
    {
     "name": "stderr",
     "output_type": "stream",
     "text": [
      "Epoch 390: 100%|███████████████████████████████████████████████████| 326/326 [00:05<00:00, 61.73it/s, T_Accuracy=99.2%]\n"
     ]
    },
    {
     "name": "stdout",
     "output_type": "stream",
     "text": [
      "Validation accuracy: 0.971496\n"
     ]
    },
    {
     "name": "stderr",
     "output_type": "stream",
     "text": [
      "Epoch 391: 100%|███████████████████████████████████████████████████| 326/326 [00:05<00:00, 61.61it/s, T_Accuracy=99.2%]\n"
     ]
    },
    {
     "name": "stdout",
     "output_type": "stream",
     "text": [
      "Validation accuracy: 0.974268\n"
     ]
    },
    {
     "name": "stderr",
     "output_type": "stream",
     "text": [
      "Epoch 392: 100%|███████████████████████████████████████████████████| 326/326 [00:05<00:00, 61.72it/s, T_Accuracy=98.3%]\n"
     ]
    },
    {
     "name": "stdout",
     "output_type": "stream",
     "text": [
      "Validation accuracy: 0.971497\n"
     ]
    },
    {
     "name": "stderr",
     "output_type": "stream",
     "text": [
      "Epoch 393: 100%|███████████████████████████████████████████████████| 326/326 [00:05<00:00, 61.61it/s, T_Accuracy=99.2%]\n"
     ]
    },
    {
     "name": "stdout",
     "output_type": "stream",
     "text": [
      "Validation accuracy: 0.97308\n"
     ]
    },
    {
     "name": "stderr",
     "output_type": "stream",
     "text": [
      "Epoch 394: 100%|███████████████████████████████████████████████████| 326/326 [00:05<00:00, 61.67it/s, T_Accuracy=98.3%]\n"
     ]
    },
    {
     "name": "stdout",
     "output_type": "stream",
     "text": [
      "Validation accuracy: 0.973872\n"
     ]
    },
    {
     "name": "stderr",
     "output_type": "stream",
     "text": [
      "Epoch 395: 100%|███████████████████████████████████████████████████| 326/326 [00:05<00:00, 61.58it/s, T_Accuracy=96.7%]\n"
     ]
    },
    {
     "name": "stdout",
     "output_type": "stream",
     "text": [
      "Validation accuracy: 0.968329\n"
     ]
    },
    {
     "name": "stderr",
     "output_type": "stream",
     "text": [
      "Epoch 396: 100%|███████████████████████████████████████████████████| 326/326 [00:05<00:00, 61.65it/s, T_Accuracy=97.5%]\n"
     ]
    },
    {
     "name": "stdout",
     "output_type": "stream",
     "text": [
      "Validation accuracy: 0.971101\n"
     ]
    },
    {
     "name": "stderr",
     "output_type": "stream",
     "text": [
      "Epoch 397: 100%|███████████████████████████████████████████████████| 326/326 [00:05<00:00, 61.69it/s, T_Accuracy=96.7%]\n"
     ]
    },
    {
     "name": "stdout",
     "output_type": "stream",
     "text": [
      "Validation accuracy: 0.972684\n"
     ]
    },
    {
     "name": "stderr",
     "output_type": "stream",
     "text": [
      "Epoch 398: 100%|███████████████████████████████████████████████████| 326/326 [00:05<00:00, 61.56it/s, T_Accuracy=99.2%]\n"
     ]
    },
    {
     "name": "stdout",
     "output_type": "stream",
     "text": [
      "Validation accuracy: 0.971496\n"
     ]
    },
    {
     "name": "stderr",
     "output_type": "stream",
     "text": [
      "Epoch 399: 100%|███████████████████████████████████████████████████| 326/326 [00:05<00:00, 61.70it/s, T_Accuracy=98.3%]\n"
     ]
    },
    {
     "name": "stdout",
     "output_type": "stream",
     "text": [
      "Validation accuracy: 0.976643\n"
     ]
    },
    {
     "name": "stderr",
     "output_type": "stream",
     "text": [
      "Epoch 400: 100%|███████████████████████████████████████████████████| 326/326 [00:05<00:00, 61.83it/s, T_Accuracy=97.5%]\n"
     ]
    },
    {
     "name": "stdout",
     "output_type": "stream",
     "text": [
      "Validation accuracy: 0.973872\n"
     ]
    },
    {
     "name": "stderr",
     "output_type": "stream",
     "text": [
      "Epoch 401: 100%|███████████████████████████████████████████████████| 326/326 [00:05<00:00, 61.80it/s, T_Accuracy=98.3%]\n"
     ]
    },
    {
     "name": "stdout",
     "output_type": "stream",
     "text": [
      "Validation accuracy: 0.972288\n"
     ]
    },
    {
     "name": "stderr",
     "output_type": "stream",
     "text": [
      "Epoch 402: 100%|███████████████████████████████████████████████████| 326/326 [00:05<00:00, 61.69it/s, T_Accuracy=99.2%]\n"
     ]
    },
    {
     "name": "stdout",
     "output_type": "stream",
     "text": [
      "Validation accuracy: 0.97308\n"
     ]
    },
    {
     "name": "stderr",
     "output_type": "stream",
     "text": [
      "Epoch 403: 100%|███████████████████████████████████████████████████| 326/326 [00:05<00:00, 61.52it/s, T_Accuracy=99.2%]\n"
     ]
    },
    {
     "name": "stdout",
     "output_type": "stream",
     "text": [
      "Validation accuracy: 0.971101\n"
     ]
    },
    {
     "name": "stderr",
     "output_type": "stream",
     "text": [
      "Epoch 404: 100%|███████████████████████████████████████████████████| 326/326 [00:05<00:00, 61.64it/s, T_Accuracy=99.2%]\n"
     ]
    },
    {
     "name": "stdout",
     "output_type": "stream",
     "text": [
      "Validation accuracy: 0.970705\n"
     ]
    },
    {
     "name": "stderr",
     "output_type": "stream",
     "text": [
      "Epoch 405: 100%|██████████████████████████████████████████████████| 326/326 [00:05<00:00, 62.16it/s, T_Accuracy=100.0%]\n"
     ]
    },
    {
     "name": "stdout",
     "output_type": "stream",
     "text": [
      "Validation accuracy: 0.970705\n"
     ]
    },
    {
     "name": "stderr",
     "output_type": "stream",
     "text": [
      "Epoch 406: 100%|███████████████████████████████████████████████████| 326/326 [00:05<00:00, 62.24it/s, T_Accuracy=98.3%]\n"
     ]
    },
    {
     "name": "stdout",
     "output_type": "stream",
     "text": [
      "Validation accuracy: 0.969913\n"
     ]
    },
    {
     "name": "stderr",
     "output_type": "stream",
     "text": [
      "Epoch 407: 100%|███████████████████████████████████████████████████| 326/326 [00:05<00:00, 62.20it/s, T_Accuracy=98.3%]\n"
     ]
    },
    {
     "name": "stdout",
     "output_type": "stream",
     "text": [
      "Validation accuracy: 0.973476\n"
     ]
    },
    {
     "name": "stderr",
     "output_type": "stream",
     "text": [
      "Epoch 408: 100%|███████████████████████████████████████████████████| 326/326 [00:05<00:00, 62.30it/s, T_Accuracy=99.2%]\n"
     ]
    },
    {
     "name": "stdout",
     "output_type": "stream",
     "text": [
      "Validation accuracy: 0.975059\n"
     ]
    },
    {
     "name": "stderr",
     "output_type": "stream",
     "text": [
      "Epoch 409: 100%|███████████████████████████████████████████████████| 326/326 [00:05<00:00, 62.27it/s, T_Accuracy=98.3%]\n"
     ]
    },
    {
     "name": "stdout",
     "output_type": "stream",
     "text": [
      "Validation accuracy: 0.971892\n"
     ]
    },
    {
     "name": "stderr",
     "output_type": "stream",
     "text": [
      "Epoch 410: 100%|███████████████████████████████████████████████████| 326/326 [00:05<00:00, 62.24it/s, T_Accuracy=99.2%]\n"
     ]
    },
    {
     "name": "stdout",
     "output_type": "stream",
     "text": [
      "Validation accuracy: 0.974268\n"
     ]
    },
    {
     "name": "stderr",
     "output_type": "stream",
     "text": [
      "Epoch 411: 100%|███████████████████████████████████████████████████| 326/326 [00:05<00:00, 61.94it/s, T_Accuracy=98.3%]\n"
     ]
    },
    {
     "name": "stdout",
     "output_type": "stream",
     "text": [
      "Validation accuracy: 0.973872\n"
     ]
    },
    {
     "name": "stderr",
     "output_type": "stream",
     "text": [
      "Epoch 412: 100%|███████████████████████████████████████████████████| 326/326 [00:05<00:00, 60.91it/s, T_Accuracy=99.2%]\n"
     ]
    },
    {
     "name": "stdout",
     "output_type": "stream",
     "text": [
      "Validation accuracy: 0.970309\n"
     ]
    },
    {
     "name": "stderr",
     "output_type": "stream",
     "text": [
      "Epoch 413: 100%|███████████████████████████████████████████████████| 326/326 [00:05<00:00, 61.25it/s, T_Accuracy=98.3%]\n"
     ]
    },
    {
     "name": "stdout",
     "output_type": "stream",
     "text": [
      "Validation accuracy: 0.973476\n"
     ]
    },
    {
     "name": "stderr",
     "output_type": "stream",
     "text": [
      "Epoch 414: 100%|███████████████████████████████████████████████████| 326/326 [00:05<00:00, 61.51it/s, T_Accuracy=98.3%]\n"
     ]
    },
    {
     "name": "stdout",
     "output_type": "stream",
     "text": [
      "Validation accuracy: 0.97308\n"
     ]
    },
    {
     "name": "stderr",
     "output_type": "stream",
     "text": [
      "Epoch 415: 100%|██████████████████████████████████████████████████| 326/326 [00:05<00:00, 61.61it/s, T_Accuracy=100.0%]\n"
     ]
    },
    {
     "name": "stdout",
     "output_type": "stream",
     "text": [
      "Validation accuracy: 0.967538\n"
     ]
    },
    {
     "name": "stderr",
     "output_type": "stream",
     "text": [
      "Epoch 416: 100%|███████████████████████████████████████████████████| 326/326 [00:05<00:00, 60.57it/s, T_Accuracy=97.5%]\n"
     ]
    },
    {
     "name": "stdout",
     "output_type": "stream",
     "text": [
      "Validation accuracy: 0.973476\n"
     ]
    },
    {
     "name": "stderr",
     "output_type": "stream",
     "text": [
      "Epoch 417: 100%|███████████████████████████████████████████████████| 326/326 [00:05<00:00, 61.86it/s, T_Accuracy=97.5%]\n"
     ]
    },
    {
     "name": "stdout",
     "output_type": "stream",
     "text": [
      "Validation accuracy: 0.971101\n"
     ]
    },
    {
     "name": "stderr",
     "output_type": "stream",
     "text": [
      "Epoch 418: 100%|██████████████████████████████████████████████████| 326/326 [00:05<00:00, 61.64it/s, T_Accuracy=100.0%]\n"
     ]
    },
    {
     "name": "stdout",
     "output_type": "stream",
     "text": [
      "Validation accuracy: 0.970705\n"
     ]
    },
    {
     "name": "stderr",
     "output_type": "stream",
     "text": [
      "Epoch 419: 100%|███████████████████████████████████████████████████| 326/326 [00:05<00:00, 61.57it/s, T_Accuracy=99.2%]\n"
     ]
    },
    {
     "name": "stdout",
     "output_type": "stream",
     "text": [
      "Validation accuracy: 0.969913\n"
     ]
    },
    {
     "name": "stderr",
     "output_type": "stream",
     "text": [
      "Epoch 420: 100%|███████████████████████████████████████████████████| 326/326 [00:05<00:00, 61.73it/s, T_Accuracy=99.2%]\n"
     ]
    },
    {
     "name": "stdout",
     "output_type": "stream",
     "text": [
      "Validation accuracy: 0.97308\n"
     ]
    },
    {
     "name": "stderr",
     "output_type": "stream",
     "text": [
      "Epoch 421: 100%|███████████████████████████████████████████████████| 326/326 [00:05<00:00, 61.54it/s, T_Accuracy=96.7%]\n"
     ]
    },
    {
     "name": "stdout",
     "output_type": "stream",
     "text": [
      "Validation accuracy: 0.970705\n"
     ]
    },
    {
     "name": "stderr",
     "output_type": "stream",
     "text": [
      "Epoch 422: 100%|██████████████████████████████████████████████████| 326/326 [00:05<00:00, 61.48it/s, T_Accuracy=100.0%]\n"
     ]
    },
    {
     "name": "stdout",
     "output_type": "stream",
     "text": [
      "Validation accuracy: 0.971892\n"
     ]
    },
    {
     "name": "stderr",
     "output_type": "stream",
     "text": [
      "Epoch 423: 100%|███████████████████████████████████████████████████| 326/326 [00:05<00:00, 61.44it/s, T_Accuracy=99.2%]\n"
     ]
    },
    {
     "name": "stdout",
     "output_type": "stream",
     "text": [
      "Validation accuracy: 0.975455\n"
     ]
    },
    {
     "name": "stderr",
     "output_type": "stream",
     "text": [
      "Epoch 424: 100%|██████████████████████████████████████████████████| 326/326 [00:05<00:00, 61.75it/s, T_Accuracy=100.0%]\n"
     ]
    },
    {
     "name": "stdout",
     "output_type": "stream",
     "text": [
      "Validation accuracy: 0.975455\n"
     ]
    },
    {
     "name": "stderr",
     "output_type": "stream",
     "text": [
      "Epoch 425: 100%|███████████████████████████████████████████████████| 326/326 [00:05<00:00, 61.54it/s, T_Accuracy=97.5%]\n"
     ]
    },
    {
     "name": "stdout",
     "output_type": "stream",
     "text": [
      "Validation accuracy: 0.977435\n"
     ]
    },
    {
     "name": "stderr",
     "output_type": "stream",
     "text": [
      "Epoch 426: 100%|███████████████████████████████████████████████████| 326/326 [00:05<00:00, 61.81it/s, T_Accuracy=98.3%]\n"
     ]
    },
    {
     "name": "stdout",
     "output_type": "stream",
     "text": [
      "Validation accuracy: 0.967934\n"
     ]
    },
    {
     "name": "stderr",
     "output_type": "stream",
     "text": [
      "Epoch 427: 100%|███████████████████████████████████████████████████| 326/326 [00:05<00:00, 61.60it/s, T_Accuracy=99.2%]\n"
     ]
    },
    {
     "name": "stdout",
     "output_type": "stream",
     "text": [
      "Validation accuracy: 0.963183\n"
     ]
    },
    {
     "name": "stderr",
     "output_type": "stream",
     "text": [
      "Epoch 428: 100%|███████████████████████████████████████████████████| 326/326 [00:05<00:00, 61.40it/s, T_Accuracy=98.3%]\n"
     ]
    },
    {
     "name": "stdout",
     "output_type": "stream",
     "text": [
      "Validation accuracy: 0.971892\n"
     ]
    },
    {
     "name": "stderr",
     "output_type": "stream",
     "text": [
      "Epoch 429: 100%|██████████████████████████████████████████████████| 326/326 [00:05<00:00, 61.67it/s, T_Accuracy=100.0%]\n"
     ]
    },
    {
     "name": "stdout",
     "output_type": "stream",
     "text": [
      "Validation accuracy: 0.971892\n"
     ]
    },
    {
     "name": "stderr",
     "output_type": "stream",
     "text": [
      "Epoch 430: 100%|███████████████████████████████████████████████████| 326/326 [00:05<00:00, 61.07it/s, T_Accuracy=99.2%]\n"
     ]
    },
    {
     "name": "stdout",
     "output_type": "stream",
     "text": [
      "Validation accuracy: 0.971101\n"
     ]
    },
    {
     "name": "stderr",
     "output_type": "stream",
     "text": [
      "Epoch 431: 100%|███████████████████████████████████████████████████| 326/326 [00:05<00:00, 60.84it/s, T_Accuracy=99.2%]\n"
     ]
    },
    {
     "name": "stdout",
     "output_type": "stream",
     "text": [
      "Validation accuracy: 0.972684\n"
     ]
    },
    {
     "name": "stderr",
     "output_type": "stream",
     "text": [
      "Epoch 432: 100%|███████████████████████████████████████████████████| 326/326 [00:05<00:00, 61.60it/s, T_Accuracy=99.2%]\n"
     ]
    },
    {
     "name": "stdout",
     "output_type": "stream",
     "text": [
      "Validation accuracy: 0.970309\n"
     ]
    },
    {
     "name": "stderr",
     "output_type": "stream",
     "text": [
      "Epoch 433: 100%|███████████████████████████████████████████████████| 326/326 [00:05<00:00, 61.61it/s, T_Accuracy=98.3%]\n"
     ]
    },
    {
     "name": "stdout",
     "output_type": "stream",
     "text": [
      "Validation accuracy: 0.970705\n"
     ]
    },
    {
     "name": "stderr",
     "output_type": "stream",
     "text": [
      "Epoch 434: 100%|███████████████████████████████████████████████████| 326/326 [00:05<00:00, 61.55it/s, T_Accuracy=99.2%]\n"
     ]
    },
    {
     "name": "stdout",
     "output_type": "stream",
     "text": [
      "Validation accuracy: 0.968329\n"
     ]
    },
    {
     "name": "stderr",
     "output_type": "stream",
     "text": [
      "Epoch 435: 100%|███████████████████████████████████████████████████| 326/326 [00:05<00:00, 61.45it/s, T_Accuracy=98.3%]\n"
     ]
    },
    {
     "name": "stdout",
     "output_type": "stream",
     "text": [
      "Validation accuracy: 0.975059\n"
     ]
    },
    {
     "name": "stderr",
     "output_type": "stream",
     "text": [
      "Epoch 436: 100%|██████████████████████████████████████████████████| 326/326 [00:05<00:00, 61.50it/s, T_Accuracy=100.0%]\n"
     ]
    },
    {
     "name": "stdout",
     "output_type": "stream",
     "text": [
      "Validation accuracy: 0.972288\n"
     ]
    },
    {
     "name": "stderr",
     "output_type": "stream",
     "text": [
      "Epoch 437: 100%|███████████████████████████████████████████████████| 326/326 [00:05<00:00, 60.70it/s, T_Accuracy=98.3%]\n"
     ]
    },
    {
     "name": "stdout",
     "output_type": "stream",
     "text": [
      "Validation accuracy: 0.970705\n"
     ]
    },
    {
     "name": "stderr",
     "output_type": "stream",
     "text": [
      "Epoch 438: 100%|███████████████████████████████████████████████████| 326/326 [00:05<00:00, 61.43it/s, T_Accuracy=98.3%]\n"
     ]
    },
    {
     "name": "stdout",
     "output_type": "stream",
     "text": [
      "Validation accuracy: 0.973476\n"
     ]
    },
    {
     "name": "stderr",
     "output_type": "stream",
     "text": [
      "Epoch 439: 100%|██████████████████████████████████████████████████| 326/326 [00:05<00:00, 61.83it/s, T_Accuracy=100.0%]\n"
     ]
    },
    {
     "name": "stdout",
     "output_type": "stream",
     "text": [
      "Validation accuracy: 0.968725\n"
     ]
    },
    {
     "name": "stderr",
     "output_type": "stream",
     "text": [
      "Epoch 440: 100%|███████████████████████████████████████████████████| 326/326 [00:05<00:00, 61.51it/s, T_Accuracy=99.2%]\n"
     ]
    },
    {
     "name": "stdout",
     "output_type": "stream",
     "text": [
      "Validation accuracy: 0.972288\n"
     ]
    },
    {
     "name": "stderr",
     "output_type": "stream",
     "text": [
      "Epoch 441: 100%|███████████████████████████████████████████████████| 326/326 [00:05<00:00, 61.57it/s, T_Accuracy=98.3%]\n"
     ]
    },
    {
     "name": "stdout",
     "output_type": "stream",
     "text": [
      "Validation accuracy: 0.970309\n"
     ]
    },
    {
     "name": "stderr",
     "output_type": "stream",
     "text": [
      "Epoch 442: 100%|███████████████████████████████████████████████████| 326/326 [00:05<00:00, 61.56it/s, T_Accuracy=98.3%]\n"
     ]
    },
    {
     "name": "stdout",
     "output_type": "stream",
     "text": [
      "Validation accuracy: 0.970705\n"
     ]
    },
    {
     "name": "stderr",
     "output_type": "stream",
     "text": [
      "Epoch 443: 100%|███████████████████████████████████████████████████| 326/326 [00:05<00:00, 61.65it/s, T_Accuracy=97.5%]\n"
     ]
    },
    {
     "name": "stdout",
     "output_type": "stream",
     "text": [
      "Validation accuracy: 0.969913\n"
     ]
    },
    {
     "name": "stderr",
     "output_type": "stream",
     "text": [
      "Epoch 444: 100%|███████████████████████████████████████████████████| 326/326 [00:05<00:00, 61.43it/s, T_Accuracy=99.2%]\n"
     ]
    },
    {
     "name": "stdout",
     "output_type": "stream",
     "text": [
      "Validation accuracy: 0.967142\n"
     ]
    },
    {
     "name": "stderr",
     "output_type": "stream",
     "text": [
      "Epoch 445: 100%|███████████████████████████████████████████████████| 326/326 [00:05<00:00, 61.42it/s, T_Accuracy=99.2%]\n"
     ]
    },
    {
     "name": "stdout",
     "output_type": "stream",
     "text": [
      "Validation accuracy: 0.967933\n"
     ]
    },
    {
     "name": "stderr",
     "output_type": "stream",
     "text": [
      "Epoch 446: 100%|██████████████████████████████████████████████████| 326/326 [00:05<00:00, 61.51it/s, T_Accuracy=100.0%]\n"
     ]
    },
    {
     "name": "stdout",
     "output_type": "stream",
     "text": [
      "Validation accuracy: 0.969121\n"
     ]
    },
    {
     "name": "stderr",
     "output_type": "stream",
     "text": [
      "Epoch 447: 100%|██████████████████████████████████████████████████| 326/326 [00:05<00:00, 61.58it/s, T_Accuracy=100.0%]\n"
     ]
    },
    {
     "name": "stdout",
     "output_type": "stream",
     "text": [
      "Validation accuracy: 0.971496\n"
     ]
    },
    {
     "name": "stderr",
     "output_type": "stream",
     "text": [
      "Epoch 448: 100%|███████████████████████████████████████████████████| 326/326 [00:05<00:00, 61.66it/s, T_Accuracy=98.3%]\n"
     ]
    },
    {
     "name": "stdout",
     "output_type": "stream",
     "text": [
      "Validation accuracy: 0.97308\n"
     ]
    },
    {
     "name": "stderr",
     "output_type": "stream",
     "text": [
      "Epoch 449: 100%|███████████████████████████████████████████████████| 326/326 [00:05<00:00, 61.61it/s, T_Accuracy=99.2%]\n"
     ]
    },
    {
     "name": "stdout",
     "output_type": "stream",
     "text": [
      "Validation accuracy: 0.970309\n"
     ]
    },
    {
     "name": "stderr",
     "output_type": "stream",
     "text": [
      "Epoch 450: 100%|██████████████████████████████████████████████████| 326/326 [00:05<00:00, 61.48it/s, T_Accuracy=100.0%]\n"
     ]
    },
    {
     "name": "stdout",
     "output_type": "stream",
     "text": [
      "Validation accuracy: 0.971101\n"
     ]
    },
    {
     "name": "stderr",
     "output_type": "stream",
     "text": [
      "Epoch 451: 100%|██████████████████████████████████████████████████| 326/326 [00:05<00:00, 60.10it/s, T_Accuracy=100.0%]\n"
     ]
    },
    {
     "name": "stdout",
     "output_type": "stream",
     "text": [
      "Validation accuracy: 0.970309\n"
     ]
    },
    {
     "name": "stderr",
     "output_type": "stream",
     "text": [
      "Epoch 452: 100%|███████████████████████████████████████████████████| 326/326 [00:05<00:00, 61.00it/s, T_Accuracy=99.2%]\n"
     ]
    },
    {
     "name": "stdout",
     "output_type": "stream",
     "text": [
      "Validation accuracy: 0.973476\n"
     ]
    },
    {
     "name": "stderr",
     "output_type": "stream",
     "text": [
      "Epoch 453: 100%|███████████████████████████████████████████████████| 326/326 [00:05<00:00, 61.66it/s, T_Accuracy=99.2%]\n"
     ]
    },
    {
     "name": "stdout",
     "output_type": "stream",
     "text": [
      "Validation accuracy: 0.970705\n"
     ]
    },
    {
     "name": "stderr",
     "output_type": "stream",
     "text": [
      "Epoch 454: 100%|███████████████████████████████████████████████████| 326/326 [00:05<00:00, 61.52it/s, T_Accuracy=99.2%]\n"
     ]
    },
    {
     "name": "stdout",
     "output_type": "stream",
     "text": [
      "Validation accuracy: 0.972288\n"
     ]
    },
    {
     "name": "stderr",
     "output_type": "stream",
     "text": [
      "Epoch 455: 100%|███████████████████████████████████████████████████| 326/326 [00:05<00:00, 61.55it/s, T_Accuracy=98.3%]\n"
     ]
    },
    {
     "name": "stdout",
     "output_type": "stream",
     "text": [
      "Validation accuracy: 0.971101\n"
     ]
    },
    {
     "name": "stderr",
     "output_type": "stream",
     "text": [
      "Epoch 456: 100%|███████████████████████████████████████████████████| 326/326 [00:05<00:00, 61.56it/s, T_Accuracy=99.2%]\n"
     ]
    },
    {
     "name": "stdout",
     "output_type": "stream",
     "text": [
      "Validation accuracy: 0.973476\n"
     ]
    },
    {
     "name": "stderr",
     "output_type": "stream",
     "text": [
      "Epoch 457: 100%|███████████████████████████████████████████████████| 326/326 [00:05<00:00, 61.41it/s, T_Accuracy=98.3%]\n"
     ]
    },
    {
     "name": "stdout",
     "output_type": "stream",
     "text": [
      "Validation accuracy: 0.972288\n"
     ]
    },
    {
     "name": "stderr",
     "output_type": "stream",
     "text": [
      "Epoch 458: 100%|███████████████████████████████████████████████████| 326/326 [00:05<00:00, 61.48it/s, T_Accuracy=98.3%]\n"
     ]
    },
    {
     "name": "stdout",
     "output_type": "stream",
     "text": [
      "Validation accuracy: 0.970705\n"
     ]
    },
    {
     "name": "stderr",
     "output_type": "stream",
     "text": [
      "Epoch 459: 100%|██████████████████████████████████████████████████| 326/326 [00:05<00:00, 61.50it/s, T_Accuracy=100.0%]\n"
     ]
    },
    {
     "name": "stdout",
     "output_type": "stream",
     "text": [
      "Validation accuracy: 0.972684\n"
     ]
    },
    {
     "name": "stderr",
     "output_type": "stream",
     "text": [
      "Epoch 460: 100%|███████████████████████████████████████████████████| 326/326 [00:05<00:00, 61.69it/s, T_Accuracy=99.2%]\n"
     ]
    },
    {
     "name": "stdout",
     "output_type": "stream",
     "text": [
      "Validation accuracy: 0.975851\n"
     ]
    },
    {
     "name": "stderr",
     "output_type": "stream",
     "text": [
      "Epoch 461: 100%|███████████████████████████████████████████████████| 326/326 [00:05<00:00, 61.50it/s, T_Accuracy=96.7%]\n"
     ]
    },
    {
     "name": "stdout",
     "output_type": "stream",
     "text": [
      "Validation accuracy: 0.97506\n"
     ]
    },
    {
     "name": "stderr",
     "output_type": "stream",
     "text": [
      "Epoch 462: 100%|███████████████████████████████████████████████████| 326/326 [00:05<00:00, 61.45it/s, T_Accuracy=99.2%]\n"
     ]
    },
    {
     "name": "stdout",
     "output_type": "stream",
     "text": [
      "Validation accuracy: 0.968329\n"
     ]
    },
    {
     "name": "stderr",
     "output_type": "stream",
     "text": [
      "Epoch 463: 100%|██████████████████████████████████████████████████| 326/326 [00:05<00:00, 61.58it/s, T_Accuracy=100.0%]\n"
     ]
    },
    {
     "name": "stdout",
     "output_type": "stream",
     "text": [
      "Validation accuracy: 0.971496\n"
     ]
    },
    {
     "name": "stderr",
     "output_type": "stream",
     "text": [
      "Epoch 464: 100%|███████████████████████████████████████████████████| 326/326 [00:05<00:00, 62.19it/s, T_Accuracy=99.2%]\n"
     ]
    },
    {
     "name": "stdout",
     "output_type": "stream",
     "text": [
      "Validation accuracy: 0.971892\n"
     ]
    },
    {
     "name": "stderr",
     "output_type": "stream",
     "text": [
      "Epoch 465: 100%|███████████████████████████████████████████████████| 326/326 [00:05<00:00, 61.67it/s, T_Accuracy=98.3%]\n"
     ]
    },
    {
     "name": "stdout",
     "output_type": "stream",
     "text": [
      "Validation accuracy: 0.970309\n"
     ]
    },
    {
     "name": "stderr",
     "output_type": "stream",
     "text": [
      "Epoch 466: 100%|███████████████████████████████████████████████████| 326/326 [00:05<00:00, 62.33it/s, T_Accuracy=99.2%]\n"
     ]
    },
    {
     "name": "stdout",
     "output_type": "stream",
     "text": [
      "Validation accuracy: 0.969517\n"
     ]
    },
    {
     "name": "stderr",
     "output_type": "stream",
     "text": [
      "Epoch 467: 100%|██████████████████████████████████████████████████| 326/326 [00:05<00:00, 62.36it/s, T_Accuracy=100.0%]\n"
     ]
    },
    {
     "name": "stdout",
     "output_type": "stream",
     "text": [
      "Validation accuracy: 0.971892\n"
     ]
    },
    {
     "name": "stderr",
     "output_type": "stream",
     "text": [
      "Epoch 468: 100%|███████████████████████████████████████████████████| 326/326 [00:05<00:00, 62.34it/s, T_Accuracy=98.3%]\n"
     ]
    },
    {
     "name": "stdout",
     "output_type": "stream",
     "text": [
      "Validation accuracy: 0.970309\n"
     ]
    },
    {
     "name": "stderr",
     "output_type": "stream",
     "text": [
      "Epoch 469: 100%|███████████████████████████████████████████████████| 326/326 [00:05<00:00, 62.01it/s, T_Accuracy=99.2%]\n"
     ]
    },
    {
     "name": "stdout",
     "output_type": "stream",
     "text": [
      "Validation accuracy: 0.971892\n"
     ]
    },
    {
     "name": "stderr",
     "output_type": "stream",
     "text": [
      "Epoch 470: 100%|███████████████████████████████████████████████████| 326/326 [00:05<00:00, 62.34it/s, T_Accuracy=97.5%]\n"
     ]
    },
    {
     "name": "stdout",
     "output_type": "stream",
     "text": [
      "Validation accuracy: 0.969121\n"
     ]
    },
    {
     "name": "stderr",
     "output_type": "stream",
     "text": [
      "Epoch 471: 100%|███████████████████████████████████████████████████| 326/326 [00:05<00:00, 62.39it/s, T_Accuracy=98.3%]\n"
     ]
    },
    {
     "name": "stdout",
     "output_type": "stream",
     "text": [
      "Validation accuracy: 0.969913\n"
     ]
    },
    {
     "name": "stderr",
     "output_type": "stream",
     "text": [
      "Epoch 472: 100%|███████████████████████████████████████████████████| 326/326 [00:05<00:00, 62.39it/s, T_Accuracy=98.3%]\n"
     ]
    },
    {
     "name": "stdout",
     "output_type": "stream",
     "text": [
      "Validation accuracy: 0.973476\n"
     ]
    },
    {
     "name": "stderr",
     "output_type": "stream",
     "text": [
      "Epoch 473: 100%|███████████████████████████████████████████████████| 326/326 [00:05<00:00, 61.85it/s, T_Accuracy=99.2%]\n"
     ]
    },
    {
     "name": "stdout",
     "output_type": "stream",
     "text": [
      "Validation accuracy: 0.969913\n"
     ]
    },
    {
     "name": "stderr",
     "output_type": "stream",
     "text": [
      "Epoch 474: 100%|██████████████████████████████████████████████████| 326/326 [00:05<00:00, 61.85it/s, T_Accuracy=100.0%]\n"
     ]
    },
    {
     "name": "stdout",
     "output_type": "stream",
     "text": [
      "Validation accuracy: 0.973872\n"
     ]
    },
    {
     "name": "stderr",
     "output_type": "stream",
     "text": [
      "Epoch 475: 100%|███████████████████████████████████████████████████| 326/326 [00:05<00:00, 62.32it/s, T_Accuracy=99.2%]\n"
     ]
    },
    {
     "name": "stdout",
     "output_type": "stream",
     "text": [
      "Validation accuracy: 0.970309\n"
     ]
    },
    {
     "name": "stderr",
     "output_type": "stream",
     "text": [
      "Epoch 476: 100%|███████████████████████████████████████████████████| 326/326 [00:05<00:00, 62.34it/s, T_Accuracy=99.2%]\n"
     ]
    },
    {
     "name": "stdout",
     "output_type": "stream",
     "text": [
      "Validation accuracy: 0.970705\n"
     ]
    },
    {
     "name": "stderr",
     "output_type": "stream",
     "text": [
      "Epoch 477: 100%|███████████████████████████████████████████████████| 326/326 [00:05<00:00, 62.22it/s, T_Accuracy=99.2%]\n"
     ]
    },
    {
     "name": "stdout",
     "output_type": "stream",
     "text": [
      "Validation accuracy: 0.971101\n"
     ]
    },
    {
     "name": "stderr",
     "output_type": "stream",
     "text": [
      "Epoch 478: 100%|███████████████████████████████████████████████████| 326/326 [00:05<00:00, 62.31it/s, T_Accuracy=99.2%]\n"
     ]
    },
    {
     "name": "stdout",
     "output_type": "stream",
     "text": [
      "Validation accuracy: 0.969517\n"
     ]
    },
    {
     "name": "stderr",
     "output_type": "stream",
     "text": [
      "Epoch 479: 100%|██████████████████████████████████████████████████| 326/326 [00:05<00:00, 62.33it/s, T_Accuracy=100.0%]\n"
     ]
    },
    {
     "name": "stdout",
     "output_type": "stream",
     "text": [
      "Validation accuracy: 0.973872\n"
     ]
    },
    {
     "name": "stderr",
     "output_type": "stream",
     "text": [
      "Epoch 480: 100%|███████████████████████████████████████████████████| 326/326 [00:05<00:00, 62.24it/s, T_Accuracy=98.3%]\n"
     ]
    },
    {
     "name": "stdout",
     "output_type": "stream",
     "text": [
      "Validation accuracy: 0.973476\n"
     ]
    },
    {
     "name": "stderr",
     "output_type": "stream",
     "text": [
      "Epoch 481: 100%|███████████████████████████████████████████████████| 326/326 [00:05<00:00, 62.14it/s, T_Accuracy=98.3%]\n"
     ]
    },
    {
     "name": "stdout",
     "output_type": "stream",
     "text": [
      "Validation accuracy: 0.971496\n"
     ]
    },
    {
     "name": "stderr",
     "output_type": "stream",
     "text": [
      "Epoch 482: 100%|██████████████████████████████████████████████████| 326/326 [00:05<00:00, 62.15it/s, T_Accuracy=100.0%]\n"
     ]
    },
    {
     "name": "stdout",
     "output_type": "stream",
     "text": [
      "Validation accuracy: 0.971892\n"
     ]
    },
    {
     "name": "stderr",
     "output_type": "stream",
     "text": [
      "Epoch 483: 100%|███████████████████████████████████████████████████| 326/326 [00:05<00:00, 62.11it/s, T_Accuracy=98.3%]\n"
     ]
    },
    {
     "name": "stdout",
     "output_type": "stream",
     "text": [
      "Validation accuracy: 0.974268\n"
     ]
    },
    {
     "name": "stderr",
     "output_type": "stream",
     "text": [
      "Epoch 484: 100%|███████████████████████████████████████████████████| 326/326 [00:05<00:00, 61.88it/s, T_Accuracy=99.2%]\n"
     ]
    },
    {
     "name": "stdout",
     "output_type": "stream",
     "text": [
      "Validation accuracy: 0.972288\n"
     ]
    },
    {
     "name": "stderr",
     "output_type": "stream",
     "text": [
      "Epoch 485: 100%|███████████████████████████████████████████████████| 326/326 [00:05<00:00, 62.16it/s, T_Accuracy=96.7%]\n"
     ]
    },
    {
     "name": "stdout",
     "output_type": "stream",
     "text": [
      "Validation accuracy: 0.971892\n"
     ]
    },
    {
     "name": "stderr",
     "output_type": "stream",
     "text": [
      "Epoch 486: 100%|███████████████████████████████████████████████████| 326/326 [00:05<00:00, 62.34it/s, T_Accuracy=97.5%]\n"
     ]
    },
    {
     "name": "stdout",
     "output_type": "stream",
     "text": [
      "Validation accuracy: 0.971496\n"
     ]
    },
    {
     "name": "stderr",
     "output_type": "stream",
     "text": [
      "Epoch 487: 100%|███████████████████████████████████████████████████| 326/326 [00:05<00:00, 62.33it/s, T_Accuracy=99.2%]\n"
     ]
    },
    {
     "name": "stdout",
     "output_type": "stream",
     "text": [
      "Validation accuracy: 0.971101\n"
     ]
    },
    {
     "name": "stderr",
     "output_type": "stream",
     "text": [
      "Epoch 488: 100%|███████████████████████████████████████████████████| 326/326 [00:05<00:00, 62.41it/s, T_Accuracy=97.5%]\n"
     ]
    },
    {
     "name": "stdout",
     "output_type": "stream",
     "text": [
      "Validation accuracy: 0.969913\n"
     ]
    },
    {
     "name": "stderr",
     "output_type": "stream",
     "text": [
      "Epoch 489: 100%|███████████████████████████████████████████████████| 326/326 [00:05<00:00, 62.07it/s, T_Accuracy=99.2%]\n"
     ]
    },
    {
     "name": "stdout",
     "output_type": "stream",
     "text": [
      "Validation accuracy: 0.971497\n"
     ]
    },
    {
     "name": "stderr",
     "output_type": "stream",
     "text": [
      "Epoch 490: 100%|███████████████████████████████████████████████████| 326/326 [00:05<00:00, 62.08it/s, T_Accuracy=97.5%]\n"
     ]
    },
    {
     "name": "stdout",
     "output_type": "stream",
     "text": [
      "Validation accuracy: 0.97308\n"
     ]
    },
    {
     "name": "stderr",
     "output_type": "stream",
     "text": [
      "Epoch 491: 100%|██████████████████████████████████████████████████| 326/326 [00:05<00:00, 61.47it/s, T_Accuracy=100.0%]\n"
     ]
    },
    {
     "name": "stdout",
     "output_type": "stream",
     "text": [
      "Validation accuracy: 0.973476\n"
     ]
    },
    {
     "name": "stderr",
     "output_type": "stream",
     "text": [
      "Epoch 492: 100%|███████████████████████████████████████████████████| 326/326 [00:05<00:00, 62.06it/s, T_Accuracy=99.2%]\n"
     ]
    },
    {
     "name": "stdout",
     "output_type": "stream",
     "text": [
      "Validation accuracy: 0.970309\n"
     ]
    },
    {
     "name": "stderr",
     "output_type": "stream",
     "text": [
      "Epoch 493: 100%|██████████████████████████████████████████████████| 326/326 [00:05<00:00, 62.04it/s, T_Accuracy=100.0%]\n"
     ]
    },
    {
     "name": "stdout",
     "output_type": "stream",
     "text": [
      "Validation accuracy: 0.969913\n"
     ]
    },
    {
     "name": "stderr",
     "output_type": "stream",
     "text": [
      "Epoch 494: 100%|███████████████████████████████████████████████████| 326/326 [00:05<00:00, 61.83it/s, T_Accuracy=99.2%]\n"
     ]
    },
    {
     "name": "stdout",
     "output_type": "stream",
     "text": [
      "Validation accuracy: 0.968329\n"
     ]
    },
    {
     "name": "stderr",
     "output_type": "stream",
     "text": [
      "Epoch 495: 100%|███████████████████████████████████████████████████| 326/326 [00:05<00:00, 62.13it/s, T_Accuracy=97.5%]\n"
     ]
    },
    {
     "name": "stdout",
     "output_type": "stream",
     "text": [
      "Validation accuracy: 0.967142\n"
     ]
    },
    {
     "name": "stderr",
     "output_type": "stream",
     "text": [
      "Epoch 496: 100%|███████████████████████████████████████████████████| 326/326 [00:05<00:00, 62.14it/s, T_Accuracy=99.2%]\n"
     ]
    },
    {
     "name": "stdout",
     "output_type": "stream",
     "text": [
      "Validation accuracy: 0.971496\n"
     ]
    },
    {
     "name": "stderr",
     "output_type": "stream",
     "text": [
      "Epoch 497: 100%|███████████████████████████████████████████████████| 326/326 [00:05<00:00, 62.33it/s, T_Accuracy=96.7%]\n"
     ]
    },
    {
     "name": "stdout",
     "output_type": "stream",
     "text": [
      "Validation accuracy: 0.968329\n"
     ]
    },
    {
     "name": "stderr",
     "output_type": "stream",
     "text": [
      "Epoch 498: 100%|██████████████████████████████████████████████████| 326/326 [00:05<00:00, 62.31it/s, T_Accuracy=100.0%]\n"
     ]
    },
    {
     "name": "stdout",
     "output_type": "stream",
     "text": [
      "Validation accuracy: 0.972288\n"
     ]
    },
    {
     "name": "stderr",
     "output_type": "stream",
     "text": [
      "Epoch 499: 100%|███████████████████████████████████████████████████| 326/326 [00:05<00:00, 62.06it/s, T_Accuracy=98.3%]\n"
     ]
    },
    {
     "name": "stdout",
     "output_type": "stream",
     "text": [
      "Validation accuracy: 0.971496\n",
      "test accuracy: 0.973278\n"
     ]
    }
   ],
   "source": [
    "#Running Session\n",
    "with tf.Session() as sess:\n",
    "    sess.run(tf.global_variables_initializer())\n",
    "    for epoch in range(EPOCHS):\n",
    "        X_train_norm, y_train_1hot = shuffle(X_train_norm, y_train_1hot)\n",
    "        batch_iter=train_num//batch_size\n",
    "        bis=trange(batch_iter)\n",
    "        for iteration in bis:\n",
    "            batch_begin= iteration * batch_size\n",
    "            batch_end=batch_begin+batch_size\n",
    "            X_batch, y_batch = X_train_norm[batch_begin:batch_end], y_train_1hot[batch_begin:batch_end]\n",
    "            train_accuracy=accuracy.eval(feed_dict = {x: X_batch, y: y_batch, keep_prob: 0.5})\n",
    "            if iteration%5 == 0:\n",
    "                optimizer2.run(feed_dict = {x: X_batch,y: y_batch, keep_prob: 0.5})\n",
    "            else:\n",
    "                optimizer.run(feed_dict = {x: X_batch,y: y_batch, keep_prob: 0.5})\n",
    "            bis.set_description('Epoch %i' % epoch)\n",
    "            bis.set_postfix(T_Accuracy=\"{:.1%}\".format(train_accuracy))\n",
    "        \n",
    "        print(\"Validation accuracy: %g\"%accuracy.eval(feed_dict={x: X_eval_norm, y: y_eval_1hot, keep_prob: 1.0}))\n",
    "    \n",
    "    saver.save(sess, save_file)\n",
    "    print(\"test accuracy: %g\"%accuracy.eval(feed_dict={x: X_test_norm, y: y_test_1hot, keep_prob: 1.0}))\n"
   ]
  },
  {
   "cell_type": "markdown",
   "metadata": {},
   "source": [
    "### Question 4\n",
    "\n",
    "_How did you train your model? (Type of optimizer, batch size, epochs, hyperparameters, etc.)_\n"
   ]
  },
  {
   "cell_type": "markdown",
   "metadata": {},
   "source": [
    "**Answer:**\n",
    "\n",
    "I am using AdamOptimizer, a SGD algorithm in which the gradient used in each iteration updated from the previous using a technique based in momentum. It seems one of the best method to quickly adjust steps & attains the global minimux, if converge.\n",
    "\n",
    "I initially set total epochs as 50 for all testing, although small, because it works only slightly different a bigger number choice like 500 or 1000 in my case. To prove this, I set the total epoch as 200, and the validation accuracy quickly become stablized around 97% after epoch 50. Howevery, during my deep learning study in modeling Mnist, it makes a huge difference between using 200 and 500.\n",
    "\n",
    "I set batch size as 120, because it seems like a good fit for the image size of this dataset, and honestly speaking, seems like working ok.\n",
    "\n",
    "The strucuture of my neural network is followed by the model architecture from last project feedback.\n"
   ]
  },
  {
   "cell_type": "markdown",
   "metadata": {},
   "source": [
    "### Question 5\n",
    "\n",
    "\n",
    "_What approach did you take in coming up with a solution to this problem? It may have been a process of trial and error, in which case, outline the steps you took to get to the final solution and why you chose those steps. Perhaps your solution involved an already well known implementation or architecture. In this case, discuss why you think this is suitable for the current problem._"
   ]
  },
  {
   "cell_type": "markdown",
   "metadata": {},
   "source": [
    "**Answer:**\n",
    "\n",
    "The main blockers I encountered as I started on this project is the structure of the neural networks. I can either follow a very traditional structure(like the one used in Mnist example in tensorflow documentation) or try some thing new. I was not sure why pool function & ReLU works in the context of building up a neural network, and therefore having been experenced a tedious process of trail and error is the only way to understand it deeper.\n",
    "\n",
    "Before last project feedback. I did nothing but standardize input images to zero mean & unit variance. Then I started to study computer vision and was impressed with AHE method. So I was inspired to try applying this approach to transform input images. Also, I was thinking we can rotate the input images to increase the volumn of training data set.\n",
    "\n",
    "Another issue I come up with is that, is it true that the deeper the layers the better the model will be. as well as epoch, batch_size and other initial values we set. Too many parameters to explore their real roles in deep learning.\n",
    "\n",
    "Lastly, performance is improved significantly after I install a Geforce GTX 1070 on my computer and therefore it runs roughly 5-10 time faster than my cpu.\n",
    "\n"
   ]
  },
  {
   "cell_type": "markdown",
   "metadata": {},
   "source": [
    "---\n",
    "\n",
    "## Step 3: Test a Model on New Images\n",
    "\n",
    "Take several pictures of traffic signs that you find on the web or around you (at least five), and run them through your classifier on your computer to produce example results. The classifier might not recognize some local signs but it could prove interesting nonetheless.\n",
    "\n",
    "You may find `signnames.csv` useful as it contains mappings from the class id (integer) to the actual sign name."
   ]
  },
  {
   "cell_type": "markdown",
   "metadata": {},
   "source": [
    "### Implementation\n",
    "\n",
    "Use the code cell (or multiple code cells, if necessary) to implement the first step of your project. Once you have completed your implementation and are satisfied with the results, be sure to thoroughly answer the questions that follow."
   ]
  },
  {
   "cell_type": "code",
   "execution_count": 13,
   "metadata": {
    "collapsed": false,
    "scrolled": true
   },
   "outputs": [
    {
     "data": {
      "image/png": "[encoded data removed]",
      "text/plain": [
       "<matplotlib.figure.Figure at 0x240d2af9e48>"
      ]
     },
     "metadata": {},
     "output_type": "display_data"
    }
   ],
   "source": [
    "### Load the images and plot them here.\n",
    "### Feel free to use as many code cells as needed.\n",
    "\n",
    "#reading in an image\n",
    "import glob,os\n",
    "import cv2\n",
    "import matplotlib.image as mpimg\n",
    "import numpy as np\n",
    "\n",
    "my_images = []\n",
    "correct_val=[]\n",
    "\n",
    "for i, img in enumerate(glob.glob('./new_signs/*.jpg')):\n",
    "    nameid=int(os.path.splitext(os.path.basename(img))[0])\n",
    "    correct_val.append(nameid)\n",
    "    image = cv2.imread(img,0)\n",
    "    imgshow = cv2.imread(img,-1)\n",
    "    plt.subplot(9, 9, i+1)\n",
    "    plt.imshow(imgshow)\n",
    "    plt.title(\"ID:\"+str(nameid))\n",
    "    plt.axis('off')\n",
    "    clahe = cv2.createCLAHE(clipLimit=2.0, tileGridSize=(4,4))\n",
    "    equ = clahe.apply(image)\n",
    "    my_images.append(equ)\n",
    "\n",
    "fig = plt.gcf()\n",
    "fig.set_size_inches(15, 15)\n",
    "plt.show()\n",
    "\n"
   ]
  },
  {
   "cell_type": "markdown",
   "metadata": {},
   "source": [
    "### Question 6\n",
    "\n",
    "_Choose five candidate images of traffic signs and provide them in the report. Are there any particular qualities of the image(s) that might make classification difficult? It could be helpful to plot the images in the notebook._\n",
    "\n"
   ]
  },
  {
   "cell_type": "markdown",
   "metadata": {},
   "source": [
    "**Answer:**"
   ]
  },
  {
   "cell_type": "markdown",
   "metadata": {
    "collapsed": true
   },
   "source": [
    "I searched 18 candidate images from various resources in order to test my traffic sign classifiers. Some of the images are very similar to training images, such as the one with ID zero(shown above). However, images such as the one with ID 14 is rotated and blurred version of the STOP image in training collection. I would like to briefly introduce 2 test images that might mike classification difficult:\n",
    "\n",
    "ID 1:  Speed limit(30) at night time. The shape of this sign is different from the merely rounded shape in training set.\n",
    "\n",
    "ID 14: Rotated & grey blurred STOP sign. The bottom part of this sign is distorted.\n",
    "\n",
    "As the summary report below shows, the prediction accuracy is 83.3% and therefore most errors are caused by misrecognition of ID 1 & 14.\n"
   ]
  },
  {
   "cell_type": "code",
   "execution_count": 14,
   "metadata": {
    "collapsed": false
   },
   "outputs": [
    {
     "name": "stdout",
     "output_type": "stream",
     "text": [
      "prediction labels: [ 0  5 12 13  9 17 18 19  2 25  3 32 36 35 38 40  7  9]\n",
      "True       Values: [ 0  1 12 13 14 17 18 19  2 25  3 32 36 37 38 40  7  9]\n",
      "Prediction Accuracy: 83.3%\n"
     ]
    }
   ],
   "source": [
    "my_images = np.asarray(my_images)\n",
    "correct_val = np.asarray(correct_val)\n",
    "def cal_mean_std(data):\n",
    "    mean_std=[np.mean(data),np.std(data)]\n",
    "    return mean_std\n",
    "\n",
    "def data_norm(data, mean_std):\n",
    "    data_norm = data.copy().astype(np.float32)\n",
    "    for i in range(0,1):\n",
    "        data_channel_i=data_norm\n",
    "        data_norm=(data_channel_i - mean_std[0])/mean_std[1]\n",
    "        \n",
    "    return data_norm\n",
    "\n",
    "mi_mean_std=cal_mean_std(my_images)\n",
    "mi_norm = data_norm(my_images, mi_mean_std)\n",
    "mi_norm=mi_norm.reshape([18,32*32])\n",
    "\n",
    "saver= tf.train.Saver()\n",
    "    \n",
    "save_file = './train_tf_model.ckpt'\n",
    "# Launch the graph\n",
    "with tf.Session() as sess:\n",
    "    saver.restore(sess=sess, save_path=save_file)\n",
    "    prediction = sess.run(y_conv,feed_dict={x:mi_norm,keep_prob: 1})\n",
    "    top_k = sess.run(tf.nn.top_k(tf.nn.softmax(prediction), 5, sorted=True))\n",
    "    pred_label=np.argmax(prediction, 1)\n",
    "    print(\"prediction labels:\",pred_label)\n",
    "    print(\"True       Values:\",correct_val)\n",
    "    p_accuracy=np.sum(pred_label == correct_val)/len(correct_val)\n",
    "    print(\"Prediction Accuracy:\", \"{:.1%}\".format(p_accuracy))"
   ]
  },
  {
   "cell_type": "markdown",
   "metadata": {},
   "source": [
    "### Question 7\n",
    "\n",
    "_Is your model able to perform equally well on captured pictures when compared to testing on the dataset? The simplest way to do this check the accuracy of the predictions. For example, if the model predicted 1 out of 5 signs correctly, it's 20% accurate._\n",
    "\n",
    "_**NOTE:** You could check the accuracy manually by using `signnames.csv` (same directory). This file has a mapping from the class id (0-42) to the corresponding sign name. So, you could take the class id the model outputs, lookup the name in `signnames.csv` and see if it matches the sign from the image._\n"
   ]
  },
  {
   "cell_type": "markdown",
   "metadata": {},
   "source": [
    "**Answer:**"
   ]
  },
  {
   "cell_type": "markdown",
   "metadata": {},
   "source": [
    "As the summary report above indicates, the prediction accuracy is 83.3% and therefore all the errors are caused by misrecognition of ID 1 & 14. Compared with the test accuracy of 97.32% in question 3, the prediction accuracy is slightly lower than that. \n",
    "\n",
    "Before testing the model on new images like ID 1 & 14, I also test this model with some images similar to training images and received all 100% prediction accuracy. So I can conclude that I might need a more advanced data augmentation techniques or more signal images to add more information on signal traffic recognitions."
   ]
  },
  {
   "cell_type": "markdown",
   "metadata": {},
   "source": [
    "### Question 8\n",
    "\n",
    "*Use the model's softmax probabilities to visualize the **certainty** of its predictions, [`tf.nn.top_k`](https://www.tensorflow.org/versions/r0.12/api_docs/python/nn.html#top_k) could prove helpful here. Which predictions is the model certain of? Uncertain? If the model was incorrect in its initial prediction, does the correct prediction appear in the top k? (k should be 5 at most)*\n",
    "\n",
    "`tf.nn.top_k` will return the values and indices (class ids) of the top k predictions. So if k=3, for each sign, it'll return the 3 largest probabilities (out of a possible 43) and the correspoding class ids.\n",
    "\n",
    "Take this numpy array as an example:\n",
    "\n",
    "```\n",
    "# (5, 6) array\n",
    "a = np.array([[ 0.24879643,  0.07032244,  0.12641572,  0.34763842,  0.07893497,\n",
    "         0.12789202],\n",
    "       [ 0.28086119,  0.27569815,  0.08594638,  0.0178669 ,  0.18063401,\n",
    "         0.15899337],\n",
    "       [ 0.26076848,  0.23664738,  0.08020603,  0.07001922,  0.1134371 ,\n",
    "         0.23892179],\n",
    "       [ 0.11943333,  0.29198961,  0.02605103,  0.26234032,  0.1351348 ,\n",
    "         0.16505091],\n",
    "       [ 0.09561176,  0.34396535,  0.0643941 ,  0.16240774,  0.24206137,\n",
    "         0.09155967]])\n",
    "```\n",
    "\n",
    "Running it through `sess.run(tf.nn.top_k(tf.constant(a), k=3))` produces:\n",
    "\n",
    "```\n",
    "TopKV2(values=array([[ 0.34763842,  0.24879643,  0.12789202],\n",
    "       [ 0.28086119,  0.27569815,  0.18063401],\n",
    "       [ 0.26076848,  0.23892179,  0.23664738],\n",
    "       [ 0.29198961,  0.26234032,  0.16505091],\n",
    "       [ 0.34396535,  0.24206137,  0.16240774]]), indices=array([[3, 0, 5],\n",
    "       [0, 1, 4],\n",
    "       [0, 5, 1],\n",
    "       [1, 3, 5],\n",
    "       [1, 4, 3]], dtype=int32))\n",
    "```\n",
    "\n",
    "Looking just at the first row we get `[ 0.34763842,  0.24879643,  0.12789202]`, you can confirm these are the 3 largest probabilities in `a`. You'll also notice `[3, 0, 5]` are the corresponding indices."
   ]
  },
  {
   "cell_type": "markdown",
   "metadata": {},
   "source": [
    "**Answer:**"
   ]
  },
  {
   "cell_type": "code",
   "execution_count": 15,
   "metadata": {
    "collapsed": false
   },
   "outputs": [
    {
     "data": {
      "image/png": "[encoded data removed]",
      "text/plain": [
       "<matplotlib.figure.Figure at 0x24093202710>"
      ]
     },
     "metadata": {},
     "output_type": "display_data"
    }
   ],
   "source": [
    "### Visualize the softmax probabilities here.\n",
    "### Feel free to use as many code cells as needed.\n",
    "\n",
    "ns=10  # the x locations for the values\n",
    "width = 0.5     # the width of the bars\n",
    "colors = ['g','#624ea7','#624ea7','#624ea7','#624ea7']\n",
    "\n",
    "for i in range(ns):\n",
    "    plt.subplot(10, 2, i+1)\n",
    "    values = top_k[0][i]\n",
    "    plt.bar(np.arange(5), values, width, color=colors)\n",
    "    plt.ylabel('Predicted Prob')\n",
    "    plt.grid(which='major', alpha=0.15)\n",
    "    plt.title(\"Image ID: \"+str(correct_val[i]))\n",
    "    plt.xticks(np.arange(5), tuple(top_k[1][i]))\n",
    "\n",
    "fig = plt.gcf()\n",
    "fig.set_size_inches(15, 50)\n",
    "plt.show()"
   ]
  },
  {
   "cell_type": "markdown",
   "metadata": {},
   "source": [
    "Based on the report above, I find that both image 1 & 14 are not even ranked in the top 5. More specifically, Image 1(Speed limit 30) is most-likely mis-recognized as image 5(Speed limit 80) while image 14(STOP sign) is most likely to be classified as image 9(No Passing)."
   ]
  },
  {
   "cell_type": "markdown",
   "metadata": {},
   "source": [
    "> **Note**: Once you have completed all of the code implementations and successfully answered each question above, you may finalize your work by exporting the iPython Notebook as an HTML document. You can do this by using the menu above and navigating to  \\n\",\n",
    "    \"**File -> Download as -> HTML (.html)**. Include the finished document along with this notebook as your submission."
   ]
  },
  {
   "cell_type": "code",
   "execution_count": null,
   "metadata": {
    "collapsed": true
   },
   "outputs": [],
   "source": []
  }
 ],
 "metadata": {
  "anaconda-cloud": {},
  "kernelspec": {
   "display_name": "Python [conda env:tensorflow-gpu]",
   "language": "python",
   "name": "conda-env-tensorflow-gpu-py"
  },
  "language_info": {
   "codemirror_mode": {
    "name": "ipython",
    "version": 3
   },
   "file_extension": ".py",
   "mimetype": "text/x-python",
   "name": "python",
   "nbconvert_exporter": "python",
   "pygments_lexer": "ipython3",
   "version": "3.5.2"
  },
  "widgets": {
   "state": {},
   "version": "1.1.2"
  }
 },
 "nbformat": 4,
 "nbformat_minor": 1
}
